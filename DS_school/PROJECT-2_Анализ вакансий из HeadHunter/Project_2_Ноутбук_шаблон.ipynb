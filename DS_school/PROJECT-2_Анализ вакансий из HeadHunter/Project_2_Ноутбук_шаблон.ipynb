{
  "cells": [
    {
      "cell_type": "markdown",
      "id": "42289889-bd57-434e-9637-d3e354756316",
      "metadata": {
        "id": "42289889-bd57-434e-9637-d3e354756316"
      },
      "source": [
        "<center> <img src = https://raw.githubusercontent.com/AndreyRysistov/DatasetsForPandas/main/hh%20label.jpg alt=\"drawing\" style=\"width:400px;\">"
      ]
    },
    {
      "cell_type": "markdown",
      "id": "829cb75b-f14e-4ba8-9195-7ba929a7d656",
      "metadata": {
        "id": "829cb75b-f14e-4ba8-9195-7ba929a7d656",
        "tags": []
      },
      "source": [
        "# <center> Проект: Анализ вакансий из HeadHunter\n",
        "   "
      ]
    },
    {
      "cell_type": "code",
      "execution_count": 654,
      "id": "dccfde33-2452-43fb-a8a5-5c6ebc02a71d",
      "metadata": {
        "id": "dccfde33-2452-43fb-a8a5-5c6ebc02a71d"
      },
      "outputs": [],
      "source": [
        "import pandas as pd\n",
        "import psycopg2\n",
        "import warnings\n",
        "warnings.filterwarnings('ignore')\n",
        "import requests\n",
        "from bs4 import BeautifulSoup\n",
        "from pprint import pprint\n",
        "import matplotlib.pyplot as plt\n",
        "import seaborn as sns"
      ]
    },
    {
      "cell_type": "code",
      "execution_count": 655,
      "id": "oVKH4ehvf8Ay",
      "metadata": {
        "id": "oVKH4ehvf8Ay"
      },
      "outputs": [],
      "source": [
        "# вставьте сюда параметры подключения из юнита 1. Работа с базой данных из Python\n",
        "DBNAME = 'project_sql'\n",
        "USER = 'skillfactory'\n",
        "PASSWORD = 'cCkxxLVrDE8EbvjueeMedPKt'\n",
        "HOST = '84.201.134.129'\n",
        "PORT = 5432 "
      ]
    },
    {
      "cell_type": "code",
      "execution_count": 656,
      "id": "G4X_q8KBf7SF",
      "metadata": {
        "id": "G4X_q8KBf7SF"
      },
      "outputs": [],
      "source": [
        "connection = psycopg2.connect(\n",
        "    dbname=DBNAME,\n",
        "    user=USER,\n",
        "    host=HOST,\n",
        "    password=PASSWORD,\n",
        "    port=PORT\n",
        ")"
      ]
    },
    {
      "cell_type": "markdown",
      "id": "0dc6476b-7a00-44f1-ac93-6e3baed33a29",
      "metadata": {
        "id": "0dc6476b-7a00-44f1-ac93-6e3baed33a29"
      },
      "source": [
        "# Юнит 3. Предварительный анализ данных"
      ]
    },
    {
      "cell_type": "markdown",
      "id": "889782b6-8d1c-410e-8920-e57f27917c64",
      "metadata": {
        "id": "889782b6-8d1c-410e-8920-e57f27917c64"
      },
      "source": [
        "1. Напишите запрос, который посчитает количество вакансий в нашей базе (вакансии находятся в таблице vacancies). "
      ]
    },
    {
      "cell_type": "code",
      "execution_count": 657,
      "id": "bc39e68e-ed02-4ee2-9235-7258a2f867a8",
      "metadata": {
        "id": "bc39e68e-ed02-4ee2-9235-7258a2f867a8"
      },
      "outputs": [],
      "source": [
        "# текст запроса\n",
        "query_3_1 = f'''select\n",
        "                    count(*) \"Количество вакансий\"\n",
        "                from\n",
        "                    public.vacancies\n",
        "'''"
      ]
    },
    {
      "cell_type": "code",
      "execution_count": 658,
      "id": "7mAwtsk4hEHY",
      "metadata": {
        "id": "7mAwtsk4hEHY"
      },
      "outputs": [
        {
          "name": "stdout",
          "output_type": "stream",
          "text": [
            "Количество вакансий составляет: 49197\n"
          ]
        }
      ],
      "source": [
        "# результат запроса\n",
        "vacan_qty = pd.read_sql_query(query_3_1, connection)\n",
        "answer = vacan_qty['Количество вакансий'][0]\n",
        "#display(vacan_qty)\n",
        "print(f'Количество вакансий составляет: {answer}')"
      ]
    },
    {
      "cell_type": "markdown",
      "id": "b583485d-1f9e-494e-ada4-80ffff7c53d6",
      "metadata": {
        "id": "b583485d-1f9e-494e-ada4-80ffff7c53d6"
      },
      "source": [
        "2. Напишите запрос, который посчитает количество работодателей (таблица employers). "
      ]
    },
    {
      "cell_type": "code",
      "execution_count": 659,
      "id": "5408c52c-3407-4a63-b25b-1aafa2322d28",
      "metadata": {
        "id": "5408c52c-3407-4a63-b25b-1aafa2322d28"
      },
      "outputs": [],
      "source": [
        "# текст запроса\n",
        "query_3_2 = f'''select\n",
        "                    count(*) \"Количество работадателей\"\n",
        "                from\n",
        "                    public.employers\n",
        "'''"
      ]
    },
    {
      "cell_type": "code",
      "execution_count": 660,
      "id": "jVL4eshKhdqc",
      "metadata": {
        "id": "jVL4eshKhdqc"
      },
      "outputs": [
        {
          "name": "stdout",
          "output_type": "stream",
          "text": [
            "Количество работадателей составляет: 23501\n"
          ]
        }
      ],
      "source": [
        "# результат запроса\\\n",
        "employer_qty = pd.read_sql_query(query_3_2, connection)\n",
        "answer = employer_qty['Количество работадателей'][0]\n",
        "#display(employer_qty)\n",
        "print(f'Количество работадателей составляет: {answer}')"
      ]
    },
    {
      "cell_type": "markdown",
      "id": "a2bfff1f-c975-4bf6-84be-2185d79dcb76",
      "metadata": {
        "id": "a2bfff1f-c975-4bf6-84be-2185d79dcb76"
      },
      "source": [
        "3. Посчитате с помощью запроса количество регионов (таблица areas)."
      ]
    },
    {
      "cell_type": "code",
      "execution_count": 661,
      "id": "1m8QJwBYhey6",
      "metadata": {
        "id": "1m8QJwBYhey6"
      },
      "outputs": [],
      "source": [
        "# текст запроса\n",
        "query_3_3 = f'''select\n",
        "                    count(*) \"Количество регионов\"\n",
        "                from \n",
        "                    public.areas\n",
        "'''"
      ]
    },
    {
      "cell_type": "code",
      "execution_count": 662,
      "id": "EZsn9tlfhe7f",
      "metadata": {
        "id": "EZsn9tlfhe7f"
      },
      "outputs": [
        {
          "name": "stdout",
          "output_type": "stream",
          "text": [
            "Количество регионов составляет: 1362\n"
          ]
        }
      ],
      "source": [
        "# результат запроса\n",
        "area_qty = pd.read_sql_query(query_3_3, connection)\n",
        "#display(area_qty)\n",
        "answer = area_qty['Количество регионов'][0]\n",
        "print(f'Количество регионов составляет: {answer}')"
      ]
    },
    {
      "cell_type": "markdown",
      "id": "41bb59f3-53cc-4a67-a5bc-bedf573955e4",
      "metadata": {
        "id": "41bb59f3-53cc-4a67-a5bc-bedf573955e4"
      },
      "source": [
        "4. Посчитате с помощью запроса количество сфер деятельности в базе (таблица industries)."
      ]
    },
    {
      "cell_type": "code",
      "execution_count": 663,
      "id": "d286cf4c-707b-4cd2-9190-7ab3587d04a1",
      "metadata": {
        "id": "d286cf4c-707b-4cd2-9190-7ab3587d04a1"
      },
      "outputs": [],
      "source": [
        "# текст запроса\n",
        "query_3_4 = '''select\n",
        "                    count(*) \"Количество сфер деятельности\"\n",
        "                from\n",
        "                    public.industries\n",
        "'''"
      ]
    },
    {
      "cell_type": "code",
      "execution_count": 664,
      "id": "JYAaoZ4qhfzW",
      "metadata": {
        "id": "JYAaoZ4qhfzW"
      },
      "outputs": [
        {
          "name": "stdout",
          "output_type": "stream",
          "text": [
            "Количество сфер деятельности составляет: 294\n"
          ]
        }
      ],
      "source": [
        "# результат запроса\n",
        "indust_qty = pd.read_sql_query(query_3_4, connection)\n",
        "#display(indust_qty)\n",
        "answer = indust_qty['Количество сфер деятельности'][0]\n",
        "print(f'Количество сфер деятельности составляет: {answer}')"
      ]
    },
    {
      "cell_type": "markdown",
      "id": "9a8a2181-6914-448b-85f1-38f5f18b8a93",
      "metadata": {
        "id": "9a8a2181-6914-448b-85f1-38f5f18b8a93"
      },
      "source": [
        "***"
      ]
    },
    {
      "cell_type": "code",
      "execution_count": 665,
      "id": "be4e9bd3-a4db-4a20-82fb-6b02fc2957e0",
      "metadata": {
        "id": "be4e9bd3-a4db-4a20-82fb-6b02fc2957e0"
      },
      "outputs": [
        {
          "data": {
            "text/html": [
              "<div>\n",
              "<style scoped>\n",
              "    .dataframe tbody tr th:only-of-type {\n",
              "        vertical-align: middle;\n",
              "    }\n",
              "\n",
              "    .dataframe tbody tr th {\n",
              "        vertical-align: top;\n",
              "    }\n",
              "\n",
              "    .dataframe thead th {\n",
              "        text-align: right;\n",
              "    }\n",
              "</style>\n",
              "<table border=\"1\" class=\"dataframe\">\n",
              "  <thead>\n",
              "    <tr style=\"text-align: right;\">\n",
              "      <th></th>\n",
              "      <th>Количество вакансий</th>\n",
              "      <th>Количество работадателей</th>\n",
              "      <th>Количество регионов</th>\n",
              "      <th>Количество сфер деятельности</th>\n",
              "      <th>Вакансии в регионе (среднее)</th>\n",
              "      <th>Вакансий на работодателя (среднее)</th>\n",
              "    </tr>\n",
              "  </thead>\n",
              "  <tbody>\n",
              "    <tr>\n",
              "      <th>0</th>\n",
              "      <td>49197</td>\n",
              "      <td>23501</td>\n",
              "      <td>1362</td>\n",
              "      <td>294</td>\n",
              "      <td>36.0</td>\n",
              "      <td>2.0</td>\n",
              "    </tr>\n",
              "  </tbody>\n",
              "</table>\n",
              "</div>"
            ],
            "text/plain": [
              "   Количество вакансий  Количество работадателей  Количество регионов  \\\n",
              "0                49197                     23501                 1362   \n",
              "\n",
              "   Количество сфер деятельности  Вакансии в регионе (среднее)  \\\n",
              "0                           294                          36.0   \n",
              "\n",
              "   Вакансий на работодателя (среднее)  \n",
              "0                                 2.0  "
            ]
          },
          "metadata": {},
          "output_type": "display_data"
        }
      ],
      "source": [
        "# выводы по предварительному анализу данных\n",
        "totals = pd.concat([vacan_qty, employer_qty, area_qty, indust_qty], axis=1)\n",
        "totals['Вакансии в регионе (среднее)'] = round(totals['Количество вакансий'] / totals['Количество регионов'])\n",
        "totals['Вакансий на работодателя (среднее)'] = round(totals['Количество вакансий'] / totals['Количество работадателей'])\n",
        "display(totals)\n",
        "\n"
      ]
    },
    {
      "cell_type": "markdown",
      "id": "94f9bc7c",
      "metadata": {},
      "source": [
        "Предварительный анализ показывает, что при относительно большом количестве работодателей и регионов, количество вакансий достаточно скромное (всего две вакансии в среднем на работодателя и 36 вакансий в среднем в каждом регионе). Это может свидетельствовать о том, что далеко не во всех регионах вакансии распределены равномерно: есть регионы с очень большим количеством вакансий (наиболее крупные города), в небольших городах ситуация абсолютно противоположная - такие города зачастую сами являются донорами трудовых ресурсов для крупных городов, исключением могут являться небольшие города, куда в основном приезжают работать вахтовым методом (добыча полезных ископаемых, сезонная работа по добыче биоресурсов (например, путина лосося на Дальнем Востоке), моногорода с крупными промышленными предприятиями). Аналогично вакансии очень неравномерно распределены и среди работодателей - у крупных команий могут быть сотни вакансий, тогда как у небольших предприятий всего одна - две вакансии. Дальнейший анализ покажет, как же происходит распределение вакансий, и какие работодатели преобладают на рынке."
      ]
    },
    {
      "cell_type": "markdown",
      "id": "8d62a9f3-f64e-4fe7-bdac-c4dffa16155e",
      "metadata": {
        "id": "8d62a9f3-f64e-4fe7-bdac-c4dffa16155e"
      },
      "source": [
        "# Юнит 4. Детальный анализ вакансий"
      ]
    },
    {
      "cell_type": "markdown",
      "id": "93053d3d-b284-481a-9cf7-012d7014c0e0",
      "metadata": {
        "id": "93053d3d-b284-481a-9cf7-012d7014c0e0"
      },
      "source": [
        "1. Напишите запрос, который позволит узнать, сколько (cnt) вакансий в каждом регионе (area).\n",
        "Отсортируйте по количеству вакансий в порядке убывания."
      ]
    },
    {
      "cell_type": "code",
      "execution_count": 666,
      "id": "3f069da6-fdc9-4ae7-b514-fafe2675efd3",
      "metadata": {
        "id": "3f069da6-fdc9-4ae7-b514-fafe2675efd3"
      },
      "outputs": [],
      "source": [
        "# текст запроса\n",
        "query_4_1 = '''select\n",
        "                    a.name \"Регион\",\n",
        "                    count(v.id) \"Количество вакансий\"\n",
        "                from \n",
        "                    public.areas a\n",
        "                join \n",
        "                    public.vacancies v on a.id = v.area_id\n",
        "                group by 1\n",
        "                order by 2 desc\n",
        "'''"
      ]
    },
    {
      "cell_type": "code",
      "execution_count": 667,
      "id": "P7QL86hrjhRJ",
      "metadata": {
        "id": "P7QL86hrjhRJ"
      },
      "outputs": [
        {
          "name": "stdout",
          "output_type": "stream",
          "text": [
            "Регионы-лидеры по количеству вакансий:\n"
          ]
        },
        {
          "data": {
            "text/html": [
              "<div>\n",
              "<style scoped>\n",
              "    .dataframe tbody tr th:only-of-type {\n",
              "        vertical-align: middle;\n",
              "    }\n",
              "\n",
              "    .dataframe tbody tr th {\n",
              "        vertical-align: top;\n",
              "    }\n",
              "\n",
              "    .dataframe thead th {\n",
              "        text-align: right;\n",
              "    }\n",
              "</style>\n",
              "<table border=\"1\" class=\"dataframe\">\n",
              "  <thead>\n",
              "    <tr style=\"text-align: right;\">\n",
              "      <th></th>\n",
              "      <th>Регион</th>\n",
              "      <th>Количество вакансий</th>\n",
              "    </tr>\n",
              "  </thead>\n",
              "  <tbody>\n",
              "    <tr>\n",
              "      <th>0</th>\n",
              "      <td>Москва</td>\n",
              "      <td>5333</td>\n",
              "    </tr>\n",
              "    <tr>\n",
              "      <th>1</th>\n",
              "      <td>Санкт-Петербург</td>\n",
              "      <td>2851</td>\n",
              "    </tr>\n",
              "    <tr>\n",
              "      <th>2</th>\n",
              "      <td>Минск</td>\n",
              "      <td>2112</td>\n",
              "    </tr>\n",
              "    <tr>\n",
              "      <th>3</th>\n",
              "      <td>Новосибирск</td>\n",
              "      <td>2006</td>\n",
              "    </tr>\n",
              "    <tr>\n",
              "      <th>4</th>\n",
              "      <td>Алматы</td>\n",
              "      <td>1892</td>\n",
              "    </tr>\n",
              "    <tr>\n",
              "      <th>5</th>\n",
              "      <td>Екатеринбург</td>\n",
              "      <td>1698</td>\n",
              "    </tr>\n",
              "    <tr>\n",
              "      <th>6</th>\n",
              "      <td>Нижний Новгород</td>\n",
              "      <td>1670</td>\n",
              "    </tr>\n",
              "    <tr>\n",
              "      <th>7</th>\n",
              "      <td>Казань</td>\n",
              "      <td>1415</td>\n",
              "    </tr>\n",
              "    <tr>\n",
              "      <th>8</th>\n",
              "      <td>Краснодар</td>\n",
              "      <td>1301</td>\n",
              "    </tr>\n",
              "    <tr>\n",
              "      <th>9</th>\n",
              "      <td>Самара</td>\n",
              "      <td>1144</td>\n",
              "    </tr>\n",
              "    <tr>\n",
              "      <th>10</th>\n",
              "      <td>Ростов-на-Дону</td>\n",
              "      <td>1131</td>\n",
              "    </tr>\n",
              "    <tr>\n",
              "      <th>11</th>\n",
              "      <td>Воронеж</td>\n",
              "      <td>1063</td>\n",
              "    </tr>\n",
              "    <tr>\n",
              "      <th>12</th>\n",
              "      <td>Ташкент</td>\n",
              "      <td>851</td>\n",
              "    </tr>\n",
              "    <tr>\n",
              "      <th>13</th>\n",
              "      <td>Красноярск</td>\n",
              "      <td>847</td>\n",
              "    </tr>\n",
              "    <tr>\n",
              "      <th>14</th>\n",
              "      <td>Нур-Султан</td>\n",
              "      <td>840</td>\n",
              "    </tr>\n",
              "    <tr>\n",
              "      <th>15</th>\n",
              "      <td>Челябинск</td>\n",
              "      <td>786</td>\n",
              "    </tr>\n",
              "    <tr>\n",
              "      <th>16</th>\n",
              "      <td>Пермь</td>\n",
              "      <td>771</td>\n",
              "    </tr>\n",
              "    <tr>\n",
              "      <th>17</th>\n",
              "      <td>Уфа</td>\n",
              "      <td>767</td>\n",
              "    </tr>\n",
              "    <tr>\n",
              "      <th>18</th>\n",
              "      <td>Томск</td>\n",
              "      <td>692</td>\n",
              "    </tr>\n",
              "    <tr>\n",
              "      <th>19</th>\n",
              "      <td>Омск</td>\n",
              "      <td>617</td>\n",
              "    </tr>\n",
              "  </tbody>\n",
              "</table>\n",
              "</div>"
            ],
            "text/plain": [
              "             Регион  Количество вакансий\n",
              "0            Москва                 5333\n",
              "1   Санкт-Петербург                 2851\n",
              "2             Минск                 2112\n",
              "3       Новосибирск                 2006\n",
              "4            Алматы                 1892\n",
              "5      Екатеринбург                 1698\n",
              "6   Нижний Новгород                 1670\n",
              "7            Казань                 1415\n",
              "8         Краснодар                 1301\n",
              "9            Самара                 1144\n",
              "10   Ростов-на-Дону                 1131\n",
              "11          Воронеж                 1063\n",
              "12          Ташкент                  851\n",
              "13       Красноярск                  847\n",
              "14       Нур-Султан                  840\n",
              "15        Челябинск                  786\n",
              "16            Пермь                  771\n",
              "17              Уфа                  767\n",
              "18            Томск                  692\n",
              "19             Омск                  617"
            ]
          },
          "metadata": {},
          "output_type": "display_data"
        }
      ],
      "source": [
        "# результат запроса\n",
        "area_vacan = pd.read_sql_query(query_4_1, connection)\n",
        "print('Регионы-лидеры по количеству вакансий:')\n",
        "display(area_vacan.head(20))"
      ]
    },
    {
      "cell_type": "markdown",
      "id": "4266f0b6-1646-492a-88b4-2f6a46502135",
      "metadata": {
        "id": "4266f0b6-1646-492a-88b4-2f6a46502135"
      },
      "source": [
        "2. Напишите запрос, чтобы определить у какого количества вакансий заполнено хотя бы одно из двух полей с зарплатой."
      ]
    },
    {
      "cell_type": "code",
      "execution_count": 668,
      "id": "0c44b350-72eb-4d65-8b54-a1fc449ba9fd",
      "metadata": {
        "id": "0c44b350-72eb-4d65-8b54-a1fc449ba9fd"
      },
      "outputs": [],
      "source": [
        "# текст запрос\n",
        "query_4_2 = '''select\n",
        "                    'ЗП указана' \"Указана ли ЗП?\",    \n",
        "                    count(*) \"Количество вакансий\"\n",
        "                from\n",
        "                    public.vacancies\n",
        "                where \n",
        "                    salary_from is not null\n",
        "                or \n",
        "                    salary_to is not null\n",
        "                    \n",
        "                union all\n",
        "                \n",
        "                select\n",
        "                    'ЗП не указана',\n",
        "                    count(*)\n",
        "                from\n",
        "                    public.vacancies\n",
        "                where \n",
        "                    salary_from is null and salary_to is null\n",
        "                order by 2    \n",
        "                \n",
        "'''"
      ]
    },
    {
      "cell_type": "code",
      "execution_count": 669,
      "id": "rhvwaMDkoWTi",
      "metadata": {
        "id": "rhvwaMDkoWTi"
      },
      "outputs": [
        {
          "data": {
            "text/html": [
              "<div>\n",
              "<style scoped>\n",
              "    .dataframe tbody tr th:only-of-type {\n",
              "        vertical-align: middle;\n",
              "    }\n",
              "\n",
              "    .dataframe tbody tr th {\n",
              "        vertical-align: top;\n",
              "    }\n",
              "\n",
              "    .dataframe thead th {\n",
              "        text-align: right;\n",
              "    }\n",
              "</style>\n",
              "<table border=\"1\" class=\"dataframe\">\n",
              "  <thead>\n",
              "    <tr style=\"text-align: right;\">\n",
              "      <th></th>\n",
              "      <th>Указана ли ЗП?</th>\n",
              "      <th>Количество вакансий</th>\n",
              "    </tr>\n",
              "  </thead>\n",
              "  <tbody>\n",
              "    <tr>\n",
              "      <th>0</th>\n",
              "      <td>ЗП указана</td>\n",
              "      <td>24073</td>\n",
              "    </tr>\n",
              "    <tr>\n",
              "      <th>1</th>\n",
              "      <td>ЗП не указана</td>\n",
              "      <td>25124</td>\n",
              "    </tr>\n",
              "  </tbody>\n",
              "</table>\n",
              "</div>"
            ],
            "text/plain": [
              "  Указана ли ЗП?  Количество вакансий\n",
              "0     ЗП указана                24073\n",
              "1  ЗП не указана                25124"
            ]
          },
          "metadata": {},
          "output_type": "display_data"
        }
      ],
      "source": [
        "# результат запроса\n",
        "vacan_salaries = pd.read_sql_query(query_4_2, connection)\n",
        "#display(vacan_salaries)\n",
        "#answer = vacan_salaries['Вакансии с заполненной ЗП'][1]\n",
        "#print(f'Количество вакансий с заполненными полями ЗП составляет: {answer}')\n",
        "\n",
        "display(vacan_salaries)"
      ]
    },
    {
      "cell_type": "markdown",
      "id": "635c4d5d-f323-4c66-b428-50a088120aa0",
      "metadata": {
        "id": "635c4d5d-f323-4c66-b428-50a088120aa0"
      },
      "source": [
        "3. Найдите средние значения для нижней и верхней границы зарплатной вилки. Округлите значения до целого."
      ]
    },
    {
      "cell_type": "code",
      "execution_count": 670,
      "id": "603cdbe4-0ec3-4106-8eaf-c73fcdd29165",
      "metadata": {
        "id": "603cdbe4-0ec3-4106-8eaf-c73fcdd29165"
      },
      "outputs": [],
      "source": [
        "# текст запроса\n",
        "query_4_3 = '''select\n",
        "                    round(avg(salary_from)) \"Среднее нижней границы ЗП\",\n",
        "                    round(avg(salary_to)) \"Среднее верхней границы ЗП\"\n",
        "                from\n",
        "                    public.vacancies\n",
        "'''"
      ]
    },
    {
      "cell_type": "code",
      "execution_count": 671,
      "id": "pswpAb66ovZZ",
      "metadata": {
        "id": "pswpAb66ovZZ"
      },
      "outputs": [
        {
          "name": "stdout",
          "output_type": "stream",
          "text": [
            "Среднее значение нижней границы зарплатной вилки: 71065.0 рублей\n",
            "Среднее значение верхней границы зарплатной вилки: 110537.0 рублей\n"
          ]
        }
      ],
      "source": [
        "# результат запроса\n",
        "avg_salaries = pd.read_sql_query(query_4_3, connection)\n",
        "#display(avg_salaries)\n",
        "answer = avg_salaries.loc[0]\n",
        "print(f'Среднее значение нижней границы зарплатной вилки: {answer[0]} рублей')\n",
        "print(f'Среднее значение верхней границы зарплатной вилки: {answer[1]} рублей')"
      ]
    },
    {
      "cell_type": "markdown",
      "id": "f3fdaec9-5fd3-4260-9cf5-1d7406b628a5",
      "metadata": {
        "id": "f3fdaec9-5fd3-4260-9cf5-1d7406b628a5"
      },
      "source": [
        "4. Напишите запрос, который выведет количество вакансий для каждого сочетания типа рабочего графика (schedule) и типа трудоустройства (employment), используемого в вакансиях. Результат отсортируйте по убыванию количества.\n"
      ]
    },
    {
      "cell_type": "code",
      "execution_count": 712,
      "id": "1ea710ec-871b-431e-9462-c7d0fd87011b",
      "metadata": {
        "id": "1ea710ec-871b-431e-9462-c7d0fd87011b"
      },
      "outputs": [],
      "source": [
        "# текст запроса\n",
        "query_4_4 = '''select                    \n",
        "                    schedule || '/' || employment \"График/Трудоустройство\",\n",
        "                    count(*) \"Количество вакансий\"\n",
        "                from\n",
        "                    public.vacancies\n",
        "                group by schedule, employment\n",
        "                order by 2 desc \n",
        "'''"
      ]
    },
    {
      "cell_type": "code",
      "execution_count": 713,
      "id": "lGUVqavdo4JQ",
      "metadata": {
        "id": "lGUVqavdo4JQ"
      },
      "outputs": [
        {
          "data": {
            "text/html": [
              "<div>\n",
              "<style scoped>\n",
              "    .dataframe tbody tr th:only-of-type {\n",
              "        vertical-align: middle;\n",
              "    }\n",
              "\n",
              "    .dataframe tbody tr th {\n",
              "        vertical-align: top;\n",
              "    }\n",
              "\n",
              "    .dataframe thead th {\n",
              "        text-align: right;\n",
              "    }\n",
              "</style>\n",
              "<table border=\"1\" class=\"dataframe\">\n",
              "  <thead>\n",
              "    <tr style=\"text-align: right;\">\n",
              "      <th></th>\n",
              "      <th>График/Трудоустройство</th>\n",
              "      <th>Количество вакансий</th>\n",
              "    </tr>\n",
              "  </thead>\n",
              "  <tbody>\n",
              "    <tr>\n",
              "      <th>0</th>\n",
              "      <td>Полный день/Полная занятость</td>\n",
              "      <td>35367</td>\n",
              "    </tr>\n",
              "    <tr>\n",
              "      <th>1</th>\n",
              "      <td>Удаленная работа/Полная занятость</td>\n",
              "      <td>7802</td>\n",
              "    </tr>\n",
              "    <tr>\n",
              "      <th>2</th>\n",
              "      <td>Гибкий график/Полная занятость</td>\n",
              "      <td>1593</td>\n",
              "    </tr>\n",
              "    <tr>\n",
              "      <th>3</th>\n",
              "      <td>Удаленная работа/Частичная занятость</td>\n",
              "      <td>1312</td>\n",
              "    </tr>\n",
              "    <tr>\n",
              "      <th>4</th>\n",
              "      <td>Сменный график/Полная занятость</td>\n",
              "      <td>940</td>\n",
              "    </tr>\n",
              "    <tr>\n",
              "      <th>5</th>\n",
              "      <td>Полный день/Стажировка</td>\n",
              "      <td>569</td>\n",
              "    </tr>\n",
              "    <tr>\n",
              "      <th>6</th>\n",
              "      <td>Вахтовый метод/Полная занятость</td>\n",
              "      <td>367</td>\n",
              "    </tr>\n",
              "    <tr>\n",
              "      <th>7</th>\n",
              "      <td>Полный день/Частичная занятость</td>\n",
              "      <td>347</td>\n",
              "    </tr>\n",
              "    <tr>\n",
              "      <th>8</th>\n",
              "      <td>Гибкий график/Частичная занятость</td>\n",
              "      <td>312</td>\n",
              "    </tr>\n",
              "    <tr>\n",
              "      <th>9</th>\n",
              "      <td>Полный день/Проектная работа</td>\n",
              "      <td>141</td>\n",
              "    </tr>\n",
              "    <tr>\n",
              "      <th>10</th>\n",
              "      <td>Удаленная работа/Проектная работа</td>\n",
              "      <td>133</td>\n",
              "    </tr>\n",
              "    <tr>\n",
              "      <th>11</th>\n",
              "      <td>Гибкий график/Стажировка</td>\n",
              "      <td>116</td>\n",
              "    </tr>\n",
              "    <tr>\n",
              "      <th>12</th>\n",
              "      <td>Сменный график/Частичная занятость</td>\n",
              "      <td>101</td>\n",
              "    </tr>\n",
              "    <tr>\n",
              "      <th>13</th>\n",
              "      <td>Удаленная работа/Стажировка</td>\n",
              "      <td>64</td>\n",
              "    </tr>\n",
              "    <tr>\n",
              "      <th>14</th>\n",
              "      <td>Гибкий график/Проектная работа</td>\n",
              "      <td>18</td>\n",
              "    </tr>\n",
              "    <tr>\n",
              "      <th>15</th>\n",
              "      <td>Сменный график/Стажировка</td>\n",
              "      <td>12</td>\n",
              "    </tr>\n",
              "    <tr>\n",
              "      <th>16</th>\n",
              "      <td>Вахтовый метод/Проектная работа</td>\n",
              "      <td>2</td>\n",
              "    </tr>\n",
              "    <tr>\n",
              "      <th>17</th>\n",
              "      <td>Сменный график/Проектная работа</td>\n",
              "      <td>1</td>\n",
              "    </tr>\n",
              "  </tbody>\n",
              "</table>\n",
              "</div>"
            ],
            "text/plain": [
              "                  График/Трудоустройство  Количество вакансий\n",
              "0           Полный день/Полная занятость                35367\n",
              "1      Удаленная работа/Полная занятость                 7802\n",
              "2         Гибкий график/Полная занятость                 1593\n",
              "3   Удаленная работа/Частичная занятость                 1312\n",
              "4        Сменный график/Полная занятость                  940\n",
              "5                 Полный день/Стажировка                  569\n",
              "6        Вахтовый метод/Полная занятость                  367\n",
              "7        Полный день/Частичная занятость                  347\n",
              "8      Гибкий график/Частичная занятость                  312\n",
              "9           Полный день/Проектная работа                  141\n",
              "10     Удаленная работа/Проектная работа                  133\n",
              "11              Гибкий график/Стажировка                  116\n",
              "12    Сменный график/Частичная занятость                  101\n",
              "13           Удаленная работа/Стажировка                   64\n",
              "14        Гибкий график/Проектная работа                   18\n",
              "15             Сменный график/Стажировка                   12\n",
              "16       Вахтовый метод/Проектная работа                    2\n",
              "17       Сменный график/Проектная работа                    1"
            ]
          },
          "metadata": {},
          "output_type": "display_data"
        },
        {
          "name": "stdout",
          "output_type": "stream",
          "text": [
            "\n",
            "Вторая по популярности пара \"график работы - тип трудоустройства\":\n"
          ]
        },
        {
          "data": {
            "text/html": [
              "<div>\n",
              "<style scoped>\n",
              "    .dataframe tbody tr th:only-of-type {\n",
              "        vertical-align: middle;\n",
              "    }\n",
              "\n",
              "    .dataframe tbody tr th {\n",
              "        vertical-align: top;\n",
              "    }\n",
              "\n",
              "    .dataframe thead th {\n",
              "        text-align: right;\n",
              "    }\n",
              "</style>\n",
              "<table border=\"1\" class=\"dataframe\">\n",
              "  <thead>\n",
              "    <tr style=\"text-align: right;\">\n",
              "      <th></th>\n",
              "      <th>График/Трудоустройство</th>\n",
              "      <th>Количество вакансий</th>\n",
              "    </tr>\n",
              "  </thead>\n",
              "  <tbody>\n",
              "    <tr>\n",
              "      <th>1</th>\n",
              "      <td>Удаленная работа/Полная занятость</td>\n",
              "      <td>7802</td>\n",
              "    </tr>\n",
              "  </tbody>\n",
              "</table>\n",
              "</div>"
            ],
            "text/plain": [
              "              График/Трудоустройство  Количество вакансий\n",
              "1  Удаленная работа/Полная занятость                 7802"
            ]
          },
          "metadata": {},
          "output_type": "display_data"
        }
      ],
      "source": [
        "# результат запроса\n",
        "schedule_employment = pd.read_sql_query(query_4_4, connection)\n",
        "display(schedule_employment)\n",
        "print()\n",
        "print('Вторая по популярности пара \"график работы - тип трудоустройства\":')\n",
        "display(schedule_employment.iloc[[1]])\n"
      ]
    },
    {
      "cell_type": "markdown",
      "id": "0136ffee-0ead-4a6b-b608-61d1c753a438",
      "metadata": {
        "id": "0136ffee-0ead-4a6b-b608-61d1c753a438"
      },
      "source": [
        "5. Напишите запрос, выводящий значения поля Требуемый опыт работы (experience) в порядке возрастания количества вакансий, в которых указан данный вариант опыта. "
      ]
    },
    {
      "cell_type": "code",
      "execution_count": 674,
      "id": "5b3a8e79-f7ab-4008-b767-12aea3a205ea",
      "metadata": {
        "id": "5b3a8e79-f7ab-4008-b767-12aea3a205ea"
      },
      "outputs": [],
      "source": [
        "# текст запроса\n",
        "query_4_5 = '''select\n",
        "                    experience \"Требуемый опыт работы\",\n",
        "                    count(*) \"Количество вакансий\"                    \n",
        "                from\n",
        "                    public.vacancies\n",
        "                where experience is not null\n",
        "                group by 1\n",
        "                order by count(*) \n",
        "'''"
      ]
    },
    {
      "cell_type": "code",
      "execution_count": 675,
      "id": "3Is64Y-hpDpq",
      "metadata": {
        "id": "3Is64Y-hpDpq"
      },
      "outputs": [
        {
          "data": {
            "text/html": [
              "<div>\n",
              "<style scoped>\n",
              "    .dataframe tbody tr th:only-of-type {\n",
              "        vertical-align: middle;\n",
              "    }\n",
              "\n",
              "    .dataframe tbody tr th {\n",
              "        vertical-align: top;\n",
              "    }\n",
              "\n",
              "    .dataframe thead th {\n",
              "        text-align: right;\n",
              "    }\n",
              "</style>\n",
              "<table border=\"1\" class=\"dataframe\">\n",
              "  <thead>\n",
              "    <tr style=\"text-align: right;\">\n",
              "      <th></th>\n",
              "      <th>Требуемый опыт работы</th>\n",
              "      <th>Количество вакансий</th>\n",
              "    </tr>\n",
              "  </thead>\n",
              "  <tbody>\n",
              "    <tr>\n",
              "      <th>0</th>\n",
              "      <td>Более 6 лет</td>\n",
              "      <td>1337</td>\n",
              "    </tr>\n",
              "    <tr>\n",
              "      <th>1</th>\n",
              "      <td>Нет опыта</td>\n",
              "      <td>7197</td>\n",
              "    </tr>\n",
              "    <tr>\n",
              "      <th>2</th>\n",
              "      <td>От 3 до 6 лет</td>\n",
              "      <td>14511</td>\n",
              "    </tr>\n",
              "    <tr>\n",
              "      <th>3</th>\n",
              "      <td>От 1 года до 3 лет</td>\n",
              "      <td>26152</td>\n",
              "    </tr>\n",
              "  </tbody>\n",
              "</table>\n",
              "</div>"
            ],
            "text/plain": [
              "  Требуемый опыт работы  Количество вакансий\n",
              "0           Более 6 лет                 1337\n",
              "1             Нет опыта                 7197\n",
              "2         От 3 до 6 лет                14511\n",
              "3    От 1 года до 3 лет                26152"
            ]
          },
          "metadata": {},
          "output_type": "display_data"
        }
      ],
      "source": [
        "# результат запроса\n",
        "exp_info = pd.read_sql_query(query_4_5, connection)\n",
        "display(exp_info)"
      ]
    },
    {
      "cell_type": "markdown",
      "id": "oq2b7n1QpIka",
      "metadata": {
        "id": "oq2b7n1QpIka"
      },
      "source": [
        "***"
      ]
    },
    {
      "cell_type": "code",
      "execution_count": 727,
      "id": "e91f87ed-e25c-4f96-9f92-b642e8c0b4fa",
      "metadata": {
        "id": "e91f87ed-e25c-4f96-9f92-b642e8c0b4fa"
      },
      "outputs": [
        {
          "data": {
            "image/png": "[encoded data removed]",
            "text/plain": [
              "<Figure size 1500x1100 with 4 Axes>"
            ]
          },
          "metadata": {},
          "output_type": "display_data"
        }
      ],
      "source": [
        "# выводы по детальному анализу вакансий\n",
        "\n",
        "# Данные для первого bar chart\n",
        "employment_data_x = schedule_employment['График/Трудоустройство'].to_list()\n",
        "employment_data_y = schedule_employment['Количество вакансий'].to_list()\n",
        "\n",
        "# Данные для второго bar chart\n",
        "region_data = area_vacan['Регион'].to_list()[:20]\n",
        "vacan_qty = area_vacan['Количество вакансий'].to_list()[:20]\n",
        "\n",
        "# Данные для первого pie chart\n",
        "experience_data = exp_info['Количество вакансий'].to_list()\n",
        "experience_labels = exp_info['Требуемый опыт работы'].to_list()\n",
        "\n",
        "# Данные для второго pie chart\n",
        "salary_data = vacan_salaries['Количество вакансий'].to_list()\n",
        "salary_labels = vacan_salaries['Указана ли ЗП?'].to_list()\n",
        "\n",
        "# Создание subplot\n",
        "fig, axes = plt.subplots(nrows=2, ncols=2, figsize=(15, 11))\n",
        "plt.subplots_adjust(hspace=0.5)\n",
        "\n",
        "# Bar chart для Типа занятости\n",
        "ax1 = axes[0, 0]\n",
        "ax1.bar(employment_data_x, employment_data_y)\n",
        "ax1.set_title(\"Количество вакансий по типу занятости\")\n",
        "ax1.set_ylabel(\"Количество вакансий\")\n",
        "ax1.tick_params(axis='x', rotation=90)\n",
        "for i, v in enumerate(employment_data_y):\n",
        "    ax1.text(i, v + 100, str(v), ha='center')\n",
        "\n",
        "\n",
        "# Bar chart для Регионов\n",
        "ax2 = axes[0, 1]\n",
        "ax2.bar(region_data, vacan_qty)\n",
        "ax2.set_title(\"Количество вакансий в регионах\")\n",
        "ax2.set_ylabel(\"Количество вакансий\")\n",
        "ax2.tick_params(axis='x', rotation=90)\n",
        "for i, v in enumerate(vacan_qty):\n",
        "    ax2.text(i, v + 100, str(v), ha='center')\n",
        "\n",
        "# Pie chart для Требуемого опыта работы\n",
        "ax3 = axes[1, 0]\n",
        "ax3.pie(experience_data, labels=experience_labels, autopct='%1.1f%%')\n",
        "ax3.set_title(\"Требуемый опыт работы\")\n",
        "\n",
        "# Pie chart для Указания ЗП\n",
        "ax4 = axes[1, 1]\n",
        "ax4.pie(salary_data, labels=salary_labels, autopct='%1.1f%%')\n",
        "ax4.set_title(\"Указана ли ЗП?\")\n",
        "\n",
        "# Отобразить графики\n",
        "plt.tight_layout()\n",
        "plt.show()"
      ]
    },
    {
      "cell_type": "markdown",
      "id": "7ea20ab6-04a7-40a0-adec-443a0e5a42c3",
      "metadata": {
        "id": "7ea20ab6-04a7-40a0-adec-443a0e5a42c3"
      },
      "source": [
        "# Юнит 5. Анализ работодателей"
      ]
    },
    {
      "cell_type": "markdown",
      "id": "968aed80-74ef-4ffb-b5bf-c65b84e9caea",
      "metadata": {
        "id": "968aed80-74ef-4ffb-b5bf-c65b84e9caea"
      },
      "source": [
        "1. Напишите запрос, который позволит узнать, какие работодатели находятся на первом и пятом месте по количеству вакансий."
      ]
    },
    {
      "cell_type": "code",
      "execution_count": 677,
      "id": "f2d62796-d400-4ec1-a675-88112739a50e",
      "metadata": {
        "id": "f2d62796-d400-4ec1-a675-88112739a50e"
      },
      "outputs": [],
      "source": [
        "# текст запроса\n",
        "query_5_1 = '''(select\n",
        "                    e.name \"Работодатель\"                    \n",
        "                from\n",
        "                    public.vacancies v\n",
        "                join \n",
        "                    public.employers e on e.id = v.employer_id\n",
        "                group by 1\n",
        "                order by count(v.id) desc\n",
        "                limit 1)\n",
        "                \n",
        "                union all\n",
        "                \n",
        "                (select\n",
        "                    e.name \"Работодатель\"                    \n",
        "                from\n",
        "                    public.vacancies v\n",
        "                join \n",
        "                    public.employers e on e.id = v.employer_id\n",
        "                group by 1\n",
        "                order by count(v.id) desc\n",
        "                offset 4\n",
        "                limit 1)                \n",
        "'''"
      ]
    },
    {
      "cell_type": "code",
      "execution_count": 678,
      "id": "64tOMkAxqkQk",
      "metadata": {
        "id": "64tOMkAxqkQk"
      },
      "outputs": [
        {
          "name": "stdout",
          "output_type": "stream",
          "text": [
            "Работодатели, находящиеся на первом и пятом месте по количеству вакансий: Яндекс и Газпром нефть\n"
          ]
        }
      ],
      "source": [
        "# результат запроса\n",
        "employer_info = pd.read_sql_query(query_5_1, connection)\n",
        "answer = employer_info['Работодатель']\n",
        "print(f'Работодатели, находящиеся на первом и пятом месте по количеству вакансий: {answer[0]} и {answer[1]}')\n"
      ]
    },
    {
      "cell_type": "markdown",
      "id": "68377cfc-b378-43dc-ab7d-1195abf2c515",
      "metadata": {
        "id": "68377cfc-b378-43dc-ab7d-1195abf2c515"
      },
      "source": [
        "2. Напишите запрос, который для каждого региона выведет количество работодателей и вакансий в нём.\n",
        "Среди регионов, в которых нет вакансий, найдите тот, в котором наибольшее количество работодателей.\n"
      ]
    },
    {
      "cell_type": "code",
      "execution_count": 679,
      "id": "dd7df27a-e3e8-412e-a21a-5d389b71e891",
      "metadata": {
        "id": "dd7df27a-e3e8-412e-a21a-5d389b71e891"
      },
      "outputs": [],
      "source": [
        "# текст запроса\n",
        "query_5_2 = '''(select\n",
        "                    a.name \"Регион\",\n",
        "                    count(distinct v.employer_id) \"Количество работодателей\",\n",
        "                    count(v.id) \"Количество вакансий\"                                       \n",
        "                from\n",
        "                    public.vacancies v\n",
        "                join \n",
        "                    public.areas a on a.id = v.area_id\n",
        "                group by a.id\n",
        "                order by 2 desc)\n",
        "                \n",
        "                union all\n",
        "                \n",
        "                (select\n",
        "                    a.name \"Регион\",\n",
        "                    count(distinct e.id) \"Количество работодателей\",\n",
        "                    count(v.id) \"Количество вакансий\"                                       \n",
        "                from\n",
        "                    public.areas a                    \n",
        "                left join \n",
        "                    public.vacancies v on a.id = v.area_id\n",
        "                join\n",
        "                    public.employers e on a.id = e.area\n",
        "                where v.id is null\n",
        "                group by a.id\n",
        "                order by 2 desc\n",
        "                limit 1)             \n",
        "'''"
      ]
    },
    {
      "cell_type": "code",
      "execution_count": 680,
      "id": "x1ikWbydrbf6",
      "metadata": {
        "id": "x1ikWbydrbf6"
      },
      "outputs": [
        {
          "data": {
            "text/html": [
              "<div>\n",
              "<style scoped>\n",
              "    .dataframe tbody tr th:only-of-type {\n",
              "        vertical-align: middle;\n",
              "    }\n",
              "\n",
              "    .dataframe tbody tr th {\n",
              "        vertical-align: top;\n",
              "    }\n",
              "\n",
              "    .dataframe thead th {\n",
              "        text-align: right;\n",
              "    }\n",
              "</style>\n",
              "<table border=\"1\" class=\"dataframe\">\n",
              "  <thead>\n",
              "    <tr style=\"text-align: right;\">\n",
              "      <th></th>\n",
              "      <th>Регион</th>\n",
              "      <th>Количество работодателей</th>\n",
              "      <th>Количество вакансий</th>\n",
              "    </tr>\n",
              "  </thead>\n",
              "  <tbody>\n",
              "    <tr>\n",
              "      <th>0</th>\n",
              "      <td>Москва</td>\n",
              "      <td>2320</td>\n",
              "      <td>5333</td>\n",
              "    </tr>\n",
              "    <tr>\n",
              "      <th>1</th>\n",
              "      <td>Санкт-Петербург</td>\n",
              "      <td>1451</td>\n",
              "      <td>2851</td>\n",
              "    </tr>\n",
              "    <tr>\n",
              "      <th>2</th>\n",
              "      <td>Минск</td>\n",
              "      <td>851</td>\n",
              "      <td>2112</td>\n",
              "    </tr>\n",
              "    <tr>\n",
              "      <th>3</th>\n",
              "      <td>Новосибирск</td>\n",
              "      <td>802</td>\n",
              "      <td>2006</td>\n",
              "    </tr>\n",
              "    <tr>\n",
              "      <th>4</th>\n",
              "      <td>Алматы</td>\n",
              "      <td>798</td>\n",
              "      <td>1892</td>\n",
              "    </tr>\n",
              "  </tbody>\n",
              "</table>\n",
              "</div>"
            ],
            "text/plain": [
              "            Регион  Количество работодателей  Количество вакансий\n",
              "0           Москва                      2320                 5333\n",
              "1  Санкт-Петербург                      1451                 2851\n",
              "2            Минск                       851                 2112\n",
              "3      Новосибирск                       802                 2006\n",
              "4           Алматы                       798                 1892"
            ]
          },
          "metadata": {},
          "output_type": "display_data"
        },
        {
          "name": "stdout",
          "output_type": "stream",
          "text": [
            "Регион с наибольшим количеством работодателей, и в котором нет вакансий: Россия\n"
          ]
        },
        {
          "data": {
            "text/html": [
              "<div>\n",
              "<style scoped>\n",
              "    .dataframe tbody tr th:only-of-type {\n",
              "        vertical-align: middle;\n",
              "    }\n",
              "\n",
              "    .dataframe tbody tr th {\n",
              "        vertical-align: top;\n",
              "    }\n",
              "\n",
              "    .dataframe thead th {\n",
              "        text-align: right;\n",
              "    }\n",
              "</style>\n",
              "<table border=\"1\" class=\"dataframe\">\n",
              "  <thead>\n",
              "    <tr style=\"text-align: right;\">\n",
              "      <th></th>\n",
              "      <th>Регион</th>\n",
              "      <th>Количество работодателей</th>\n",
              "      <th>Количество вакансий</th>\n",
              "    </tr>\n",
              "  </thead>\n",
              "  <tbody>\n",
              "    <tr>\n",
              "      <th>769</th>\n",
              "      <td>Россия</td>\n",
              "      <td>410</td>\n",
              "      <td>0</td>\n",
              "    </tr>\n",
              "  </tbody>\n",
              "</table>\n",
              "</div>"
            ],
            "text/plain": [
              "     Регион  Количество работодателей  Количество вакансий\n",
              "769  Россия                       410                    0"
            ]
          },
          "metadata": {},
          "output_type": "display_data"
        }
      ],
      "source": [
        "# результат запроса\n",
        "employer_qty_area = pd.read_sql_query(query_5_2, connection)\n",
        "answer = employer_qty_area[employer_qty_area['Количество вакансий'] == 0].iloc[0, 0]\n",
        "display(employer_qty_area.head())\n",
        "print(f'Регион с наибольшим количеством работодателей, и в котором нет вакансий: {answer}')\n",
        "display(employer_qty_area.tail(1))"
      ]
    },
    {
      "cell_type": "markdown",
      "id": "f2fe0acb-ab1a-4e15-9326-2560e22d73c1",
      "metadata": {
        "id": "f2fe0acb-ab1a-4e15-9326-2560e22d73c1"
      },
      "source": [
        "3. Для каждого работодателя посчитайте количество регионов, в которых он публикует свои вакансии. Отсортируйте результат по убыванию количества.\n"
      ]
    },
    {
      "cell_type": "code",
      "execution_count": 681,
      "id": "6271f8ad-bd2e-4196-ae4a-5b39c4c1010e",
      "metadata": {
        "id": "6271f8ad-bd2e-4196-ae4a-5b39c4c1010e"
      },
      "outputs": [],
      "source": [
        "# текст запроса\n",
        "query_5_3 = ''' select\n",
        "                    e.name \"Работодатель\",\n",
        "                    count(distinct v.area_id) \"Количество регионов\"                                                          \n",
        "                from\n",
        "                    public.employers e                    \n",
        "                join \n",
        "                    public.vacancies v on e.id = v.employer_id                \n",
        "                group by e.id\n",
        "                order by 2 desc                            \n",
        "'''"
      ]
    },
    {
      "cell_type": "code",
      "execution_count": 682,
      "id": "1EIvX3HasH4F",
      "metadata": {
        "id": "1EIvX3HasH4F"
      },
      "outputs": [
        {
          "name": "stdout",
          "output_type": "stream",
          "text": [
            "Максимальное количество регионов, где один работодатель разместил свои резюме, составляет: 181\n"
          ]
        },
        {
          "data": {
            "text/html": [
              "<div>\n",
              "<style scoped>\n",
              "    .dataframe tbody tr th:only-of-type {\n",
              "        vertical-align: middle;\n",
              "    }\n",
              "\n",
              "    .dataframe tbody tr th {\n",
              "        vertical-align: top;\n",
              "    }\n",
              "\n",
              "    .dataframe thead th {\n",
              "        text-align: right;\n",
              "    }\n",
              "</style>\n",
              "<table border=\"1\" class=\"dataframe\">\n",
              "  <thead>\n",
              "    <tr style=\"text-align: right;\">\n",
              "      <th></th>\n",
              "      <th>Работодатель</th>\n",
              "      <th>Количество регионов</th>\n",
              "    </tr>\n",
              "  </thead>\n",
              "  <tbody>\n",
              "    <tr>\n",
              "      <th>0</th>\n",
              "      <td>Яндекс</td>\n",
              "      <td>181</td>\n",
              "    </tr>\n",
              "    <tr>\n",
              "      <th>1</th>\n",
              "      <td>Ростелеком</td>\n",
              "      <td>152</td>\n",
              "    </tr>\n",
              "    <tr>\n",
              "      <th>2</th>\n",
              "      <td>Спецремонт</td>\n",
              "      <td>116</td>\n",
              "    </tr>\n",
              "    <tr>\n",
              "      <th>3</th>\n",
              "      <td>Поляков Денис Иванович</td>\n",
              "      <td>88</td>\n",
              "    </tr>\n",
              "    <tr>\n",
              "      <th>4</th>\n",
              "      <td>ООО ЕФИН</td>\n",
              "      <td>71</td>\n",
              "    </tr>\n",
              "    <tr>\n",
              "      <th>5</th>\n",
              "      <td>Совкомбанк</td>\n",
              "      <td>63</td>\n",
              "    </tr>\n",
              "    <tr>\n",
              "      <th>6</th>\n",
              "      <td>МТС</td>\n",
              "      <td>55</td>\n",
              "    </tr>\n",
              "    <tr>\n",
              "      <th>7</th>\n",
              "      <td>ЭФКО, Управляющая компания</td>\n",
              "      <td>49</td>\n",
              "    </tr>\n",
              "    <tr>\n",
              "      <th>8</th>\n",
              "      <td>КРОН</td>\n",
              "      <td>48</td>\n",
              "    </tr>\n",
              "    <tr>\n",
              "      <th>9</th>\n",
              "      <td>Почта России</td>\n",
              "      <td>48</td>\n",
              "    </tr>\n",
              "  </tbody>\n",
              "</table>\n",
              "</div>"
            ],
            "text/plain": [
              "                 Работодатель  Количество регионов\n",
              "0                      Яндекс                  181\n",
              "1                  Ростелеком                  152\n",
              "2                  Спецремонт                  116\n",
              "3      Поляков Денис Иванович                   88\n",
              "4                   ООО ЕФИН                    71\n",
              "5                  Совкомбанк                   63\n",
              "6                         МТС                   55\n",
              "7  ЭФКО, Управляющая компания                   49\n",
              "8                        КРОН                   48\n",
              "9                Почта России                   48"
            ]
          },
          "metadata": {},
          "output_type": "display_data"
        }
      ],
      "source": [
        "# результат запроса\n",
        "employer_area = pd.read_sql_query(query_5_3, connection)\n",
        "answer = employer_area['Количество регионов'].max()\n",
        "print(f'Максимальное количество регионов, где один работодатель разместил свои резюме, составляет: {answer}')\n",
        "display(employer_area.head(10))"
      ]
    },
    {
      "cell_type": "markdown",
      "id": "eab2206d-d95b-468b-8e5f-34381abf0ce7",
      "metadata": {
        "id": "eab2206d-d95b-468b-8e5f-34381abf0ce7"
      },
      "source": [
        "4. Напишите запрос для подсчёта количества работодателей, у которых не указана сфера деятельности. "
      ]
    },
    {
      "cell_type": "code",
      "execution_count": 683,
      "id": "80defb23-bfb1-4a18-8be6-bf36aa7165d5",
      "metadata": {
        "id": "80defb23-bfb1-4a18-8be6-bf36aa7165d5"
      },
      "outputs": [],
      "source": [
        "# текст запроса\n",
        "query_5_4 = ''' select\n",
        "                    count(*) \"Количество работодателей\"                                                          \n",
        "                from\n",
        "                    public.employers e                    \n",
        "                left join \n",
        "                    public.employers_industries i on e.id = i.employer_id\n",
        "                where i.employer_id is null                                          \n",
        "'''"
      ]
    },
    {
      "cell_type": "code",
      "execution_count": 684,
      "id": "Dp_yCx6ysQSu",
      "metadata": {
        "id": "Dp_yCx6ysQSu"
      },
      "outputs": [
        {
          "name": "stdout",
          "output_type": "stream",
          "text": [
            "Количество работодателей, у которых не указана сфера деятельности: 8419\n"
          ]
        }
      ],
      "source": [
        "# результат запроса\n",
        "employer_without_indust = pd.read_sql_query(query_5_4, connection)\n",
        "## employer_without_indust\n",
        "answer = employer_without_indust['Количество работодателей'][0]\n",
        "print(f'Количество работодателей, у которых не указана сфера деятельности: {answer}')"
      ]
    },
    {
      "cell_type": "markdown",
      "id": "0112af31-f6b0-4e3b-82ab-71296e752e5e",
      "metadata": {
        "id": "0112af31-f6b0-4e3b-82ab-71296e752e5e"
      },
      "source": [
        "5. Напишите запрос, чтобы узнать название компании, находящейся на третьем месте в алфавитном списке (по названию) компаний, у которых указано четыре сферы деятельности. "
      ]
    },
    {
      "cell_type": "code",
      "execution_count": 685,
      "id": "973b0cfc-a972-470a-8b4a-68744ef220c4",
      "metadata": {
        "id": "973b0cfc-a972-470a-8b4a-68744ef220c4"
      },
      "outputs": [],
      "source": [
        "# текст запроса\n",
        "query_5_5 = ''' select\n",
        "                    e.name,\n",
        "                    count(i.industry_id) \"Количество сфер деятельности\"                                                          \n",
        "                from\n",
        "                    public.employers e                    \n",
        "                join \n",
        "                    public.employers_industries i on e.id = i.employer_id\n",
        "                group by 1\n",
        "                having count(i.industry_id) = 4\n",
        "                order by 1\n",
        "                offset 2\n",
        "                limit 1                                         \n",
        "'''"
      ]
    },
    {
      "cell_type": "code",
      "execution_count": 686,
      "id": "xsPtpp8EsaED",
      "metadata": {
        "id": "xsPtpp8EsaED"
      },
      "outputs": [
        {
          "name": "stdout",
          "output_type": "stream",
          "text": [
            "Hазвание компании, находящейся на третьем месте в алфавитном списке (по названию) компаний,\n",
            "у которых указано четыре сферы деятельности: 2ГИС\n"
          ]
        }
      ],
      "source": [
        "# результат запроса\n",
        "employer_indust_qty = pd.read_sql_query(query_5_5, connection)\n",
        "answer = employer_indust_qty['name'][0]\n",
        "print(f'Hазвание компании, находящейся на третьем месте в алфавитном списке (по названию) компаний,\\nу которых указано четыре сферы деятельности: {answer}')"
      ]
    },
    {
      "cell_type": "markdown",
      "id": "3bfcfdaf-755d-4d2b-8ed8-326201dc07ab",
      "metadata": {
        "id": "3bfcfdaf-755d-4d2b-8ed8-326201dc07ab"
      },
      "source": [
        "6. С помощью запроса выясните, у какого количества работодателей в качестве сферы деятельности указана Разработка программного обеспечения.\n"
      ]
    },
    {
      "cell_type": "code",
      "execution_count": 687,
      "id": "ad3f270f-2991-47eb-929b-e8f88a55b0d1",
      "metadata": {
        "id": "ad3f270f-2991-47eb-929b-e8f88a55b0d1"
      },
      "outputs": [],
      "source": [
        "# текст запроса\n",
        "query_5_6 = ''' select\n",
        "                    count(e.id) \"Количество работодателей\"                                                      \n",
        "                from\n",
        "                    public.employers e                    \n",
        "                join \n",
        "                    public.employers_industries ei on e.id = ei.employer_id\n",
        "                join\n",
        "                    public.industries i on ei.industry_id = i.id\n",
        "                where i.name like 'Разработка программного обеспечения'                                         \n",
        "'''"
      ]
    },
    {
      "cell_type": "code",
      "execution_count": 688,
      "id": "H72qxWM0shPR",
      "metadata": {
        "id": "H72qxWM0shPR"
      },
      "outputs": [
        {
          "name": "stdout",
          "output_type": "stream",
          "text": [
            "Количество работодателей, у которых в качестве сферы \n",
            "деятельности указана \"Разработка программного обеспечения: 3553\n"
          ]
        }
      ],
      "source": [
        "# результат запроса\n",
        "employer_indust_name = pd.read_sql_query(query_5_6, connection)\n",
        "answer = employer_indust_name['Количество работодателей'][0]\n",
        "print(f'Количество работодателей, у которых в качестве сферы \\nдеятельности указана \"Разработка программного обеспечения: {answer}')"
      ]
    },
    {
      "cell_type": "markdown",
      "id": "7b02bb86-0546-40fb-94a4-242f050a5c57",
      "metadata": {
        "id": "7b02bb86-0546-40fb-94a4-242f050a5c57"
      },
      "source": [
        "7. Для компании «Яндекс» выведите список регионов-миллионников, в которых представлены вакансии компании, вместе с количеством вакансий в этих регионах. Также добавьте строку Total с общим количеством вакансий компании. Результат отсортируйте по возрастанию количества.\n",
        "\n",
        "Список городов-милионников надо взять [отсюда](https://ru.wikipedia.org/wiki/%D0%93%D0%BE%D1%80%D0%BE%D0%B4%D0%B0-%D0%BC%D0%B8%D0%BB%D0%BB%D0%B8%D0%BE%D0%BD%D0%B5%D1%80%D1%8B_%D0%A0%D0%BE%D1%81%D1%81%D0%B8%D0%B8). \n",
        "\n",
        "Если возникнут трудности с этим задание посмотрите материалы модуля  PYTHON-17. Как получать данные из веб-источников и API. "
      ]
    },
    {
      "cell_type": "code",
      "execution_count": 689,
      "id": "ZdfrL6gIs1Pn",
      "metadata": {
        "id": "ZdfrL6gIs1Pn"
      },
      "outputs": [
        {
          "name": "stdout",
          "output_type": "stream",
          "text": [
            "Список городов - миллионников:\n",
            "\n",
            " ['Москва', 'Санкт-Петербург', 'Новосибирск', 'Екатеринбург', 'Казань', 'Нижний Новгород', 'Красноярск', 'Челябинск', 'Самара', 'Уфа', 'Ростов-на-Дону', 'Краснодар', 'Омск', 'Воронеж', 'Пермь', 'Волгоград']\n"
          ]
        }
      ],
      "source": [
        "# код для получения списка городов-милионников - способ 1\n",
        "url = 'https://ru.wikipedia.org/wiki/Города-миллионеры_России'\n",
        "response = requests.get(url)\n",
        "page = BeautifulSoup(response.text, 'html.parser')\n",
        "rows = page.find('table', class_='standard sortable').find_all('a')[4:]\n",
        "million_city_list = [row.text for row in rows]\n",
        "print('Список городов - миллионников:\\n\\n', million_city_list)"
      ]
    },
    {
      "cell_type": "code",
      "execution_count": 690,
      "id": "d54d0410",
      "metadata": {},
      "outputs": [
        {
          "data": {
            "text/html": [
              "<div>\n",
              "<style scoped>\n",
              "    .dataframe tbody tr th:only-of-type {\n",
              "        vertical-align: middle;\n",
              "    }\n",
              "\n",
              "    .dataframe tbody tr th {\n",
              "        vertical-align: top;\n",
              "    }\n",
              "\n",
              "    .dataframe thead th {\n",
              "        text-align: right;\n",
              "    }\n",
              "</style>\n",
              "<table border=\"1\" class=\"dataframe\">\n",
              "  <thead>\n",
              "    <tr style=\"text-align: right;\">\n",
              "      <th></th>\n",
              "      <th>Город</th>\n",
              "      <th>Население,  тыс. чел.  (на 1 января 2023 года)</th>\n",
              "      <th>Население,  тыс. чел. (итоги переписи 2021 года)[5]</th>\n",
              "      <th>Прирост относительно  переписи-2010</th>\n",
              "      <th>Население,  тыс. чел.(итоги переписи 2010 года)[6]</th>\n",
              "    </tr>\n",
              "  </thead>\n",
              "  <tbody>\n",
              "    <tr>\n",
              "      <th>0</th>\n",
              "      <td>Москва</td>\n",
              "      <td>13 098</td>\n",
              "      <td>13 010</td>\n",
              "      <td>13,1 %</td>\n",
              "      <td>11 504</td>\n",
              "    </tr>\n",
              "    <tr>\n",
              "      <th>1</th>\n",
              "      <td>Санкт-Петербург</td>\n",
              "      <td>5 598</td>\n",
              "      <td>5 602</td>\n",
              "      <td>14,8 %</td>\n",
              "      <td>4 880</td>\n",
              "    </tr>\n",
              "  </tbody>\n",
              "</table>\n",
              "</div>"
            ],
            "text/plain": [
              "             Город Население,  тыс. чел.  (на 1 января 2023 года)  \\\n",
              "0           Москва                                         13 098   \n",
              "1  Санкт-Петербург                                          5 598   \n",
              "\n",
              "  Население,  тыс. чел. (итоги переписи 2021 года)[5]  \\\n",
              "0                                             13 010    \n",
              "1                                              5 602    \n",
              "\n",
              "  Прирост относительно  переписи-2010  \\\n",
              "0                              13,1 %   \n",
              "1                              14,8 %   \n",
              "\n",
              "  Население,  тыс. чел.(итоги переписи 2010 года)[6]  \n",
              "0                                             11 504  \n",
              "1                                              4 880  "
            ]
          },
          "metadata": {},
          "output_type": "display_data"
        },
        {
          "name": "stdout",
          "output_type": "stream",
          "text": [
            "Список городов - миллионников:\n",
            "\n",
            " ['Москва', 'Санкт-Петербург', 'Новосибирск', 'Екатеринбург', 'Казань', 'Нижний Новгород', 'Красноярск', 'Челябинск', 'Самара', 'Уфа', 'Ростов-на-Дону', 'Краснодар', 'Омск', 'Воронеж', 'Пермь', 'Волгоград']\n"
          ]
        }
      ],
      "source": [
        "# код для получения списка городов-милионников - способ 2 (спарсил всю таблицу с википедии)\n",
        "url = 'https://ru.wikipedia.org/wiki/Города-миллионеры_России'\n",
        "response = requests.get(url)\n",
        "page = BeautifulSoup(response.text, 'html.parser')\n",
        "rows = page.find('table', class_='standard sortable').find_all('tr')[1:]\n",
        "columns = page.find('table', class_='standard sortable').find_all('tr')[0]\n",
        "\n",
        "def extract_column_values(columns):\n",
        "    data = [value for value in columns.find_all('th')]\n",
        "    extacted_data = [i.text for i in data]\n",
        "    return extacted_data\n",
        "\n",
        "def extract_row_values(rows):\n",
        "    table_rows = []\n",
        "    for row in rows:\n",
        "        table_data = row.find_all('td')\n",
        "        data = [value.text for value in table_data]\n",
        "        table_rows.append(data)\n",
        "    return table_rows\n",
        "\n",
        "df_col_names = extract_column_values(columns)\n",
        "df_rows = extract_row_values(rows)        \n",
        "df_million_cities = pd.DataFrame(data = df_rows, columns = df_col_names)\n",
        "df_million_cities = df_million_cities.drop('№', axis = 1)\n",
        "display(df_million_cities.head(2))\n",
        "print('Список городов - миллионников:\\n\\n', df_million_cities['Город'].to_list())"
      ]
    },
    {
      "cell_type": "code",
      "execution_count": 691,
      "id": "5a0e32a4-e68a-4365-8a39-2fe24c542c36",
      "metadata": {
        "id": "5a0e32a4-e68a-4365-8a39-2fe24c542c36"
      },
      "outputs": [],
      "source": [
        "# текст запроса\n",
        "million_city_list = df_million_cities['Город'].to_list()\n",
        "\n",
        "query_5_7 = f'''(select\n",
        "                    a.name \"Город\",\n",
        "                    count(v.id)  \"Количество вакансий\"                                                        \n",
        "                from\n",
        "                    public.areas a                    \n",
        "                join \n",
        "                    public.vacancies v on a.id = v.area_id\n",
        "                join\n",
        "                    public.employers e on e.id = v.employer_id\n",
        "                where\n",
        "                    a.name in {(*million_city_list, )} \n",
        "                and\n",
        "                    e.name = 'Яндекс'\n",
        "                group by 1\n",
        "                )\n",
        "                    \n",
        "                union all\n",
        "                \n",
        "                (select\n",
        "                    'total',\n",
        "                    count(v.id)                                                          \n",
        "                from\n",
        "                    public.areas a                    \n",
        "                join \n",
        "                    public.vacancies v on a.id = v.area_id\n",
        "                join\n",
        "                    public.employers e on e.id = v.employer_id\n",
        "                where\n",
        "                    a.name in {(*million_city_list, )} \n",
        "                and\n",
        "                    e.name = 'Яндекс'\n",
        "                )\n",
        "                order by 2\n",
        "'''"
      ]
    },
    {
      "cell_type": "code",
      "execution_count": 692,
      "id": "ttPhiO1rsvPq",
      "metadata": {
        "id": "ttPhiO1rsvPq"
      },
      "outputs": [
        {
          "name": "stdout",
          "output_type": "stream",
          "text": [
            "Города, в которых размещены вакансии компании \"Яндекс\": \n",
            "\n"
          ]
        },
        {
          "data": {
            "text/html": [
              "<div>\n",
              "<style scoped>\n",
              "    .dataframe tbody tr th:only-of-type {\n",
              "        vertical-align: middle;\n",
              "    }\n",
              "\n",
              "    .dataframe tbody tr th {\n",
              "        vertical-align: top;\n",
              "    }\n",
              "\n",
              "    .dataframe thead th {\n",
              "        text-align: right;\n",
              "    }\n",
              "</style>\n",
              "<table border=\"1\" class=\"dataframe\">\n",
              "  <thead>\n",
              "    <tr style=\"text-align: right;\">\n",
              "      <th></th>\n",
              "      <th>Город</th>\n",
              "      <th>Количество вакансий</th>\n",
              "    </tr>\n",
              "  </thead>\n",
              "  <tbody>\n",
              "    <tr>\n",
              "      <th>0</th>\n",
              "      <td>Омск</td>\n",
              "      <td>21</td>\n",
              "    </tr>\n",
              "    <tr>\n",
              "      <th>1</th>\n",
              "      <td>Челябинск</td>\n",
              "      <td>22</td>\n",
              "    </tr>\n",
              "    <tr>\n",
              "      <th>2</th>\n",
              "      <td>Красноярск</td>\n",
              "      <td>23</td>\n",
              "    </tr>\n",
              "    <tr>\n",
              "      <th>3</th>\n",
              "      <td>Волгоград</td>\n",
              "      <td>24</td>\n",
              "    </tr>\n",
              "    <tr>\n",
              "      <th>4</th>\n",
              "      <td>Пермь</td>\n",
              "      <td>25</td>\n",
              "    </tr>\n",
              "    <tr>\n",
              "      <th>5</th>\n",
              "      <td>Казань</td>\n",
              "      <td>25</td>\n",
              "    </tr>\n",
              "    <tr>\n",
              "      <th>6</th>\n",
              "      <td>Ростов-на-Дону</td>\n",
              "      <td>25</td>\n",
              "    </tr>\n",
              "    <tr>\n",
              "      <th>7</th>\n",
              "      <td>Уфа</td>\n",
              "      <td>26</td>\n",
              "    </tr>\n",
              "    <tr>\n",
              "      <th>8</th>\n",
              "      <td>Самара</td>\n",
              "      <td>26</td>\n",
              "    </tr>\n",
              "    <tr>\n",
              "      <th>9</th>\n",
              "      <td>Краснодар</td>\n",
              "      <td>30</td>\n",
              "    </tr>\n",
              "    <tr>\n",
              "      <th>10</th>\n",
              "      <td>Воронеж</td>\n",
              "      <td>32</td>\n",
              "    </tr>\n",
              "    <tr>\n",
              "      <th>11</th>\n",
              "      <td>Новосибирск</td>\n",
              "      <td>35</td>\n",
              "    </tr>\n",
              "    <tr>\n",
              "      <th>12</th>\n",
              "      <td>Нижний Новгород</td>\n",
              "      <td>36</td>\n",
              "    </tr>\n",
              "    <tr>\n",
              "      <th>13</th>\n",
              "      <td>Екатеринбург</td>\n",
              "      <td>39</td>\n",
              "    </tr>\n",
              "    <tr>\n",
              "      <th>14</th>\n",
              "      <td>Санкт-Петербург</td>\n",
              "      <td>42</td>\n",
              "    </tr>\n",
              "    <tr>\n",
              "      <th>15</th>\n",
              "      <td>Москва</td>\n",
              "      <td>54</td>\n",
              "    </tr>\n",
              "    <tr>\n",
              "      <th>16</th>\n",
              "      <td>total</td>\n",
              "      <td>485</td>\n",
              "    </tr>\n",
              "  </tbody>\n",
              "</table>\n",
              "</div>"
            ],
            "text/plain": [
              "              Город  Количество вакансий\n",
              "0              Омск                   21\n",
              "1         Челябинск                   22\n",
              "2        Красноярск                   23\n",
              "3         Волгоград                   24\n",
              "4             Пермь                   25\n",
              "5            Казань                   25\n",
              "6    Ростов-на-Дону                   25\n",
              "7               Уфа                   26\n",
              "8            Самара                   26\n",
              "9         Краснодар                   30\n",
              "10          Воронеж                   32\n",
              "11      Новосибирск                   35\n",
              "12  Нижний Новгород                   36\n",
              "13     Екатеринбург                   39\n",
              "14  Санкт-Петербург                   42\n",
              "15           Москва                   54\n",
              "16            total                  485"
            ]
          },
          "metadata": {},
          "output_type": "display_data"
        }
      ],
      "source": [
        "# результат запроса\n",
        "cities_yandex = pd.read_sql_query(query_5_7, connection)\n",
        "print('Города, в которых размещены вакансии компании \"Яндекс\": \\n')\n",
        "display(cities_yandex)\n",
        "\n",
        "\n"
      ]
    },
    {
      "cell_type": "markdown",
      "id": "04966e40-3bc3-4dc8-9ba2-e80580ce3abc",
      "metadata": {
        "id": "04966e40-3bc3-4dc8-9ba2-e80580ce3abc"
      },
      "source": [
        "***"
      ]
    },
    {
      "cell_type": "code",
      "execution_count": 693,
      "id": "aGGyER-yt4SR",
      "metadata": {
        "id": "aGGyER-yt4SR"
      },
      "outputs": [],
      "source": [
        "# выводы по анализу работодателей"
      ]
    },
    {
      "cell_type": "markdown",
      "id": "b1ef156a-efcb-49ce-bb23-90763e7f35b2",
      "metadata": {
        "id": "b1ef156a-efcb-49ce-bb23-90763e7f35b2",
        "tags": []
      },
      "source": [
        "# Юнит 6. Предметный анализ"
      ]
    },
    {
      "cell_type": "markdown",
      "id": "b9cd50a0-992d-4988-8463-2b2b1c4629b4",
      "metadata": {
        "id": "b9cd50a0-992d-4988-8463-2b2b1c4629b4"
      },
      "source": [
        "1. Сколько вакансий имеет отношение к данным?\n",
        "\n",
        "Считаем, что вакансия имеет отношение к данным, если в её названии содержатся слова 'data' или 'данн'.\n",
        "\n",
        "*Подсказка: Обратите внимание, что названия вакансий могут быть написаны в любом регистре.* \n"
      ]
    },
    {
      "cell_type": "code",
      "execution_count": 694,
      "id": "54ab0e50-c0f1-47cc-a54b-bc5c8bc363f9",
      "metadata": {
        "id": "54ab0e50-c0f1-47cc-a54b-bc5c8bc363f9"
      },
      "outputs": [],
      "source": [
        "# текст запроса\n",
        "vac_to_search = ['%data%', '%данн%']\n",
        "query_6_1 = f'''select\n",
        "                    count(v.id) \"Количество вакансий\"                                                      \n",
        "                from\n",
        "                    public.vacancies v                       \n",
        "                where \n",
        "                    v.name ilike any (array{vac_to_search})                                         \n",
        "'''"
      ]
    },
    {
      "cell_type": "code",
      "execution_count": 695,
      "id": "9F1meAqsuUjd",
      "metadata": {
        "id": "9F1meAqsuUjd"
      },
      "outputs": [
        {
          "data": {
            "text/html": [
              "<div>\n",
              "<style scoped>\n",
              "    .dataframe tbody tr th:only-of-type {\n",
              "        vertical-align: middle;\n",
              "    }\n",
              "\n",
              "    .dataframe tbody tr th {\n",
              "        vertical-align: top;\n",
              "    }\n",
              "\n",
              "    .dataframe thead th {\n",
              "        text-align: right;\n",
              "    }\n",
              "</style>\n",
              "<table border=\"1\" class=\"dataframe\">\n",
              "  <thead>\n",
              "    <tr style=\"text-align: right;\">\n",
              "      <th></th>\n",
              "      <th>Количество вакансий</th>\n",
              "    </tr>\n",
              "  </thead>\n",
              "  <tbody>\n",
              "    <tr>\n",
              "      <th>0</th>\n",
              "      <td>1771</td>\n",
              "    </tr>\n",
              "  </tbody>\n",
              "</table>\n",
              "</div>"
            ],
            "text/plain": [
              "   Количество вакансий\n",
              "0                 1771"
            ]
          },
          "execution_count": 695,
          "metadata": {},
          "output_type": "execute_result"
        }
      ],
      "source": [
        "# результат запроса\n",
        "data_vacancies = pd.read_sql_query(query_6_1, connection)\n",
        "data_vacancies"
      ]
    },
    {
      "cell_type": "markdown",
      "id": "4dea20cb-a36b-474a-a0b9-e08e8e3857a5",
      "metadata": {
        "id": "4dea20cb-a36b-474a-a0b9-e08e8e3857a5"
      },
      "source": [
        "2. Сколько есть подходящих вакансий для начинающего дата-сайентиста? \n",
        "Будем считать вакансиями для дата-сайентистов такие, в названии которых есть хотя бы одно из следующих сочетаний:\n",
        "* 'data scientist'\n",
        "* 'data science'\n",
        "* 'исследователь данных'\n",
        "* 'ML' (здесь не нужно брать вакансии по HTML)\n",
        "* 'machine learning'\n",
        "* 'машинн%обучен%'\n",
        "\n",
        "** В следующих заданиях мы продолжим работать с вакансиями по этому условию.*\n",
        "\n",
        "Считаем вакансиями для специалистов уровня Junior следующие:\n",
        "* в названии есть слово 'junior' *или*\n",
        "* требуемый опыт — Нет опыта *или*\n",
        "* тип трудоустройства — Стажировка.\n",
        " "
      ]
    },
    {
      "cell_type": "code",
      "execution_count": 696,
      "id": "9c61b3c0-bb66-46c9-ae1e-81d3f5752b4a",
      "metadata": {
        "id": "9c61b3c0-bb66-46c9-ae1e-81d3f5752b4a"
      },
      "outputs": [],
      "source": [
        "# текст запроса\n",
        "ds_vacan_list = ['%data scientist%', '%data science%', '%исследователь данных%', '%machine learning%', '%машинн%обучен%']\n",
        "\n",
        "query_6_2 = f'''select\n",
        "                    count(*) \"Количество вакансий\"                                                    \n",
        "                from\n",
        "                    public.vacancies v                       \n",
        "                where \n",
        "                    ((v.name ilike any (array{ds_vacan_list}) or v.name like '%ML%') and v.name not ilike '%HTML%')\n",
        "                and    \n",
        "                    (v.name ilike '%junior%' or v.experience = 'Нет опыта' or v.employment = 'Стажировка')                                   \n",
        "'''"
      ]
    },
    {
      "cell_type": "code",
      "execution_count": 697,
      "id": "ZNM-LLYuu1dj",
      "metadata": {
        "id": "ZNM-LLYuu1dj"
      },
      "outputs": [
        {
          "data": {
            "text/html": [
              "<div>\n",
              "<style scoped>\n",
              "    .dataframe tbody tr th:only-of-type {\n",
              "        vertical-align: middle;\n",
              "    }\n",
              "\n",
              "    .dataframe tbody tr th {\n",
              "        vertical-align: top;\n",
              "    }\n",
              "\n",
              "    .dataframe thead th {\n",
              "        text-align: right;\n",
              "    }\n",
              "</style>\n",
              "<table border=\"1\" class=\"dataframe\">\n",
              "  <thead>\n",
              "    <tr style=\"text-align: right;\">\n",
              "      <th></th>\n",
              "      <th>Количество вакансий</th>\n",
              "    </tr>\n",
              "  </thead>\n",
              "  <tbody>\n",
              "    <tr>\n",
              "      <th>0</th>\n",
              "      <td>51</td>\n",
              "    </tr>\n",
              "  </tbody>\n",
              "</table>\n",
              "</div>"
            ],
            "text/plain": [
              "   Количество вакансий\n",
              "0                   51"
            ]
          },
          "execution_count": 697,
          "metadata": {},
          "output_type": "execute_result"
        }
      ],
      "source": [
        "# результат запроса\n",
        "ds_vacancies_count = pd.read_sql_query(query_6_2, connection)\n",
        "ds_vacancies_count"
      ]
    },
    {
      "cell_type": "markdown",
      "id": "eedceb80-c5ca-480e-b27a-278dfb8b4438",
      "metadata": {
        "id": "eedceb80-c5ca-480e-b27a-278dfb8b4438"
      },
      "source": [
        "3. Сколько есть вакансий для DS, в которых в качестве ключевого навыка указан SQL или postgres?\n",
        "\n",
        "** Критерии для отнесения вакансии к DS указаны в предыдущем задании.*"
      ]
    },
    {
      "cell_type": "code",
      "execution_count": 698,
      "id": "69621713-0cc5-4f1b-a1d7-bb144fa6148c",
      "metadata": {
        "id": "69621713-0cc5-4f1b-a1d7-bb144fa6148c"
      },
      "outputs": [],
      "source": [
        "# текст запроса\n",
        "ds_vacan_list = ['%data scientist%', '%data science%', '%исследователь данных%', '%machine learning%', '%машинн%обучен%']\n",
        "\n",
        "query_6_3 = f'''select\n",
        "                    count(*) \"Количество вакансий\"                                                    \n",
        "                from\n",
        "                    public.vacancies v                       \n",
        "                where \n",
        "                    ((v.name ilike any (array{ds_vacan_list}) or v.name like '%ML%') and v.name not ilike '%HTML%')\n",
        "                and    \n",
        "                    v.key_skills ilike any (array['%SQL%', '%postgres%'])                                     \n",
        "'''"
      ]
    },
    {
      "cell_type": "code",
      "execution_count": 699,
      "id": "alA8WEAAvGdf",
      "metadata": {
        "id": "alA8WEAAvGdf"
      },
      "outputs": [
        {
          "data": {
            "text/html": [
              "<div>\n",
              "<style scoped>\n",
              "    .dataframe tbody tr th:only-of-type {\n",
              "        vertical-align: middle;\n",
              "    }\n",
              "\n",
              "    .dataframe tbody tr th {\n",
              "        vertical-align: top;\n",
              "    }\n",
              "\n",
              "    .dataframe thead th {\n",
              "        text-align: right;\n",
              "    }\n",
              "</style>\n",
              "<table border=\"1\" class=\"dataframe\">\n",
              "  <thead>\n",
              "    <tr style=\"text-align: right;\">\n",
              "      <th></th>\n",
              "      <th>Количество вакансий</th>\n",
              "    </tr>\n",
              "  </thead>\n",
              "  <tbody>\n",
              "    <tr>\n",
              "      <th>0</th>\n",
              "      <td>201</td>\n",
              "    </tr>\n",
              "  </tbody>\n",
              "</table>\n",
              "</div>"
            ],
            "text/plain": [
              "   Количество вакансий\n",
              "0                  201"
            ]
          },
          "execution_count": 699,
          "metadata": {},
          "output_type": "execute_result"
        }
      ],
      "source": [
        "# результат запроса\n",
        "ds_vacancies_count_sql = pd.read_sql_query(query_6_3, connection)\n",
        "ds_vacancies_count_sql"
      ]
    },
    {
      "cell_type": "markdown",
      "id": "1be1e9c6-37cf-4a5f-bfeb-04cab799dc80",
      "metadata": {
        "id": "1be1e9c6-37cf-4a5f-bfeb-04cab799dc80"
      },
      "source": [
        "4. Проверьте, насколько популярен Python в требованиях работодателей к DS.Для этого вычислите количество вакансий, в которых в качестве ключевого навыка указан Python.\n",
        "\n",
        "** Это можно сделать помощью запроса, аналогичного предыдущему.*"
      ]
    },
    {
      "cell_type": "code",
      "execution_count": 700,
      "id": "0036a355-9ccf-4564-8b01-73d8194297e7",
      "metadata": {
        "id": "0036a355-9ccf-4564-8b01-73d8194297e7"
      },
      "outputs": [],
      "source": [
        "# текст запроса\n",
        "ds_vacan_list = ['%data scientist%', '%data science%', '%исследователь данных%', '%machine learning%', '%машинн%обучен%']\n",
        "\n",
        "query_6_4 = f'''select\n",
        "                    count(*) \"Количество вакансий\"                                                    \n",
        "                from\n",
        "                    public.vacancies v                       \n",
        "                where \n",
        "                    ((v.name ilike any (array{ds_vacan_list}) or v.name like '%ML%') and v.name not ilike '%HTML%')\n",
        "                and    \n",
        "                    v.key_skills ilike '%python%'\n",
        "'''"
      ]
    },
    {
      "cell_type": "code",
      "execution_count": 701,
      "id": "1i-5WyucvQ6v",
      "metadata": {
        "id": "1i-5WyucvQ6v"
      },
      "outputs": [
        {
          "data": {
            "text/html": [
              "<div>\n",
              "<style scoped>\n",
              "    .dataframe tbody tr th:only-of-type {\n",
              "        vertical-align: middle;\n",
              "    }\n",
              "\n",
              "    .dataframe tbody tr th {\n",
              "        vertical-align: top;\n",
              "    }\n",
              "\n",
              "    .dataframe thead th {\n",
              "        text-align: right;\n",
              "    }\n",
              "</style>\n",
              "<table border=\"1\" class=\"dataframe\">\n",
              "  <thead>\n",
              "    <tr style=\"text-align: right;\">\n",
              "      <th></th>\n",
              "      <th>Количество вакансий</th>\n",
              "    </tr>\n",
              "  </thead>\n",
              "  <tbody>\n",
              "    <tr>\n",
              "      <th>0</th>\n",
              "      <td>351</td>\n",
              "    </tr>\n",
              "  </tbody>\n",
              "</table>\n",
              "</div>"
            ],
            "text/plain": [
              "   Количество вакансий\n",
              "0                  351"
            ]
          },
          "execution_count": 701,
          "metadata": {},
          "output_type": "execute_result"
        }
      ],
      "source": [
        "# результат запроса\n",
        "ds_vacancies_count_python = pd.read_sql_query(query_6_4, connection)\n",
        "ds_vacancies_count_python"
      ]
    },
    {
      "cell_type": "markdown",
      "id": "ec3c8db7-fa21-4a41-a994-1af63742a642",
      "metadata": {
        "id": "ec3c8db7-fa21-4a41-a994-1af63742a642"
      },
      "source": [
        "5. Сколько ключевых навыков в среднем указывают в вакансиях для DS?\n",
        "Ответ округлите до двух знаков после точки-разделителя."
      ]
    },
    {
      "cell_type": "code",
      "execution_count": 702,
      "id": "949132bc-d5b6-4611-8218-0b9a504d74f4",
      "metadata": {
        "id": "949132bc-d5b6-4611-8218-0b9a504d74f4"
      },
      "outputs": [],
      "source": [
        "# текст запроса\n",
        "ds_vacan_list = ['%data scientist%', '%data science%', '%исследователь данных%', '%machine learning%', '%машинн%обучен%']\n",
        "\n",
        "query_6_5 = f'''select\n",
        "                    *                                                  \n",
        "                from\n",
        "                    public.vacancies v                       \n",
        "                where \n",
        "                    ((v.name ilike any (array{ds_vacan_list}) or v.name like '%ML%') and v.name not ilike '%HTML%')\n",
        "                and\n",
        "                    v.key_skills is not null\n",
        "'''"
      ]
    },
    {
      "cell_type": "code",
      "execution_count": 703,
      "id": "a3V24Tvmviqk",
      "metadata": {
        "id": "a3V24Tvmviqk"
      },
      "outputs": [
        {
          "data": {
            "text/plain": [
              "6.41"
            ]
          },
          "execution_count": 703,
          "metadata": {},
          "output_type": "execute_result"
        }
      ],
      "source": [
        "# результат запроса\n",
        "ds_vacancies = pd.read_sql_query(query_6_5, connection)\n",
        "ds_vacancies['key_skills'] = ds_vacancies['key_skills'].astype('str')\n",
        "ds_vacancies['key_skills_count'] = ds_vacancies['key_skills'].apply(lambda x: len(x.replace(' ', '').split()))\n",
        "ds_vacancies[['key_skills', 'key_skills_count']]\n",
        "ds_vacancies['key_skills_count'].mean().round(2)"
      ]
    },
    {
      "cell_type": "code",
      "execution_count": 704,
      "id": "0ee75a4f",
      "metadata": {},
      "outputs": [],
      "source": [
        "# текст запроса\n",
        "ds_vacan_list = ['%data scientist%', '%data science%', '%исследователь данных%', '%machine learning%', '%машинн%обучен%']\n",
        "\n",
        "query_6_5 = f'''select\n",
        "                    avg(length(v.key_skills) - length(replace(v.key_skills, chr(9), '')) + 1)::numeric(3, 2) \"Навыки\"                                   \n",
        "                from\n",
        "                    public.vacancies v                       \n",
        "                where \n",
        "                    ((v.name ilike any (array{ds_vacan_list}) or v.name like '%ML%') and v.name not ilike '%HTML%')\n",
        "                and\n",
        "                    v.key_skills is not null\n",
        "'''"
      ]
    },
    {
      "cell_type": "code",
      "execution_count": 705,
      "id": "85124b60",
      "metadata": {},
      "outputs": [
        {
          "data": {
            "text/html": [
              "<div>\n",
              "<style scoped>\n",
              "    .dataframe tbody tr th:only-of-type {\n",
              "        vertical-align: middle;\n",
              "    }\n",
              "\n",
              "    .dataframe tbody tr th {\n",
              "        vertical-align: top;\n",
              "    }\n",
              "\n",
              "    .dataframe thead th {\n",
              "        text-align: right;\n",
              "    }\n",
              "</style>\n",
              "<table border=\"1\" class=\"dataframe\">\n",
              "  <thead>\n",
              "    <tr style=\"text-align: right;\">\n",
              "      <th></th>\n",
              "      <th>Навыки</th>\n",
              "    </tr>\n",
              "  </thead>\n",
              "  <tbody>\n",
              "    <tr>\n",
              "      <th>0</th>\n",
              "      <td>6.41</td>\n",
              "    </tr>\n",
              "  </tbody>\n",
              "</table>\n",
              "</div>"
            ],
            "text/plain": [
              "   Навыки\n",
              "0    6.41"
            ]
          },
          "execution_count": 705,
          "metadata": {},
          "output_type": "execute_result"
        }
      ],
      "source": [
        "ds_avg_skills = pd.read_sql_query(query_6_5, connection)\n",
        "ds_avg_skills"
      ]
    },
    {
      "cell_type": "markdown",
      "id": "1041c17a-ca8f-4543-a0ca-32778914fb00",
      "metadata": {
        "id": "1041c17a-ca8f-4543-a0ca-32778914fb00"
      },
      "source": [
        "6. Напишите запрос, позволяющий вычислить, какую зарплату для DS в **среднем** указывают для каждого типа требуемого опыта (уникальное значение из поля *experience*). \n",
        "\n",
        "При решении задачи примите во внимание следующее:\n",
        "1. Рассматриваем только вакансии, у которых заполнено хотя бы одно из двух полей с зарплатой.\n",
        "2. Если заполнены оба поля с зарплатой, то считаем зарплату по каждой вакансии как сумму двух полей, делённую на 2. Если заполнено только одно из полей, то его и считаем зарплатой по вакансии.\n",
        "3. Если в расчётах участвует null, в результате он тоже даст null (посмотрите, что возвращает запрос select 1 + null). Чтобы избежать этой ситуацию, мы воспользуемся функцией [coalesce](https://postgrespro.ru/docs/postgresql/9.5/functions-conditional#functions-coalesce-nvl-ifnull), которая заменит null на значение, которое мы передадим. Например, посмотрите, что возвращает запрос `select 1 + coalesce(null, 0)`\n",
        "\n",
        "Выясните, на какую зарплату в среднем может рассчитывать дата-сайентист с опытом работы от 3 до 6 лет. Результат округлите до целого числа. "
      ]
    },
    {
      "cell_type": "code",
      "execution_count": 706,
      "id": "6a743d39-5204-48d3-8271-b9f88e68d40e",
      "metadata": {
        "id": "6a743d39-5204-48d3-8271-b9f88e68d40e"
      },
      "outputs": [],
      "source": [
        "# текст запроса\n",
        "ds_vacan_list = ['%data scientist%', '%data science%', '%исследователь данных%', '%machine learning%', '%машинн%обучен%']\n",
        "\n",
        "query_6_6 = f'''select\n",
        "                    v.experience,                                        \n",
        "                    round(avg((coalesce(salary_from, 0, null) + coalesce(salary_to, 0, null)) / (coalesce(salary_from, 0, null) / coalesce(salary_from, 1, null) + coalesce(salary_to, 0, null)/ coalesce(salary_to, 1, null))))\n",
        "                from\n",
        "                    public.vacancies v                       \n",
        "                where \n",
        "                    ((v.name ilike any (array{ds_vacan_list}) or v.name like '%ML%') and v.name not ilike '%HTML%')\n",
        "                and\n",
        "                    (salary_from is not null or salary_to is not null)\n",
        "                group by v.experience\n",
        "'''"
      ]
    },
    {
      "cell_type": "code",
      "execution_count": 707,
      "id": "aRIJ0mZEwU1_",
      "metadata": {
        "id": "aRIJ0mZEwU1_"
      },
      "outputs": [
        {
          "data": {
            "text/html": [
              "<div>\n",
              "<style scoped>\n",
              "    .dataframe tbody tr th:only-of-type {\n",
              "        vertical-align: middle;\n",
              "    }\n",
              "\n",
              "    .dataframe tbody tr th {\n",
              "        vertical-align: top;\n",
              "    }\n",
              "\n",
              "    .dataframe thead th {\n",
              "        text-align: right;\n",
              "    }\n",
              "</style>\n",
              "<table border=\"1\" class=\"dataframe\">\n",
              "  <thead>\n",
              "    <tr style=\"text-align: right;\">\n",
              "      <th></th>\n",
              "      <th>experience</th>\n",
              "      <th>round</th>\n",
              "    </tr>\n",
              "  </thead>\n",
              "  <tbody>\n",
              "    <tr>\n",
              "      <th>0</th>\n",
              "      <td>Нет опыта</td>\n",
              "      <td>74643.0</td>\n",
              "    </tr>\n",
              "    <tr>\n",
              "      <th>1</th>\n",
              "      <td>От 1 года до 3 лет</td>\n",
              "      <td>139675.0</td>\n",
              "    </tr>\n",
              "    <tr>\n",
              "      <th>2</th>\n",
              "      <td>От 3 до 6 лет</td>\n",
              "      <td>243115.0</td>\n",
              "    </tr>\n",
              "  </tbody>\n",
              "</table>\n",
              "</div>"
            ],
            "text/plain": [
              "           experience     round\n",
              "0           Нет опыта   74643.0\n",
              "1  От 1 года до 3 лет  139675.0\n",
              "2       От 3 до 6 лет  243115.0"
            ]
          },
          "execution_count": 707,
          "metadata": {},
          "output_type": "execute_result"
        }
      ],
      "source": [
        "# результат запроса\n",
        "ds_avg_salary = pd.read_sql_query(query_6_6, connection) \n",
        "ds_avg_salary"
      ]
    },
    {
      "cell_type": "markdown",
      "id": "6a7892b4-4113-4746-adce-18aa2844f18e",
      "metadata": {
        "id": "6a7892b4-4113-4746-adce-18aa2844f18e"
      },
      "source": [
        "***"
      ]
    },
    {
      "cell_type": "code",
      "execution_count": 708,
      "id": "UjLWUptVwY1o",
      "metadata": {
        "id": "UjLWUptVwY1o"
      },
      "outputs": [],
      "source": [
        "# выводы по предметному анализу"
      ]
    },
    {
      "cell_type": "markdown",
      "id": "c0ED6fh7wiBT",
      "metadata": {
        "id": "c0ED6fh7wiBT"
      },
      "source": [
        "# Общий вывод по проекту"
      ]
    },
    {
      "cell_type": "code",
      "execution_count": 709,
      "id": "h9B3BL-wwj18",
      "metadata": {
        "id": "h9B3BL-wwj18"
      },
      "outputs": [],
      "source": [
        "# подведем итог исследования, обобщите выводы\n",
        "# здесь можно (это будет плюсом) провести дополнительные исследования данных, сделать прогнозы, продумать варианты продолжения исследования"
      ]
    }
  ],
  "metadata": {
    "colab": {
      "collapsed_sections": [
        "8d62a9f3-f64e-4fe7-bdac-c4dffa16155e"
      ],
      "provenance": []
    },
    "kernelspec": {
      "display_name": "Python 3 (ipykernel)",
      "language": "python",
      "name": "python3"
    },
    "language_info": {
      "codemirror_mode": {
        "name": "ipython",
        "version": 3
      },
      "file_extension": ".py",
      "mimetype": "text/x-python",
      "name": "python",
      "nbconvert_exporter": "python",
      "pygments_lexer": "ipython3",
      "version": "3.9.10"
    }
  },
  "nbformat": 4,
  "nbformat_minor": 5
}
