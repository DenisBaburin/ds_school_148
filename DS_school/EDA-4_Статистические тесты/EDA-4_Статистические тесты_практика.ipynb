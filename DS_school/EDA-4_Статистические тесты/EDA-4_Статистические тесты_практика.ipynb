{
 "cells": [
  {
   "cell_type": "markdown",
   "metadata": {},
   "source": [
    "# <center> Практика. Статистические тесты в контексте EDA"
   ]
  },
  {
   "cell_type": "markdown",
   "metadata": {},
   "source": [
    "## Постановка задачи\n",
    "\n",
    "HR-агентство изучает тренды на рынке труда в IT. Компания хочет провести исследование на основе данных о зарплатах в сфере Data Science за 2020–2022 годы и получить некоторые выводы:\n",
    "\n",
    "1. Выяснить, какие факторы влияют на зарплату специалиста Data Scientist.\n",
    "\n",
    "2. А также ответить на ключевые вопросы HR-агентства:\n",
    "    - Наблюдается ли ежегодный рост зарплат у специалистов Data Scientist?\n",
    "    - Как соотносятся зарплаты Data Scientist и Data Engineer в 2022 году?\n",
    "    - Как соотносятся зарплаты специалистов Data Scientist в компаниях различных размеров?\n",
    "    - Есть ли связь между наличием должностей Data Scientist и Data Engineer и размером компании?\n",
    "\n",
    "На каждый вопрос необходимо ответить с уровнем значимости $\\alpha=0.05$."
   ]
  },
  {
   "cell_type": "markdown",
   "metadata": {},
   "source": [
    "Ответить на поставленные вопросы нам помогут предоставленные данные:\n",
    "\n",
    "- work_year - Год, в котором была выплачена зарплата.\n",
    "\n",
    "- experience_level - Опыт работы на этой должности в течение года со следующими возможными значениями:\n",
    "    - EN — Entry-level/Junior;\n",
    "    - MI — Mid-level/Intermediate;\n",
    "    - SE — Senior-level/Expert;\n",
    "    - EX — Executive-level/Director.\n",
    "    \n",
    "- employment_type - Тип трудоустройства для этой роли:\n",
    "    - PT — неполный рабочий день;\n",
    "    - FT — полный рабочий день;\n",
    "    - CT — контракт;\n",
    "    - FL — фриланс.\n",
    "- job_title - Роль, в которой соискатель работал в течение года.\n",
    "\n",
    "- salary - Общая выплаченная валовая сумма заработной платы.\n",
    "\n",
    "- salary_currency - Валюта выплачиваемой заработной платы в виде кода валюты ISO 4217.\n",
    "\n",
    "- salary_in_usd - Зарплата в долларах США (валютный курс, делённый на среднее значение курса доллара США за соответствующий год через fxdata.foorilla.com).\n",
    "\n",
    "- employee_residence - Основная страна проживания сотрудника в течение рабочего года в виде кода страны ISO 3166.\n",
    "\n",
    "- remote_ratio - Общий объём работы, выполняемой удалённо. Возможные значения:\n",
    "    - 0 — удалённой работы нет (менее 20 %);\n",
    "    - 50 — частично удалённая работа;\n",
    "    - 100 — полностью удалённая работа (более 80 %).\n",
    "\n",
    "- company_location - Страна главного офиса работодателя или филиала по контракту в виде кода страны ISO 3166.\n",
    "\n",
    "- company_size - Среднее количество людей, работавших в компании в течение года:\n",
    "    - S — менее 50 сотрудников (небольшая компания);\n",
    "    - M — от 50 до 250 сотрудников (средняя компания);\n",
    "    - L — более 250 сотрудников (крупная компания)."
   ]
  },
  {
   "cell_type": "code",
   "execution_count": 1,
   "metadata": {},
   "outputs": [],
   "source": [
    "# импортируем необходимые библиотеки\n",
    "\n",
    "import pandas as pd\n",
    "from sklearn import datasets\n",
    "from matplotlib import pyplot as plt\n",
    "import seaborn as sns\n",
    "import numpy as np\n",
    "import statsmodels.api as sm\n",
    "import scipy.stats as stats\n",
    "from statsmodels.stats.anova import AnovaRM\n",
    "from statsmodels.stats.descriptivestats import sign_test\n",
    "from statsmodels.stats.contingency_tables import mcnemar\n",
    "\n",
    "# делаем визуальную настройку графиков\n",
    "\n",
    "sns.set_theme(\"notebook\") \n",
    "sns.set_palette(\"Set2\") "
   ]
  },
  {
   "cell_type": "code",
   "execution_count": 2,
   "metadata": {},
   "outputs": [
    {
     "data": {
      "text/html": [
       "<div>\n",
       "<style scoped>\n",
       "    .dataframe tbody tr th:only-of-type {\n",
       "        vertical-align: middle;\n",
       "    }\n",
       "\n",
       "    .dataframe tbody tr th {\n",
       "        vertical-align: top;\n",
       "    }\n",
       "\n",
       "    .dataframe thead th {\n",
       "        text-align: right;\n",
       "    }\n",
       "</style>\n",
       "<table border=\"1\" class=\"dataframe\">\n",
       "  <thead>\n",
       "    <tr style=\"text-align: right;\">\n",
       "      <th></th>\n",
       "      <th>Unnamed: 0</th>\n",
       "      <th>work_year</th>\n",
       "      <th>experience_level</th>\n",
       "      <th>employment_type</th>\n",
       "      <th>job_title</th>\n",
       "      <th>salary</th>\n",
       "      <th>salary_currency</th>\n",
       "      <th>salary_in_usd</th>\n",
       "      <th>employee_residence</th>\n",
       "      <th>remote_ratio</th>\n",
       "      <th>company_location</th>\n",
       "      <th>company_size</th>\n",
       "    </tr>\n",
       "  </thead>\n",
       "  <tbody>\n",
       "    <tr>\n",
       "      <th>0</th>\n",
       "      <td>0</td>\n",
       "      <td>2020</td>\n",
       "      <td>MI</td>\n",
       "      <td>FT</td>\n",
       "      <td>Data Scientist</td>\n",
       "      <td>70000</td>\n",
       "      <td>EUR</td>\n",
       "      <td>79833</td>\n",
       "      <td>DE</td>\n",
       "      <td>0</td>\n",
       "      <td>DE</td>\n",
       "      <td>L</td>\n",
       "    </tr>\n",
       "    <tr>\n",
       "      <th>1</th>\n",
       "      <td>1</td>\n",
       "      <td>2020</td>\n",
       "      <td>SE</td>\n",
       "      <td>FT</td>\n",
       "      <td>Machine Learning Scientist</td>\n",
       "      <td>260000</td>\n",
       "      <td>USD</td>\n",
       "      <td>260000</td>\n",
       "      <td>JP</td>\n",
       "      <td>0</td>\n",
       "      <td>JP</td>\n",
       "      <td>S</td>\n",
       "    </tr>\n",
       "    <tr>\n",
       "      <th>2</th>\n",
       "      <td>2</td>\n",
       "      <td>2020</td>\n",
       "      <td>SE</td>\n",
       "      <td>FT</td>\n",
       "      <td>Big Data Engineer</td>\n",
       "      <td>85000</td>\n",
       "      <td>GBP</td>\n",
       "      <td>109024</td>\n",
       "      <td>GB</td>\n",
       "      <td>50</td>\n",
       "      <td>GB</td>\n",
       "      <td>M</td>\n",
       "    </tr>\n",
       "  </tbody>\n",
       "</table>\n",
       "</div>"
      ],
      "text/plain": [
       "   Unnamed: 0  work_year experience_level employment_type  \\\n",
       "0           0       2020               MI              FT   \n",
       "1           1       2020               SE              FT   \n",
       "2           2       2020               SE              FT   \n",
       "\n",
       "                    job_title  salary salary_currency  salary_in_usd  \\\n",
       "0              Data Scientist   70000             EUR          79833   \n",
       "1  Machine Learning Scientist  260000             USD         260000   \n",
       "2           Big Data Engineer   85000             GBP         109024   \n",
       "\n",
       "  employee_residence  remote_ratio company_location company_size  \n",
       "0                 DE             0               DE            L  \n",
       "1                 JP             0               JP            S  \n",
       "2                 GB            50               GB            M  "
      ]
     },
     "metadata": {},
     "output_type": "display_data"
    }
   ],
   "source": [
    "# Загружаем данные и выведем начало датасета\n",
    "\n",
    "data = pd.read_csv('data/ds_salaries.csv')\n",
    "display(data.head(3))\n",
    "\n"
   ]
  },
  {
   "cell_type": "code",
   "execution_count": 3,
   "metadata": {},
   "outputs": [
    {
     "name": "stdout",
     "output_type": "stream",
     "text": [
      "Уровень значимости alpha = 0.05\n"
     ]
    }
   ],
   "source": [
    "#задаем уровень значимости alpha\n",
    "\n",
    "alpha = 0.05\n",
    "print(f'Уровень значимости alpha = {alpha}')"
   ]
  },
  {
   "cell_type": "markdown",
   "metadata": {},
   "source": [
    " ## EDA - Описательный анализ данных ##"
   ]
  },
  {
   "cell_type": "code",
   "execution_count": 4,
   "metadata": {},
   "outputs": [
    {
     "name": "stdout",
     "output_type": "stream",
     "text": [
      "<class 'pandas.core.frame.DataFrame'>\n",
      "RangeIndex: 607 entries, 0 to 606\n",
      "Data columns (total 12 columns):\n",
      " #   Column              Non-Null Count  Dtype \n",
      "---  ------              --------------  ----- \n",
      " 0   Unnamed: 0          607 non-null    int64 \n",
      " 1   work_year           607 non-null    int64 \n",
      " 2   experience_level    607 non-null    object\n",
      " 3   employment_type     607 non-null    object\n",
      " 4   job_title           607 non-null    object\n",
      " 5   salary              607 non-null    int64 \n",
      " 6   salary_currency     607 non-null    object\n",
      " 7   salary_in_usd       607 non-null    int64 \n",
      " 8   employee_residence  607 non-null    object\n",
      " 9   remote_ratio        607 non-null    int64 \n",
      " 10  company_location    607 non-null    object\n",
      " 11  company_size        607 non-null    object\n",
      "dtypes: int64(5), object(7)\n",
      "memory usage: 57.0+ KB\n"
     ]
    }
   ],
   "source": [
    "# Выводим основную иноформацию о датасете\n",
    "data.info()"
   ]
  },
  {
   "cell_type": "markdown",
   "metadata": {},
   "source": [
    "В датасете 607 записей, пропущенных значений нет. \n",
    "\n",
    "Из предоставленных данных можно выделить следующие признаки как категориальные и количественные:\n",
    "\n",
    "Категориальные признаки:\n",
    "\n",
    "- __work_year__\n",
    "- __experience_level__\n",
    "- __employment_type__\n",
    "- __job_title__\n",
    "- __salary_currency__\n",
    "- __employee_residence__\n",
    "- __company_location__\n",
    "- __company_size__\n",
    "- __remote_ratio__\n",
    "\n",
    "Количественные признаки:\n",
    "\n",
    "- __salary__\n",
    "- __salary_in_usd__\n",
    "\n",
    "\n",
    "Ниже перечисленные признаки можно будет удалить, так как они не будут участвовать в исследовании:\n",
    "\n",
    "- __Unnamed: 0__: Этот признак кажется лишним, поскольку он, вероятно, представляет собой индекс или идентификатор записи. \n",
    "\n",
    "- __salary_currency__ и __salary__: Если есть столбец __salary_in_usd__ для приведения всех зарплат к одной валюте (USD), то столбцы __salary_currency__ и __salary могут__ быть удалены, так как они уже несут дублирующую информацию.\n",
    "- __employee_residence__ и __company_location__ : данная информация не будет использоваться в исследовании"
   ]
  },
  {
   "cell_type": "code",
   "execution_count": 5,
   "metadata": {},
   "outputs": [],
   "source": [
    "# Уберем ненужные признаки\n",
    "data = data.drop(['Unnamed: 0', 'salary', 'salary_currency', 'company_location', 'employee_residence'], axis=1)\n",
    "\n"
   ]
  },
  {
   "cell_type": "code",
   "execution_count": 6,
   "metadata": {},
   "outputs": [],
   "source": [
    "# Преобразуем признак work_year и remote_ratio в object\n",
    "data['work_year'] = data['work_year'].astype('object')\n",
    "data['remote_ratio'] = data['remote_ratio'].astype('object')"
   ]
  },
  {
   "cell_type": "code",
   "execution_count": 7,
   "metadata": {},
   "outputs": [
    {
     "name": "stdout",
     "output_type": "stream",
     "text": [
      "Количество дубликатов составляет: 48\n",
      "Размер датасета после удаления дубликатов: (559, 7)\n"
     ]
    }
   ],
   "source": [
    "# Проверяем датасет на наличие дубликатов\n",
    "duplicates = data[data.duplicated()].shape[0]\n",
    "print(f'Количество дубликатов составляет: {duplicates}')\n",
    "\n",
    "# Удаляем дубликаты\n",
    "\n",
    "data = data.drop_duplicates()\n",
    "print(f'Размер датасета после удаления дубликатов: {data.shape}')"
   ]
  },
  {
   "cell_type": "code",
   "execution_count": 8,
   "metadata": {},
   "outputs": [],
   "source": [
    "# Добавим новый признак 'DE_DS', чтобы иметь возможность работать сразу с группой должностей, \n",
    "# относящихся к Data Scientist и Data Engineer \n",
    "\n",
    "data['DE_DS'] = data['job_title'].apply(lambda x: 'yes' if x =='Data Engineer' or x == 'Data Scientist' else 'no')\n"
   ]
  },
  {
   "cell_type": "code",
   "execution_count": 9,
   "metadata": {},
   "outputs": [],
   "source": [
    "# Заменим значения в признаках experience_level, employment_type и company_size для лучшего отображения на графиках\n",
    "\n",
    "\n",
    "data['experience_level'] = data['experience_level'].replace('EN', 'Entry-level/Junior')\n",
    "data['experience_level'] = data['experience_level'].replace('EX', 'Executive-level/Director')\n",
    "data['experience_level'] = data['experience_level'].replace('MI', 'Mid-level/Intermediate')\n",
    "data['experience_level'] = data['experience_level'].replace('SE', 'Senior-level/Expert')\n",
    "\n",
    "data['employment_type'] = data['employment_type'].replace('FT', 'полный рабочий день')\n",
    "data['employment_type'] = data['employment_type'].replace('CT', 'контракт')\n",
    "data['employment_type'] = data['employment_type'].replace('FL', 'фриланс')\n",
    "data['employment_type'] = data['employment_type'].replace('PT', 'неполный рабочий день')\n",
    "\n",
    "data['company_size'] = data['company_size'].replace('L', \"Large\")\n",
    "data['company_size'] = data['company_size'].replace('M', \"Medium\")\n",
    "data['company_size'] = data['company_size'].replace('S', \"Small\")"
   ]
  },
  {
   "cell_type": "markdown",
   "metadata": {},
   "source": [
    "### Распределение зарплат для должности Data Scientist"
   ]
  },
  {
   "cell_type": "code",
   "execution_count": 10,
   "metadata": {},
   "outputs": [
    {
     "data": {
      "image/png": "[encoded data removed]",
      "text/plain": [
       "<Figure size 1500x500 with 2 Axes>"
      ]
     },
     "metadata": {},
     "output_type": "display_data"
    }
   ],
   "source": [
    "# отфильтруем данные для должности Data Scientist\n",
    "filtered_data = data[data['job_title'] == 'Data Scientist']\n",
    "\n",
    "fig, axes = plt.subplots(1, 2, figsize=(15, 5))\n",
    "\n",
    "sns.histplot(filtered_data['salary_in_usd'], kde=True, ax=axes[0])\n",
    "axes[0].set(xlabel='Размер заработной платы', ylabel='Частота')\n",
    "axes[0].set_title('Распределение зарплат для должности Data Scientist')\n",
    "axes[0].axvline(filtered_data['salary_in_usd'].mean(), color='red', linestyle='--', linewidth=0.8)\n",
    "\n",
    "sns.boxplot(filtered_data['salary_in_usd'], ax=axes[1], orient='h', medianprops={\"color\": \"red\", \"linestyle\": '--'})\n",
    "axes[1].set(ylabel='Размер заработной платы')\n",
    "axes[1].set_title('Распределение зарплат для должности Data Scientist')\n",
    "\n",
    "plt.show()"
   ]
  },
  {
   "cell_type": "code",
   "execution_count": 11,
   "metadata": {},
   "outputs": [
    {
     "data": {
      "text/html": [
       "<div>\n",
       "<style scoped>\n",
       "    .dataframe tbody tr th:only-of-type {\n",
       "        vertical-align: middle;\n",
       "    }\n",
       "\n",
       "    .dataframe tbody tr th {\n",
       "        vertical-align: top;\n",
       "    }\n",
       "\n",
       "    .dataframe thead th {\n",
       "        text-align: right;\n",
       "    }\n",
       "</style>\n",
       "<table border=\"1\" class=\"dataframe\">\n",
       "  <thead>\n",
       "    <tr style=\"text-align: right;\">\n",
       "      <th></th>\n",
       "      <th>Размер зарплат Data Scientist</th>\n",
       "    </tr>\n",
       "  </thead>\n",
       "  <tbody>\n",
       "    <tr>\n",
       "      <th>count</th>\n",
       "      <td>130.00</td>\n",
       "    </tr>\n",
       "    <tr>\n",
       "      <th>mean</th>\n",
       "      <td>103336.35</td>\n",
       "    </tr>\n",
       "    <tr>\n",
       "      <th>std</th>\n",
       "      <td>63967.56</td>\n",
       "    </tr>\n",
       "    <tr>\n",
       "      <th>min</th>\n",
       "      <td>2859.00</td>\n",
       "    </tr>\n",
       "    <tr>\n",
       "      <th>25%</th>\n",
       "      <td>50330.25</td>\n",
       "    </tr>\n",
       "    <tr>\n",
       "      <th>50%</th>\n",
       "      <td>100000.00</td>\n",
       "    </tr>\n",
       "    <tr>\n",
       "      <th>75%</th>\n",
       "      <td>140400.00</td>\n",
       "    </tr>\n",
       "    <tr>\n",
       "      <th>max</th>\n",
       "      <td>412000.00</td>\n",
       "    </tr>\n",
       "  </tbody>\n",
       "</table>\n",
       "</div>"
      ],
      "text/plain": [
       "       Размер зарплат Data Scientist\n",
       "count                         130.00\n",
       "mean                       103336.35\n",
       "std                         63967.56\n",
       "min                          2859.00\n",
       "25%                         50330.25\n",
       "50%                        100000.00\n",
       "75%                        140400.00\n",
       "max                        412000.00"
      ]
     },
     "metadata": {},
     "output_type": "display_data"
    }
   ],
   "source": [
    "salary_statisctics = filtered_data['salary_in_usd'].describe().round(2).to_frame()\n",
    "salary_statisctics.columns = ['Размер зарплат Data Scientist']\n",
    "display(salary_statisctics)"
   ]
  },
  {
   "cell_type": "markdown",
   "metadata": {},
   "source": [
    "Распределение зарплат отлично от нормального, имеются выбросы."
   ]
  },
  {
   "cell_type": "markdown",
   "metadata": {},
   "source": [
    "### Уровень зарплат Data Scientist и Data Engineer в 2022 году"
   ]
  },
  {
   "cell_type": "code",
   "execution_count": 12,
   "metadata": {},
   "outputs": [
    {
     "data": {
      "image/png": "[encoded data removed]",
      "text/plain": [
       "<Figure size 640x480 with 1 Axes>"
      ]
     },
     "metadata": {},
     "output_type": "display_data"
    }
   ],
   "source": [
    "# Отфильтруем данные для должностей Data Scientist  и Data Engineer и 2022 года\n",
    "filtered_data = data[(data['work_year'] == 2022) & ((data['job_title'] == 'Data Scientist') | (data['job_title'] == 'Data Engineer')) ]\n",
    "\n",
    "ax = sns.boxplot(filtered_data, x='salary_in_usd', y='job_title', orient='h', medianprops={\"color\": \"red\", \"linestyle\": '--'})\n",
    "ax.set(xlabel='Размер зарплат', ylabel='Должность')\n",
    "plt.title('Уровень зарплат Data Scientist и Data Engineer в 2022 году')\n",
    "plt.show()"
   ]
  },
  {
   "cell_type": "code",
   "execution_count": 13,
   "metadata": {},
   "outputs": [
    {
     "name": "stdout",
     "output_type": "stream",
     "text": [
      "\n"
     ]
    },
    {
     "data": {
      "text/html": [
       "<div>\n",
       "<style scoped>\n",
       "    .dataframe tbody tr th:only-of-type {\n",
       "        vertical-align: middle;\n",
       "    }\n",
       "\n",
       "    .dataframe tbody tr th {\n",
       "        vertical-align: top;\n",
       "    }\n",
       "\n",
       "    .dataframe thead th {\n",
       "        text-align: right;\n",
       "    }\n",
       "</style>\n",
       "<table border=\"1\" class=\"dataframe\">\n",
       "  <thead>\n",
       "    <tr style=\"text-align: right;\">\n",
       "      <th></th>\n",
       "      <th>count</th>\n",
       "      <th>mean</th>\n",
       "      <th>std</th>\n",
       "      <th>min</th>\n",
       "      <th>25%</th>\n",
       "      <th>50%</th>\n",
       "      <th>75%</th>\n",
       "      <th>max</th>\n",
       "    </tr>\n",
       "    <tr>\n",
       "      <th>job_title</th>\n",
       "      <th></th>\n",
       "      <th></th>\n",
       "      <th></th>\n",
       "      <th></th>\n",
       "      <th></th>\n",
       "      <th></th>\n",
       "      <th></th>\n",
       "      <th></th>\n",
       "    </tr>\n",
       "  </thead>\n",
       "  <tbody>\n",
       "    <tr>\n",
       "      <th>Data Engineer</th>\n",
       "      <td>75.0</td>\n",
       "      <td>127562.79</td>\n",
       "      <td>57849.77</td>\n",
       "      <td>25000.0</td>\n",
       "      <td>79263.0</td>\n",
       "      <td>120000.0</td>\n",
       "      <td>160080.0</td>\n",
       "      <td>324000.0</td>\n",
       "    </tr>\n",
       "    <tr>\n",
       "      <th>Data Scientist</th>\n",
       "      <td>65.0</td>\n",
       "      <td>131366.94</td>\n",
       "      <td>55785.24</td>\n",
       "      <td>18442.0</td>\n",
       "      <td>95550.0</td>\n",
       "      <td>135000.0</td>\n",
       "      <td>170000.0</td>\n",
       "      <td>260000.0</td>\n",
       "    </tr>\n",
       "  </tbody>\n",
       "</table>\n",
       "</div>"
      ],
      "text/plain": [
       "                count       mean       std      min      25%       50%  \\\n",
       "job_title                                                                \n",
       "Data Engineer    75.0  127562.79  57849.77  25000.0  79263.0  120000.0   \n",
       "Data Scientist   65.0  131366.94  55785.24  18442.0  95550.0  135000.0   \n",
       "\n",
       "                     75%       max  \n",
       "job_title                           \n",
       "Data Engineer   160080.0  324000.0  \n",
       "Data Scientist  170000.0  260000.0  "
      ]
     },
     "metadata": {},
     "output_type": "display_data"
    }
   ],
   "source": [
    "salary_statisctics = filtered_data.groupby('job_title')['salary_in_usd'].describe().round(2)\n",
    "print('')\n",
    "display(salary_statisctics)"
   ]
  },
  {
   "cell_type": "markdown",
   "metadata": {},
   "source": [
    "При первом приближении кажется, что уровень зарплат для должностей Data Science слегка выше, чем длю должностей Data Engineer. Статистические тестирования покажут, действительно ли это так."
   ]
  },
  {
   "cell_type": "markdown",
   "metadata": {},
   "source": [
    "### Уровень зарплаты Data Scientins в зависимости от опыта работы"
   ]
  },
  {
   "cell_type": "code",
   "execution_count": 14,
   "metadata": {},
   "outputs": [
    {
     "data": {
      "image/png": "[encoded data removed]",
      "text/plain": [
       "<Figure size 640x480 with 1 Axes>"
      ]
     },
     "metadata": {},
     "output_type": "display_data"
    }
   ],
   "source": [
    "# отфильтруем данные для должности Data Scientist\n",
    "filtered_data = data[data['job_title'] == 'Data Scientist']\n",
    "\n",
    "ax = sns.boxplot(filtered_data, x='salary_in_usd', y='experience_level', orient='h', medianprops={\"color\": \"red\", \"linestyle\": '--'})\n",
    "ax.set(xlabel='Размер зарплат', ylabel='Опыт работы')\n",
    "plt.title('Уровень зарплат в зависимости от опыта работы')\n",
    "plt.show()"
   ]
  },
  {
   "cell_type": "code",
   "execution_count": 15,
   "metadata": {},
   "outputs": [
    {
     "name": "stdout",
     "output_type": "stream",
     "text": [
      "\n"
     ]
    },
    {
     "data": {
      "text/html": [
       "<div>\n",
       "<style scoped>\n",
       "    .dataframe tbody tr th:only-of-type {\n",
       "        vertical-align: middle;\n",
       "    }\n",
       "\n",
       "    .dataframe tbody tr th {\n",
       "        vertical-align: top;\n",
       "    }\n",
       "\n",
       "    .dataframe thead th {\n",
       "        text-align: right;\n",
       "    }\n",
       "</style>\n",
       "<table border=\"1\" class=\"dataframe\">\n",
       "  <thead>\n",
       "    <tr style=\"text-align: right;\">\n",
       "      <th></th>\n",
       "      <th>count</th>\n",
       "      <th>mean</th>\n",
       "      <th>std</th>\n",
       "      <th>min</th>\n",
       "      <th>25%</th>\n",
       "      <th>50%</th>\n",
       "      <th>75%</th>\n",
       "      <th>max</th>\n",
       "    </tr>\n",
       "    <tr>\n",
       "      <th>experience_level</th>\n",
       "      <th></th>\n",
       "      <th></th>\n",
       "      <th></th>\n",
       "      <th></th>\n",
       "      <th></th>\n",
       "      <th></th>\n",
       "      <th></th>\n",
       "      <th></th>\n",
       "    </tr>\n",
       "  </thead>\n",
       "  <tbody>\n",
       "    <tr>\n",
       "      <th>Entry-level/Junior</th>\n",
       "      <td>22.0</td>\n",
       "      <td>55330.91</td>\n",
       "      <td>31237.82</td>\n",
       "      <td>4000.0</td>\n",
       "      <td>31474.0</td>\n",
       "      <td>50483.5</td>\n",
       "      <td>85027.25</td>\n",
       "      <td>105000.0</td>\n",
       "    </tr>\n",
       "    <tr>\n",
       "      <th>Mid-level/Intermediate</th>\n",
       "      <td>59.0</td>\n",
       "      <td>81891.76</td>\n",
       "      <td>47257.88</td>\n",
       "      <td>2859.0</td>\n",
       "      <td>41339.0</td>\n",
       "      <td>76958.0</td>\n",
       "      <td>118529.50</td>\n",
       "      <td>200000.0</td>\n",
       "    </tr>\n",
       "    <tr>\n",
       "      <th>Senior-level/Expert</th>\n",
       "      <td>49.0</td>\n",
       "      <td>150710.86</td>\n",
       "      <td>62918.63</td>\n",
       "      <td>20171.0</td>\n",
       "      <td>104890.0</td>\n",
       "      <td>144000.0</td>\n",
       "      <td>180000.00</td>\n",
       "      <td>412000.0</td>\n",
       "    </tr>\n",
       "  </tbody>\n",
       "</table>\n",
       "</div>"
      ],
      "text/plain": [
       "                        count       mean       std      min       25%  \\\n",
       "experience_level                                                        \n",
       "Entry-level/Junior       22.0   55330.91  31237.82   4000.0   31474.0   \n",
       "Mid-level/Intermediate   59.0   81891.76  47257.88   2859.0   41339.0   \n",
       "Senior-level/Expert      49.0  150710.86  62918.63  20171.0  104890.0   \n",
       "\n",
       "                             50%        75%       max  \n",
       "experience_level                                       \n",
       "Entry-level/Junior       50483.5   85027.25  105000.0  \n",
       "Mid-level/Intermediate   76958.0  118529.50  200000.0  \n",
       "Senior-level/Expert     144000.0  180000.00  412000.0  "
      ]
     },
     "metadata": {},
     "output_type": "display_data"
    }
   ],
   "source": [
    "salary_statisctics = filtered_data.groupby('experience_level')['salary_in_usd'].describe().round(2)\n",
    "print('')\n",
    "display(salary_statisctics)"
   ]
  },
  {
   "cell_type": "markdown",
   "metadata": {},
   "source": [
    "Судя по данным, опыт работы напрямую влияет на размер зарплаты. С увеличение опыта растет и зарплата. "
   ]
  },
  {
   "cell_type": "markdown",
   "metadata": {},
   "source": [
    "### Уровень зарплат Data Scientist в зависимости от типа трудоустройства"
   ]
  },
  {
   "cell_type": "code",
   "execution_count": 16,
   "metadata": {},
   "outputs": [
    {
     "data": {
      "image/png": "[encoded data removed]",
      "text/plain": [
       "<Figure size 640x480 with 1 Axes>"
      ]
     },
     "metadata": {},
     "output_type": "display_data"
    }
   ],
   "source": [
    "# отфильтруем данные для должности Data Scientist\n",
    "filtered_data = data[data['job_title'] == 'Data Scientist']\n",
    "\n",
    "ax = sns.boxplot(filtered_data, x='salary_in_usd', y='employment_type', orient='h', medianprops={\"color\": \"red\", \"linestyle\": '--'})\n",
    "ax.set(xlabel='Размер зарплат', ylabel='Тип трудоустройства')\n",
    "plt.title('Уровень зарплат в зависимости от типа трудоустройства')\n",
    "plt.show()"
   ]
  },
  {
   "cell_type": "code",
   "execution_count": 17,
   "metadata": {},
   "outputs": [
    {
     "name": "stdout",
     "output_type": "stream",
     "text": [
      "\n"
     ]
    },
    {
     "data": {
      "text/html": [
       "<div>\n",
       "<style scoped>\n",
       "    .dataframe tbody tr th:only-of-type {\n",
       "        vertical-align: middle;\n",
       "    }\n",
       "\n",
       "    .dataframe tbody tr th {\n",
       "        vertical-align: top;\n",
       "    }\n",
       "\n",
       "    .dataframe thead th {\n",
       "        text-align: right;\n",
       "    }\n",
       "</style>\n",
       "<table border=\"1\" class=\"dataframe\">\n",
       "  <thead>\n",
       "    <tr style=\"text-align: right;\">\n",
       "      <th></th>\n",
       "      <th>count</th>\n",
       "      <th>mean</th>\n",
       "      <th>std</th>\n",
       "      <th>min</th>\n",
       "      <th>25%</th>\n",
       "      <th>50%</th>\n",
       "      <th>75%</th>\n",
       "      <th>max</th>\n",
       "    </tr>\n",
       "    <tr>\n",
       "      <th>employment_type</th>\n",
       "      <th></th>\n",
       "      <th></th>\n",
       "      <th></th>\n",
       "      <th></th>\n",
       "      <th></th>\n",
       "      <th></th>\n",
       "      <th></th>\n",
       "      <th></th>\n",
       "    </tr>\n",
       "  </thead>\n",
       "  <tbody>\n",
       "    <tr>\n",
       "      <th>неполный рабочий день</th>\n",
       "      <td>2.0</td>\n",
       "      <td>60834.50</td>\n",
       "      <td>55388.38</td>\n",
       "      <td>21669.0</td>\n",
       "      <td>41251.75</td>\n",
       "      <td>60834.5</td>\n",
       "      <td>80417.25</td>\n",
       "      <td>100000.0</td>\n",
       "    </tr>\n",
       "    <tr>\n",
       "      <th>полный рабочий день</th>\n",
       "      <td>127.0</td>\n",
       "      <td>104031.94</td>\n",
       "      <td>64309.23</td>\n",
       "      <td>2859.0</td>\n",
       "      <td>50660.50</td>\n",
       "      <td>100000.0</td>\n",
       "      <td>140850.00</td>\n",
       "      <td>412000.0</td>\n",
       "    </tr>\n",
       "    <tr>\n",
       "      <th>фриланс</th>\n",
       "      <td>1.0</td>\n",
       "      <td>100000.00</td>\n",
       "      <td>NaN</td>\n",
       "      <td>100000.0</td>\n",
       "      <td>100000.00</td>\n",
       "      <td>100000.0</td>\n",
       "      <td>100000.00</td>\n",
       "      <td>100000.0</td>\n",
       "    </tr>\n",
       "  </tbody>\n",
       "</table>\n",
       "</div>"
      ],
      "text/plain": [
       "                       count       mean       std       min        25%  \\\n",
       "employment_type                                                          \n",
       "неполный рабочий день    2.0   60834.50  55388.38   21669.0   41251.75   \n",
       "полный рабочий день    127.0  104031.94  64309.23    2859.0   50660.50   \n",
       "фриланс                  1.0  100000.00       NaN  100000.0  100000.00   \n",
       "\n",
       "                            50%        75%       max  \n",
       "employment_type                                       \n",
       "неполный рабочий день   60834.5   80417.25  100000.0  \n",
       "полный рабочий день    100000.0  140850.00  412000.0  \n",
       "фриланс                100000.0  100000.00  100000.0  "
      ]
     },
     "metadata": {},
     "output_type": "display_data"
    }
   ],
   "source": [
    "salary_statisctics = filtered_data.groupby('employment_type')['salary_in_usd'].describe().round(2)\n",
    "print('')\n",
    "display(salary_statisctics)"
   ]
  },
  {
   "cell_type": "markdown",
   "metadata": {},
   "source": [
    "Для работающих на фрилансе невозможны выявить зависимость уровня зарплаты от типа трудоустройства, так как в выборке присутствуют данные только об одном сотруднике. Сравнивая же работающих полный рабочий день и работников с частичной занятостью, первые получают значительно более высокую зарплату."
   ]
  },
  {
   "cell_type": "markdown",
   "metadata": {},
   "source": [
    "### Уровень зарплат Data Scientist в зависимости от размера компании"
   ]
  },
  {
   "cell_type": "code",
   "execution_count": 18,
   "metadata": {},
   "outputs": [
    {
     "data": {
      "image/png": "[encoded data removed]",
      "text/plain": [
       "<Figure size 640x480 with 1 Axes>"
      ]
     },
     "metadata": {},
     "output_type": "display_data"
    }
   ],
   "source": [
    "# отфильтруем данные для должности Data Scientist\n",
    "filtered_data = data[data['job_title'] == 'Data Scientist']\n",
    "\n",
    "ax = sns.boxplot(filtered_data, x='salary_in_usd', y='company_size', orient='h', medianprops={\"color\": \"red\", \"linestyle\": '--'})\n",
    "ax.set(xlabel='Размер зарплат', ylabel='')\n",
    "plt.title('Уровень зарплат в зависимости от размера компании')\n",
    "plt.show()"
   ]
  },
  {
   "cell_type": "code",
   "execution_count": 19,
   "metadata": {},
   "outputs": [
    {
     "name": "stdout",
     "output_type": "stream",
     "text": [
      "\n"
     ]
    },
    {
     "data": {
      "text/html": [
       "<div>\n",
       "<style scoped>\n",
       "    .dataframe tbody tr th:only-of-type {\n",
       "        vertical-align: middle;\n",
       "    }\n",
       "\n",
       "    .dataframe tbody tr th {\n",
       "        vertical-align: top;\n",
       "    }\n",
       "\n",
       "    .dataframe thead th {\n",
       "        text-align: right;\n",
       "    }\n",
       "</style>\n",
       "<table border=\"1\" class=\"dataframe\">\n",
       "  <thead>\n",
       "    <tr style=\"text-align: right;\">\n",
       "      <th></th>\n",
       "      <th>count</th>\n",
       "      <th>mean</th>\n",
       "      <th>std</th>\n",
       "      <th>min</th>\n",
       "      <th>25%</th>\n",
       "      <th>50%</th>\n",
       "      <th>75%</th>\n",
       "      <th>max</th>\n",
       "    </tr>\n",
       "    <tr>\n",
       "      <th>company_size</th>\n",
       "      <th></th>\n",
       "      <th></th>\n",
       "      <th></th>\n",
       "      <th></th>\n",
       "      <th></th>\n",
       "      <th></th>\n",
       "      <th></th>\n",
       "      <th></th>\n",
       "    </tr>\n",
       "  </thead>\n",
       "  <tbody>\n",
       "    <tr>\n",
       "      <th>Large</th>\n",
       "      <td>43.0</td>\n",
       "      <td>102743.42</td>\n",
       "      <td>73254.10</td>\n",
       "      <td>13400.0</td>\n",
       "      <td>45240.5</td>\n",
       "      <td>90734.0</td>\n",
       "      <td>135000.0</td>\n",
       "      <td>412000.0</td>\n",
       "    </tr>\n",
       "    <tr>\n",
       "      <th>Medium</th>\n",
       "      <td>66.0</td>\n",
       "      <td>120080.58</td>\n",
       "      <td>56347.79</td>\n",
       "      <td>4000.0</td>\n",
       "      <td>80000.0</td>\n",
       "      <td>119529.5</td>\n",
       "      <td>157500.0</td>\n",
       "      <td>260000.0</td>\n",
       "    </tr>\n",
       "    <tr>\n",
       "      <th>Small</th>\n",
       "      <td>21.0</td>\n",
       "      <td>51925.76</td>\n",
       "      <td>33216.29</td>\n",
       "      <td>2859.0</td>\n",
       "      <td>21669.0</td>\n",
       "      <td>49268.0</td>\n",
       "      <td>82500.0</td>\n",
       "      <td>105000.0</td>\n",
       "    </tr>\n",
       "  </tbody>\n",
       "</table>\n",
       "</div>"
      ],
      "text/plain": [
       "              count       mean       std      min      25%       50%  \\\n",
       "company_size                                                           \n",
       "Large          43.0  102743.42  73254.10  13400.0  45240.5   90734.0   \n",
       "Medium         66.0  120080.58  56347.79   4000.0  80000.0  119529.5   \n",
       "Small          21.0   51925.76  33216.29   2859.0  21669.0   49268.0   \n",
       "\n",
       "                   75%       max  \n",
       "company_size                      \n",
       "Large         135000.0  412000.0  \n",
       "Medium        157500.0  260000.0  \n",
       "Small          82500.0  105000.0  "
      ]
     },
     "metadata": {},
     "output_type": "display_data"
    }
   ],
   "source": [
    "salary_statisctics = filtered_data.groupby('company_size')['salary_in_usd'].describe().round(2)\n",
    "print('')\n",
    "display(salary_statisctics)"
   ]
  },
  {
   "cell_type": "markdown",
   "metadata": {},
   "source": [
    "Судя по графику и данным, зарплаты специалистов Data Science в небольших компаниях ниже, чем в средних и крупных. Сравнивая же уровень зарплат в средних и крупных компанию, в средних уровень дохода выше. Достоверно подтвердить данное утвержение можно будет с помощью статистических тестов далее в исследовании."
   ]
  },
  {
   "cell_type": "markdown",
   "metadata": {},
   "source": [
    "\n",
    "### Распределение зарплат Data Scientist по годам"
   ]
  },
  {
   "cell_type": "code",
   "execution_count": 20,
   "metadata": {},
   "outputs": [
    {
     "data": {
      "image/png": "[encoded data removed]",
      "text/plain": [
       "<Figure size 640x480 with 1 Axes>"
      ]
     },
     "metadata": {},
     "output_type": "display_data"
    }
   ],
   "source": [
    "# отфильтруем данные для должности Data Scientist\n",
    "filtered_data = data[data['job_title'] == 'Data Scientist']\n",
    "\n",
    "ax = sns.boxplot(filtered_data, x='salary_in_usd', y='work_year', orient='h', medianprops={\"color\": \"red\", \"linestyle\": '--'})\n",
    "ax.set(xlabel='Размер зарплат', ylabel='Год')\n",
    "plt.title('Распределение зарплат по годам')\n",
    "plt.show()"
   ]
  },
  {
   "cell_type": "code",
   "execution_count": 21,
   "metadata": {},
   "outputs": [
    {
     "name": "stdout",
     "output_type": "stream",
     "text": [
      "\n"
     ]
    },
    {
     "data": {
      "text/html": [
       "<div>\n",
       "<style scoped>\n",
       "    .dataframe tbody tr th:only-of-type {\n",
       "        vertical-align: middle;\n",
       "    }\n",
       "\n",
       "    .dataframe tbody tr th {\n",
       "        vertical-align: top;\n",
       "    }\n",
       "\n",
       "    .dataframe thead th {\n",
       "        text-align: right;\n",
       "    }\n",
       "</style>\n",
       "<table border=\"1\" class=\"dataframe\">\n",
       "  <thead>\n",
       "    <tr style=\"text-align: right;\">\n",
       "      <th></th>\n",
       "      <th>count</th>\n",
       "      <th>mean</th>\n",
       "      <th>std</th>\n",
       "      <th>min</th>\n",
       "      <th>25%</th>\n",
       "      <th>50%</th>\n",
       "      <th>75%</th>\n",
       "      <th>max</th>\n",
       "    </tr>\n",
       "    <tr>\n",
       "      <th>work_year</th>\n",
       "      <th></th>\n",
       "      <th></th>\n",
       "      <th></th>\n",
       "      <th></th>\n",
       "      <th></th>\n",
       "      <th></th>\n",
       "      <th></th>\n",
       "      <th></th>\n",
       "    </tr>\n",
       "  </thead>\n",
       "  <tbody>\n",
       "    <tr>\n",
       "      <th>2020</th>\n",
       "      <td>21.0</td>\n",
       "      <td>85970.52</td>\n",
       "      <td>81436.65</td>\n",
       "      <td>21669.0</td>\n",
       "      <td>42197.00</td>\n",
       "      <td>62726.0</td>\n",
       "      <td>105000.00</td>\n",
       "      <td>412000.0</td>\n",
       "    </tr>\n",
       "    <tr>\n",
       "      <th>2021</th>\n",
       "      <td>44.0</td>\n",
       "      <td>70215.77</td>\n",
       "      <td>45843.82</td>\n",
       "      <td>2859.0</td>\n",
       "      <td>32793.75</td>\n",
       "      <td>67233.5</td>\n",
       "      <td>100922.75</td>\n",
       "      <td>165000.0</td>\n",
       "    </tr>\n",
       "    <tr>\n",
       "      <th>2022</th>\n",
       "      <td>65.0</td>\n",
       "      <td>131366.94</td>\n",
       "      <td>55785.24</td>\n",
       "      <td>18442.0</td>\n",
       "      <td>95550.00</td>\n",
       "      <td>135000.0</td>\n",
       "      <td>170000.00</td>\n",
       "      <td>260000.0</td>\n",
       "    </tr>\n",
       "  </tbody>\n",
       "</table>\n",
       "</div>"
      ],
      "text/plain": [
       "           count       mean       std      min       25%       50%        75%  \\\n",
       "work_year                                                                       \n",
       "2020        21.0   85970.52  81436.65  21669.0  42197.00   62726.0  105000.00   \n",
       "2021        44.0   70215.77  45843.82   2859.0  32793.75   67233.5  100922.75   \n",
       "2022        65.0  131366.94  55785.24  18442.0  95550.00  135000.0  170000.00   \n",
       "\n",
       "                max  \n",
       "work_year            \n",
       "2020       412000.0  \n",
       "2021       165000.0  \n",
       "2022       260000.0  "
      ]
     },
     "metadata": {},
     "output_type": "display_data"
    }
   ],
   "source": [
    "salary_statisctics = filtered_data.groupby('work_year')['salary_in_usd'].describe().round(2)\n",
    "print('')\n",
    "display(salary_statisctics)"
   ]
  },
  {
   "cell_type": "markdown",
   "metadata": {},
   "source": [
    "Судя по графику и данным, наблюдается рост зарплат специалистов Data Science в 2022 году по сравнению с 2021 годом. Тогда как в 2021 году рост зарплаты не наблюдается. Достоверно подтвердить данное утвержение можно будет с помощью статистических тестов далее в исследовании."
   ]
  },
  {
   "cell_type": "markdown",
   "metadata": {},
   "source": [
    "### Распределение зарплат Data Scientist в зависимости от объема удаленной работы"
   ]
  },
  {
   "cell_type": "code",
   "execution_count": 22,
   "metadata": {},
   "outputs": [
    {
     "data": {
      "image/png": "[encoded data removed]",
      "text/plain": [
       "<Figure size 640x480 with 1 Axes>"
      ]
     },
     "metadata": {},
     "output_type": "display_data"
    }
   ],
   "source": [
    "# отфильтруем данные для должности Data Scientist\n",
    "filtered_data = data[data['job_title'] == 'Data Scientist']\n",
    "\n",
    "ax = sns.boxplot(filtered_data, x='salary_in_usd', y='remote_ratio', orient='h', medianprops={\"color\": \"red\", \"linestyle\": '--'})\n",
    "ax.set(xlabel='Размер зарплат', ylabel='Объем удаленной работы')\n",
    "plt.title('Распределение зарплат в зависмости от \\n объема удаленной работы')\n",
    "plt.show()"
   ]
  },
  {
   "cell_type": "code",
   "execution_count": 23,
   "metadata": {},
   "outputs": [
    {
     "name": "stdout",
     "output_type": "stream",
     "text": [
      "\n"
     ]
    },
    {
     "data": {
      "text/html": [
       "<div>\n",
       "<style scoped>\n",
       "    .dataframe tbody tr th:only-of-type {\n",
       "        vertical-align: middle;\n",
       "    }\n",
       "\n",
       "    .dataframe tbody tr th {\n",
       "        vertical-align: top;\n",
       "    }\n",
       "\n",
       "    .dataframe thead th {\n",
       "        text-align: right;\n",
       "    }\n",
       "</style>\n",
       "<table border=\"1\" class=\"dataframe\">\n",
       "  <thead>\n",
       "    <tr style=\"text-align: right;\">\n",
       "      <th></th>\n",
       "      <th>count</th>\n",
       "      <th>mean</th>\n",
       "      <th>std</th>\n",
       "      <th>min</th>\n",
       "      <th>25%</th>\n",
       "      <th>50%</th>\n",
       "      <th>75%</th>\n",
       "      <th>max</th>\n",
       "    </tr>\n",
       "    <tr>\n",
       "      <th>remote_ratio</th>\n",
       "      <th></th>\n",
       "      <th></th>\n",
       "      <th></th>\n",
       "      <th></th>\n",
       "      <th></th>\n",
       "      <th></th>\n",
       "      <th></th>\n",
       "      <th></th>\n",
       "    </tr>\n",
       "  </thead>\n",
       "  <tbody>\n",
       "    <tr>\n",
       "      <th>0</th>\n",
       "      <td>38.0</td>\n",
       "      <td>98444.97</td>\n",
       "      <td>58647.60</td>\n",
       "      <td>2859.0</td>\n",
       "      <td>49781.25</td>\n",
       "      <td>93582.0</td>\n",
       "      <td>139050.0</td>\n",
       "      <td>215300.0</td>\n",
       "    </tr>\n",
       "    <tr>\n",
       "      <th>50</th>\n",
       "      <td>24.0</td>\n",
       "      <td>73827.83</td>\n",
       "      <td>36204.18</td>\n",
       "      <td>20171.0</td>\n",
       "      <td>47783.75</td>\n",
       "      <td>62726.0</td>\n",
       "      <td>102250.0</td>\n",
       "      <td>147000.0</td>\n",
       "    </tr>\n",
       "    <tr>\n",
       "      <th>100</th>\n",
       "      <td>68.0</td>\n",
       "      <td>116484.54</td>\n",
       "      <td>70908.36</td>\n",
       "      <td>5679.0</td>\n",
       "      <td>64420.00</td>\n",
       "      <td>111500.0</td>\n",
       "      <td>160000.0</td>\n",
       "      <td>412000.0</td>\n",
       "    </tr>\n",
       "  </tbody>\n",
       "</table>\n",
       "</div>"
      ],
      "text/plain": [
       "              count       mean       std      min       25%       50%  \\\n",
       "remote_ratio                                                            \n",
       "0              38.0   98444.97  58647.60   2859.0  49781.25   93582.0   \n",
       "50             24.0   73827.83  36204.18  20171.0  47783.75   62726.0   \n",
       "100            68.0  116484.54  70908.36   5679.0  64420.00  111500.0   \n",
       "\n",
       "                   75%       max  \n",
       "remote_ratio                      \n",
       "0             139050.0  215300.0  \n",
       "50            102250.0  147000.0  \n",
       "100           160000.0  412000.0  "
      ]
     },
     "metadata": {},
     "output_type": "display_data"
    }
   ],
   "source": [
    "salary_statisctics = filtered_data.groupby('remote_ratio')['salary_in_usd'].describe().round(2)\n",
    "print('')\n",
    "display(salary_statisctics)"
   ]
  },
  {
   "cell_type": "markdown",
   "metadata": {},
   "source": [
    "Судя по данным, 100% удаленная работа наиболее высоко оплачиваемая, далее идет 100% работа в офисе, и на последнем месте гибридный график (50% в офисе, 50% - из дома)."
   ]
  },
  {
   "cell_type": "markdown",
   "metadata": {},
   "source": [
    "### Соотношение наличия должностей Data Scientist и Data Engineer с размером компании"
   ]
  },
  {
   "cell_type": "code",
   "execution_count": 24,
   "metadata": {},
   "outputs": [
    {
     "data": {
      "image/png": "[encoded data removed]",
      "text/plain": [
       "<Figure size 600x600 with 1 Axes>"
      ]
     },
     "metadata": {},
     "output_type": "display_data"
    }
   ],
   "source": [
    "\n",
    "plt.figure(figsize=(6, 6))\n",
    "ax = sns.countplot(data=data, x=data['company_size'], hue='DE_DS')\n",
    "ax.set(xlabel='Должность', ylabel='Количество')\n",
    "plt.legend(title = 'Наличие Data Engineer\\n и Data Scientist', loc='best', alignment='left', title_fontsize='11')\n",
    "plt.title('Соотношение наличия должностей Data Scientist\\n и Data Engineer с размером компании')\n",
    "plt.show()"
   ]
  },
  {
   "cell_type": "code",
   "execution_count": 25,
   "metadata": {},
   "outputs": [
    {
     "data": {
      "image/png": "[encoded data removed]",
      "text/plain": [
       "<Figure size 640x480 with 2 Axes>"
      ]
     },
     "metadata": {},
     "output_type": "display_data"
    }
   ],
   "source": [
    "cross_tab = pd.crosstab(index=data['company_size'], columns=data['DE_DS'])\n",
    "ax = sns.heatmap(cross_tab, annot=True, linewidth=.5, fmt='.0f', cmap=\"coolwarm\")\n",
    "ax.set(xlabel='Наличие должностей DE и DS', ylabel='Размер компании')\n",
    "plt.title('Таблица сопряженности')\n",
    "plt.show()"
   ]
  },
  {
   "cell_type": "markdown",
   "metadata": {},
   "source": [
    "### Промежуточные итоги\n",
    "\n",
    "Судя по данным и графикам, наиболее высокую зарплату на должности Data Scientist получают сотрудники с уронем опыта Senior, работающие 100% удаленно и полный рабочий день, в средних по размеру компаниях. В 2022 году зарплаты у таких специалистов выросли, однако в 2021 году роста зарплаты не было. Больше всего сотрудников с должностями Data Scientist и Data Engineer работает в средних по размеру компаниях, причем у первых зарплаты выше."
   ]
  },
  {
   "cell_type": "markdown",
   "metadata": {},
   "source": [
    "## Статистический анализ данных"
   ]
  },
  {
   "cell_type": "code",
   "execution_count": 26,
   "metadata": {},
   "outputs": [],
   "source": [
    "# функция для принятия решения о нормальности\n",
    "def decision_normality(p):\n",
    "    print('p-value = {:.3f}'.format(p))\n",
    "    if p <= alpha:\n",
    "        print('p-значение меньше, чем заданный уровень значимости {:.2f}. Распределение отлично от нормального'.format(alpha))\n",
    "    else:\n",
    "        print('p-значение больше, чем заданный уровень значимости {:.2f}. Распределение является нормальным'.format(alpha))\n",
    "\n",
    "\n",
    "# функция для принятия решения об отклонении нулевой гипотезы\n",
    "def decision_hypothesis(p):\n",
    "    print('p-value = {:.3f}'.format(p))\n",
    "    if p <= alpha:\n",
    "        print('p-значение меньше, чем заданный уровень значимости {:.2f}. Отвергаем нулевую гипотезу в пользу альтернативной.'.format(alpha))\n",
    "    else:\n",
    "        print('p-значение больше, чем заданный уровень значимости {:.2f}. У нас нет оснований отвергнуть нулевую гипотезу.'.format(alpha))\n",
    "      "
   ]
  },
  {
   "cell_type": "markdown",
   "metadata": {},
   "source": [
    "### Наблюдается ли ежегодный рост зарплат у специалистов Data Scientist?\n",
    "\n",
    "**Сформулируем нулевую и альтернативные гипотезы для сравнения 2020 и 2021 годов:**\n",
    "\n",
    "*Нулевая гипотеза* ($H_0$): уровень зарплат в 2021 году ($μ_1$) статистически меньше либо равен уровню зарплат в 2020 году ($μ_2$).\n",
    "\n",
    "$$ H_0 : μ_1 <= μ_2$$\n",
    "\n",
    "*Альтернативная гипотеза* ($H_1$): уровень зарплат в 2021 году  ($μ_1$) статистически больше, чем уровень зарплат в 2020 году ($μ_2$).\n",
    "\n",
    "$$ H_1 : μ_1 > μ_2$$\n",
    "\n",
    "**Сформулируем нулевую и альтернативные гипотезы для сравнения 2021 и 2022 годов:**\n",
    "\n",
    "*Нулевая гипотеза* ($H_0$): уровень зарплат в 2022 году ($μ_1$) статистически меньше либо равен уровню зарплат в 2021 году ($μ_2$).\n",
    "\n",
    "$$ H_0 : μ_1 <= μ_2$$\n",
    "\n",
    "*Альтернативная гипотеза* ($H_1$):уровень зарплат в 2022 году ($μ_1$) статистически больше, чем уровень зарплат в 2021 году ($μ_2$).\n",
    "\n",
    "$$ H_1 : μ_1 > μ_2$$"
   ]
  },
  {
   "cell_type": "markdown",
   "metadata": {},
   "source": [
    "**Проверка на нормальность**\n",
    "\n",
    "С помощью теста Шапиро-Уилка проверим, распределён ли признак нормально. Гипотезы теста Шапиро-Уилка:\n",
    "\n",
    "*Нулевая гипотеза* ($H_0$): распределение данные является нормальным.\n",
    "\n",
    "*Альтернативная гипотеза* ($H_1$): распределение данных отлично от нормального."
   ]
  },
  {
   "cell_type": "code",
   "execution_count": 27,
   "metadata": {},
   "outputs": [
    {
     "name": "stdout",
     "output_type": "stream",
     "text": [
      "Для 2020 года:\n",
      "p-value = 0.000\n",
      "p-значение меньше, чем заданный уровень значимости 0.05. Распределение отлично от нормального\n",
      "Для 2021 года:\n",
      "p-value = 0.107\n",
      "p-значение больше, чем заданный уровень значимости 0.05. Распределение является нормальным\n",
      "Для 2022 года:\n",
      "p-value = 0.676\n",
      "p-значение больше, чем заданный уровень значимости 0.05. Распределение является нормальным\n"
     ]
    }
   ],
   "source": [
    "# отфильтруем данные для должности Data Scientist\n",
    "filtered_data = data[data['job_title'] == 'Data Scientist']\n",
    "\n",
    "# значения зарплат\n",
    "salaries_2020 = filtered_data.loc[filtered_data['work_year']==2020, 'salary_in_usd']\n",
    "salaries_2021 = filtered_data.loc[filtered_data['work_year']==2021, 'salary_in_usd']\n",
    "salaries_2022 = filtered_data.loc[filtered_data['work_year']==2022, 'salary_in_usd']\n",
    "\n",
    "# проводим тест Шапиро-Уилка\n",
    "print('Для 2020 года:')\n",
    "result = stats.shapiro(salaries_2020)\n",
    "decision_normality(result[1])\n",
    "\n",
    "print('Для 2021 года:')\n",
    "result = stats.shapiro(salaries_2021)\n",
    "decision_normality(result[1])\n",
    "\n",
    "print('Для 2022 года:')\n",
    "result = stats.shapiro(salaries_2022)\n",
    "decision_normality(result[1])\n"
   ]
  },
  {
   "cell_type": "markdown",
   "metadata": {},
   "source": [
    "**Выберем подходящий статистический тест**\n",
    "\n",
    "Для выбора нужного теста воспользуемся алгоритмом выбора теста. Для этого ответим на следующие вопросы:\n",
    "* Какой тип у признака «salary_in_usd»? — Количественный.\n",
    "* Сколько сравниваемых групп? — Две.\n",
    "* Группы зависимы? — Нет.\n",
    "* Признак распределён по нормальному закону? — распределение для 2020 года не явлется нормальным, для 2021 и  2022 года является нормальным.\n",
    "\n",
    "Чтобы проверить нашу гипотезу, можно использовать U-критерий Манна — Уитни для сравнения распределений на основе рангов для сравнения 2020 и 2021 годов, так как один из признаков не распределен нормально. Для сравнения 2021 и 2022 года будем использовать двухвыборочный t-критерий (t-test).\n",
    "\n",
    "**Проведём тест**"
   ]
  },
  {
   "cell_type": "code",
   "execution_count": 28,
   "metadata": {},
   "outputs": [
    {
     "name": "stdout",
     "output_type": "stream",
     "text": [
      "p-value = 0.705\n",
      "p-значение больше, чем заданный уровень значимости 0.05. У нас нет оснований отвергнуть нулевую гипотезу.\n",
      "p-value = 0.599\n",
      "p-значение больше, чем заданный уровень значимости 0.05. У нас нет оснований отвергнуть нулевую гипотезу.\n"
     ]
    }
   ],
   "source": [
    "# проводим тест для сравнения 2020 и 2021 годов\n",
    "_, p = stats.mannwhitneyu(salaries_2021, salaries_2020, alternative='greater')\n",
    "decision_hypothesis(p)\n",
    "\n",
    "# также проверим, были ли зарплаты в 2020 и 2021 годах равны (это будет нулевая гипотеза)\n",
    "_, p = stats.mannwhitneyu(salaries_2021, salaries_2020, alternative='two-sided')\n",
    "decision_hypothesis(p)"
   ]
  },
  {
   "cell_type": "code",
   "execution_count": 39,
   "metadata": {},
   "outputs": [
    {
     "name": "stdout",
     "output_type": "stream",
     "text": [
      "Тест на равенство дисперсий\n",
      "p-value = 0.264\n",
      "Дисперсии одинаковы, в stats.ttest_ind нужно использовать параметр equal_var=True.\n",
      "\n",
      "Тест на равенство средних\n",
      "p-value = 0.000\n",
      "p-значение меньше, чем заданный уровень значимости 0.05. Отвергаем нулевую гипотезу в пользу альтернативной.\n"
     ]
    }
   ],
   "source": [
    "# проводим тест для сравнения 2021 и 2022 годов\n",
    "# проводим тест Левена на равенство дисперсий\n",
    "print('Тест на равенство дисперсий')\n",
    "result = stats.levene(salaries_2022, salaries_2021)\n",
    "p = result[1]\n",
    "print('p-value = {:.3f}'.format(p))\n",
    "\n",
    "# интерпретируем результат\n",
    "if p <= alpha:\n",
    "    print('Дисперсии не одинаковы, в stats.ttest_ind нужно использовать параметр equal_var=False.')\n",
    "else:\n",
    "    print('Дисперсии одинаковы, в stats.ttest_ind нужно использовать параметр equal_var=True.')\n",
    "\n",
    "# проводим тест на сравнение средних в группах\n",
    "print('\\nТест на равенство средних')\n",
    "_, p = stats.ttest_ind(salaries_2022, salaries_2021, alternative='greater', equal_var=True)\n",
    "\n",
    "decision_hypothesis(p)"
   ]
  },
  {
   "cell_type": "markdown",
   "metadata": {},
   "source": [
    "**Вывод**\n",
    "\n",
    "Сравнивая 2020 год с 2021, и 2021 с 2022, наблюдается рост зарплат только в 2022 году. В 2020 и  2021 годах зарплаты находились на одном уровне."
   ]
  },
  {
   "cell_type": "markdown",
   "metadata": {},
   "source": [
    "### Как соотносятся зарплаты Data Scientist и Data Engineer в 2022 году?\n",
    "\n",
    "**Сформулируем нулевую и альтернативные гипотезы:**\n",
    "\n",
    "*Нулевая гипотеза* ($H_0$): уровень зарплат Data Scientist в 2022 году ($μ_1$) статистически равен уровню зарплат Data Engineer в 2022 году($μ_2$).\n",
    "\n",
    "$$ H_0 : μ_1 = μ_2$$\n",
    "\n",
    "*Альтернативная гипотеза* ($H_1$): уровень зарплат Data Scientist в 2022 году  ($μ_1$) статистически не равен уровню зарплат Data Engineer в 2022 году ($μ_2$).\n",
    "\n",
    "$$ H_1 : μ_1 \\neq μ_2$$\n",
    "\n"
   ]
  },
  {
   "cell_type": "markdown",
   "metadata": {},
   "source": [
    "**Проверка на нормальность**\n",
    "\n",
    "С помощью теста Шапиро-Уилка проверим, распределён ли признак нормально."
   ]
  },
  {
   "cell_type": "code",
   "execution_count": 30,
   "metadata": {},
   "outputs": [
    {
     "name": "stdout",
     "output_type": "stream",
     "text": [
      "Для зарплат Data Scientis в 2022 году:\n",
      "p-value = 0.676\n",
      "p-значение больше, чем заданный уровень значимости 0.05. Распределение является нормальным\n",
      "Для зарплат Data Engineer в 2022 году:\n",
      "p-value = 0.022\n",
      "p-значение меньше, чем заданный уровень значимости 0.05. Распределение отлично от нормального\n"
     ]
    }
   ],
   "source": [
    "# значения зарплат\n",
    "filtered_data = data[data['work_year'] == 2022]\n",
    "\n",
    "salaries_DS = filtered_data.loc[filtered_data['job_title']=='Data Scientist', 'salary_in_usd']\n",
    "salaries_DE = filtered_data.loc[filtered_data['job_title']=='Data Engineer', 'salary_in_usd']\n",
    "\n",
    "\n",
    "# проводим тест Шапиро-Уилка\n",
    "print('Для зарплат Data Scientis в 2022 году:')\n",
    "result = stats.shapiro(salaries_DS)\n",
    "decision_normality(result[1])\n",
    "\n",
    "print('Для зарплат Data Engineer в 2022 году:')\n",
    "result = stats.shapiro(salaries_DE)\n",
    "decision_normality(result[1])\n",
    "\n"
   ]
  },
  {
   "cell_type": "markdown",
   "metadata": {},
   "source": [
    "**Выберем подходящий статистический тест**\n",
    "\n",
    "Для выбора нужного теста воспользуемся алгоритмом выбора теста. Для этого ответим на следующие вопросы:\n",
    "* Какой тип у признака «salary_in_usd»? — Количественный.\n",
    "* Сколько сравниваемых групп? — Две.\n",
    "* Группы зависимы? — Нет.\n",
    "* Признак распределён по нормальному закону? — Один из признаков распределен, второй - нет.\n",
    "\n",
    "Чтобы проверить нашу гипотезу, можно использовать U-критерий Манна — Уитни для сравнения распределений на основе рангов.\n",
    "\n",
    "**Проведём тест**"
   ]
  },
  {
   "cell_type": "code",
   "execution_count": 31,
   "metadata": {},
   "outputs": [
    {
     "name": "stdout",
     "output_type": "stream",
     "text": [
      "p-value = 0.506\n",
      "p-значение больше, чем заданный уровень значимости 0.05. У нас нет оснований отвергнуть нулевую гипотезу.\n"
     ]
    }
   ],
   "source": [
    "# проводим тест \n",
    "_, p = stats.mannwhitneyu(salaries_DS, salaries_DE, alternative='two-sided')\n",
    "decision_hypothesis(p)"
   ]
  },
  {
   "cell_type": "markdown",
   "metadata": {},
   "source": [
    "**Вывод**\n",
    "\n",
    "Нет основания отвергнуть нулевую гипотезу, уровни зарплат специалистов с должностями Data Scientist и Data Engineer статистически равны."
   ]
  },
  {
   "cell_type": "markdown",
   "metadata": {},
   "source": [
    "### Как соотносятся зарплаты специалистов Data Scientist в компаниях различных размеров?\n",
    "\n",
    "**Сформулируем нулевую и альтернативные гипотезы**\n",
    "\n",
    "*Нулевая гипотеза*: размер зарплаты специалистов Data Scientist не отличается в компаниях различных размеров: small ($μ_1$), medium ($μ_2$), large ($μ_3$).\n",
    "\n",
    "$$ H_0 : μ_1 = μ_2 = μ_3$$\n",
    "\n",
    "*Альтернативная гипотеза*: размер зарплаты специалистов Data Scientist отличается в компаниях различных размеров: small ($μ_1$), medium ($μ_2$), large ($μ_3$).\n",
    "\n",
    "$$ H_1 : μ_1 \\neq μ_2 \\neq μ_3$$"
   ]
  },
  {
   "cell_type": "markdown",
   "metadata": {},
   "source": [
    "**Проверка на нормальность**\n",
    "\n",
    "С помощью теста Шапиро-Уилка проверим, распределён ли признак нормально."
   ]
  },
  {
   "cell_type": "code",
   "execution_count": 32,
   "metadata": {},
   "outputs": [
    {
     "name": "stdout",
     "output_type": "stream",
     "text": [
      "Для маленьких компаний:\n",
      "p-value = 0.189\n",
      "p-значение больше, чем заданный уровень значимости 0.05. Распределение является нормальным\n",
      "Для средних компаний:\n",
      "p-value = 0.897\n",
      "p-значение больше, чем заданный уровень значимости 0.05. Распределение является нормальным\n",
      "Для крупных компаний:\n",
      "p-value = 0.000\n",
      "p-значение меньше, чем заданный уровень значимости 0.05. Распределение отлично от нормального\n"
     ]
    }
   ],
   "source": [
    "# отфильтруем данные для должности Data Scientist\n",
    "filtered_data = data[data['job_title'] == 'Data Scientist']\n",
    "\n",
    "# значения зарплат\n",
    "salaries_small = filtered_data.loc[filtered_data['company_size']=='Small', 'salary_in_usd']\n",
    "salaries_medium = filtered_data.loc[filtered_data['company_size']=='Medium', 'salary_in_usd']\n",
    "salaries_large = filtered_data.loc[filtered_data['company_size']=='Large', 'salary_in_usd']\n",
    "\n",
    "# проводим тест Шапиро-Уилка\n",
    "print('Для маленьких компаний:')\n",
    "result = stats.shapiro(salaries_small)\n",
    "decision_normality(result[1])\n",
    "\n",
    "print('Для средних компаний:')\n",
    "result = stats.shapiro(salaries_medium)\n",
    "decision_normality(result[1])\n",
    "\n",
    "print('Для крупных компаний:')\n",
    "result = stats.shapiro(salaries_large)\n",
    "decision_normality(result[1])"
   ]
  },
  {
   "cell_type": "markdown",
   "metadata": {},
   "source": [
    "**Выберем подходящий статистический тест**\n",
    "\n",
    "Для выбора нужного теста воспользуемся алгоритмом выбора теста. Для этого ответим на следующие вопросы:\n",
    "* Какой тип у признака «salary_in_usd»? — Количественный.\n",
    "* Сколько сравниваемых групп? — Три.\n",
    "* Группы зависимы? — Нет.\n",
    "* Признак распределён по нормальному закону? — 1 из 3 признаков не распределен нормально. \n",
    "\n",
    "Для проверки нашей гипотезы можно использовать критерий Краскела — Уоллиса.\n",
    "\n",
    "**Проведём тест**"
   ]
  },
  {
   "cell_type": "code",
   "execution_count": 33,
   "metadata": {},
   "outputs": [
    {
     "name": "stdout",
     "output_type": "stream",
     "text": [
      "p-value = 0.000\n",
      "p-значение меньше, чем заданный уровень значимости 0.05. Отвергаем нулевую гипотезу в пользу альтернативной.\n"
     ]
    }
   ],
   "source": [
    "# проводим тест\n",
    "_, p = stats.kruskal(salaries_small, salaries_medium, salaries_large)\n",
    "decision_hypothesis(p)"
   ]
  },
  {
   "cell_type": "markdown",
   "metadata": {},
   "source": [
    "**Вывод**\n",
    "\n",
    "Отвергаем нулевую гипотезу в пользу альтернативной, размер зарплаты специалистов Data Scientist отличается в компаниях различных размеров."
   ]
  },
  {
   "cell_type": "markdown",
   "metadata": {},
   "source": [
    "### Есть ли связь между наличием должностей Data Scientist и Data Engineer и размером компании?\n",
    "\n",
    "**Сформулируем нулевую и альтернативные гипотезы**\n",
    "\n",
    "*Нулевая гипотеза*: между наличием должностей Data Scientist и Data Engineer и размером компании нет взаимосвязи (признаки независимы).\n",
    "\n",
    "*Альтернативная гипотеза*: между наличием должностей Data Scientist и Data Engineer и размером компаниим есть взаимосвязь (признаки зависимы)."
   ]
  },
  {
   "cell_type": "markdown",
   "metadata": {},
   "source": [
    "**Выберем подходящий статистический тест**\n",
    "\n",
    "Для выбора нужного теста воспользуемся алгоритмом выбора теста. Для этого ответим на следующие вопросы:\n",
    "* Какой тип у признака «company_size»? — Категориальный.\n",
    "* Сколько сравниваемых групп? — Две.\n",
    "* Проверяется независимость групп? — Да.\n",
    "\n",
    "Для проверки нашей гипотезы можно использовать критерий ${\\chi}^2$ (хи-квадрат).\n",
    "\n",
    "**Проведём тест**"
   ]
  },
  {
   "cell_type": "code",
   "execution_count": 34,
   "metadata": {},
   "outputs": [
    {
     "data": {
      "text/html": [
       "<div>\n",
       "<style scoped>\n",
       "    .dataframe tbody tr th:only-of-type {\n",
       "        vertical-align: middle;\n",
       "    }\n",
       "\n",
       "    .dataframe tbody tr th {\n",
       "        vertical-align: top;\n",
       "    }\n",
       "\n",
       "    .dataframe thead th {\n",
       "        text-align: right;\n",
       "    }\n",
       "</style>\n",
       "<table border=\"1\" class=\"dataframe\">\n",
       "  <thead>\n",
       "    <tr style=\"text-align: right;\">\n",
       "      <th>DE_DS</th>\n",
       "      <th>no</th>\n",
       "      <th>yes</th>\n",
       "    </tr>\n",
       "    <tr>\n",
       "      <th>company_size</th>\n",
       "      <th></th>\n",
       "      <th></th>\n",
       "    </tr>\n",
       "  </thead>\n",
       "  <tbody>\n",
       "    <tr>\n",
       "      <th>Large</th>\n",
       "      <td>116</td>\n",
       "      <td>77</td>\n",
       "    </tr>\n",
       "    <tr>\n",
       "      <th>Medium</th>\n",
       "      <td>141</td>\n",
       "      <td>143</td>\n",
       "    </tr>\n",
       "    <tr>\n",
       "      <th>Small</th>\n",
       "      <td>55</td>\n",
       "      <td>27</td>\n",
       "    </tr>\n",
       "  </tbody>\n",
       "</table>\n",
       "</div>"
      ],
      "text/plain": [
       "DE_DS          no  yes\n",
       "company_size          \n",
       "Large         116   77\n",
       "Medium        141  143\n",
       "Small          55   27"
      ]
     },
     "execution_count": 34,
     "metadata": {},
     "output_type": "execute_result"
    }
   ],
   "source": [
    "# составляем таблицу сопряжённости\n",
    "cross_tab = pd.crosstab(index=data['company_size'], columns=data['DE_DS'])\n",
    "\n",
    "cross_tab"
   ]
  },
  {
   "cell_type": "code",
   "execution_count": 35,
   "metadata": {},
   "outputs": [
    {
     "name": "stdout",
     "output_type": "stream",
     "text": [
      "p-value = 0.007\n",
      "p-значение меньше, чем заданный уровень значимости 0.05. Отвергаем нулевую гипотезу в пользу альтернативной.\n"
     ]
    }
   ],
   "source": [
    "# проводим тест\n",
    "_, p, _, _ = stats.chi2_contingency(cross_tab)\n",
    "decision_hypothesis(p)"
   ]
  },
  {
   "cell_type": "markdown",
   "metadata": {},
   "source": [
    "**Вывод**\n",
    "\n",
    "Существует статистически значимая взаимосвязь между наличием должностей Data Scientist и Data Engineer и размером компании."
   ]
  },
  {
   "cell_type": "markdown",
   "metadata": {},
   "source": [
    "### Дополнительные исследования:\n",
    "\n",
    "#### Исследование №1. Наблюдается ли рост зарплат специалистов с должностью Data Scientist с ростом опыта?\n",
    "#### Исследование №2. Можно ли утверждать, что при 100% уровне удаленной работы доходы специалистов с должность Data Scientist выше, чем при работе в офисе?"
   ]
  },
  {
   "cell_type": "markdown",
   "metadata": {},
   "source": [
    "### Наблюдается ли рост зарплат специалистов с должностью Data Scientist с ростом опыта?\n",
    "\n",
    "**Сформулируем нулевую и альтернативные гипотезы для сравнения Entry-level/Junior и Mid-level/Intermediate:**\n",
    "\n",
    "*Нулевая гипотеза* ($H_0$): уровень зарплат Mid-level/Intermediate ($μ_1$) статистически меньше либо равен уровню зарплат Entry-level/Junior ($μ_2$).\n",
    "\n",
    "$$ H_0 : μ_1 <= μ_2$$\n",
    "\n",
    "*Альтернативная гипотеза* ($H_1$): уровень зарплат Mid-level/Intermediate  ($μ_1$) статистически больше, чем уровень зарплат Entry-level/Junior ($μ_2$).\n",
    "\n",
    "$$ H_1 : μ_1 > μ_2$$\n",
    "\n",
    "**Сформулируем нулевую и альтернативные гипотезы для сравнения Mid-level/Intermediate и Senior-level/Expert:**\n",
    "\n",
    "*Нулевая гипотеза* ($H_0$): уровень зарплат Senior-level/Expert ($μ_1$) статистически меньше либо равен уровню зарплат Mid-level/Intermediate ($μ_2$).\n",
    "\n",
    "$$ H_0 : μ_1 <= μ_2$$\n",
    "\n",
    "*Альтернативная гипотеза* ($H_1$): уровень зарплат Senior-level/Expert  ($μ_1$) статистически больше, чем уровень зарплат Mid-level/Intermediate ($μ_2$).\n",
    "\n",
    "$$ H_1 : μ_1 > μ_2$$"
   ]
  },
  {
   "cell_type": "markdown",
   "metadata": {},
   "source": [
    "**Проверка на нормальность**\n",
    "\n",
    "С помощью теста Шапиро-Уилка проверим, распределён ли признак нормально."
   ]
  },
  {
   "cell_type": "code",
   "execution_count": 37,
   "metadata": {},
   "outputs": [
    {
     "name": "stdout",
     "output_type": "stream",
     "text": [
      "Для Entry-level/Junior:\n",
      "p-value = 0.174\n",
      "p-значение больше, чем заданный уровень значимости 0.05. Распределение является нормальным\n",
      "Для Mid-level/Intermediate:\n",
      "p-value = 0.146\n",
      "p-значение больше, чем заданный уровень значимости 0.05. Распределение является нормальным\n",
      "Для Senior-level/Expert:\n",
      "p-value = 0.002\n",
      "p-значение меньше, чем заданный уровень значимости 0.05. Распределение отлично от нормального\n"
     ]
    }
   ],
   "source": [
    "# отфильтруем данные для должности Data Scientist\n",
    "filtered_data = data[data['job_title'] == 'Data Scientist']\n",
    "\n",
    "# значения зарплат\n",
    "salaries_junior = filtered_data.loc[filtered_data['experience_level']=='Entry-level/Junior', 'salary_in_usd']\n",
    "salaries_middle = filtered_data.loc[filtered_data['experience_level']=='Mid-level/Intermediate', 'salary_in_usd']\n",
    "salaries_senior = filtered_data.loc[filtered_data['experience_level']=='Senior-level/Expert', 'salary_in_usd']\n",
    "\n",
    "# проводим тест Шапиро-Уилка\n",
    "print('Для Entry-level/Junior:')\n",
    "result = stats.shapiro(salaries_junior)\n",
    "decision_normality(result[1])\n",
    "\n",
    "print('Для Mid-level/Intermediate:')\n",
    "result = stats.shapiro(salaries_middle)\n",
    "decision_normality(result[1])\n",
    "\n",
    "print('Для Senior-level/Expert:')\n",
    "result = stats.shapiro(salaries_senior)\n",
    "decision_normality(result[1])\n"
   ]
  },
  {
   "cell_type": "markdown",
   "metadata": {},
   "source": [
    "**Выберем подходящий статистический тест**\n",
    "\n",
    "Для выбора нужного теста воспользуемся алгоритмом выбора теста. Для этого ответим на следующие вопросы:\n",
    "* Какой тип у признака «salary_in_usd»? — Количественный.\n",
    "* Сколько сравниваемых групп? — Две.\n",
    "* Группы зависимы? — Нет.\n",
    "* Признак распределён по нормальному закону? — распределение зарплат для Entry-level/Junior и Mid-level/Intermediate является нормальным. Для Senior-level/Expert не является нормальным.\n",
    "\n",
    "Чтобы проверить нашу гипотезу, можно использовать U-критерий Манна — Уитни для сравнения распределений на основе рангов для сравнения уровней зарплат Mid-level/Intermediate и Senior-level/Expert. Однако для сравнения зарплат Entry-level/Junior и Mid-level/Intermediate будем использовать будем использовать двухвыборочный t-критерий (t-test), так как эти признаки распределены нормально.\n",
    "\n",
    "**Проведём тест**"
   ]
  },
  {
   "cell_type": "code",
   "execution_count": 41,
   "metadata": {},
   "outputs": [
    {
     "name": "stdout",
     "output_type": "stream",
     "text": [
      "Тест на равенство дисперсий\n",
      "p-value = 0.025\n",
      "Дисперсии не одинаковы, в stats.ttest_ind нужно использовать параметр equal_var=False.\n",
      "\n",
      "Тест на равенство средних\n",
      "p-value = 0.002\n",
      "p-значение меньше, чем заданный уровень значимости 0.05. Отвергаем нулевую гипотезу в пользу альтернативной.\n"
     ]
    }
   ],
   "source": [
    "# проводим тест для сравнения Entry-level/Junior и Mid-level/Intermediate\n",
    "# проводим тест Левена на равенство дисперсий\n",
    "print('Тест на равенство дисперсий')\n",
    "result = stats.levene(salaries_middle, salaries_junior)\n",
    "p = result[1]\n",
    "print('p-value = {:.3f}'.format(p))\n",
    "\n",
    "# интерпретируем результат\n",
    "if p <= alpha:\n",
    "    print('Дисперсии не одинаковы, в stats.ttest_ind нужно использовать параметр equal_var=False.')\n",
    "else:\n",
    "    print('Дисперсии одинаковы, в stats.ttest_ind нужно использовать параметр equal_var=True.')\n",
    "\n",
    "# проводим тест на сравнение средних в группах\n",
    "print('\\nТест на равенство средних')\n",
    "_, p = stats.ttest_ind(salaries_middle, salaries_junior, alternative='greater', equal_var=False)\n",
    "\n",
    "decision_hypothesis(p)"
   ]
  },
  {
   "cell_type": "code",
   "execution_count": 43,
   "metadata": {},
   "outputs": [
    {
     "name": "stdout",
     "output_type": "stream",
     "text": [
      "p-value = 0.000\n",
      "p-значение меньше, чем заданный уровень значимости 0.05. Отвергаем нулевую гипотезу в пользу альтернативной.\n"
     ]
    }
   ],
   "source": [
    "# проводим тест для сравнения зарплат Mid-level/Intermediate и Senior-level/Expert\n",
    "_, p = stats.mannwhitneyu(salaries_senior, salaries_middle, alternative='greater')\n",
    "decision_hypothesis(p)\n",
    "\n"
   ]
  },
  {
   "cell_type": "markdown",
   "metadata": {},
   "source": [
    "**Вывод**\n",
    "\n",
    "Для специалистов с должностью Data Scientist уровень зарплаты растет с ростом опыта."
   ]
  },
  {
   "cell_type": "markdown",
   "metadata": {},
   "source": [
    "### Можно ли утверждать, что при 100% уровне удаленной работы доходы специалистов с должность Data Scientist выше, чем при работе в офисе?\n",
    "\n",
    "**Сформулируем нулевую и альтернативные гипотезы:**\n",
    "\n",
    "*Нулевая гипотеза* ($H_0$): уровень зарплат при 100% уровне удаленной работы ($μ_1$) статистически меньше либо равен уровню зарплат при 100% уровне работы в офисе ($μ_2$).\n",
    "\n",
    "$$ H_0 : μ_1 <= μ_2$$\n",
    "\n",
    "*Альтернативная гипотеза* ($H_1$): уровень зарплат при при 100% уровне удаленной работы ($μ_1$) статистически больше, чем уровень зарплат при 100% уровне работы в офисе ($μ_2$).\n",
    "\n",
    "$$ H_1 : μ_1 > μ_2$$\n",
    "\n"
   ]
  },
  {
   "cell_type": "markdown",
   "metadata": {},
   "source": [
    "**Проверка на нормальность**\n",
    "\n",
    "С помощью теста Шапиро-Уилка проверим, распределён ли признак нормально."
   ]
  },
  {
   "cell_type": "code",
   "execution_count": 44,
   "metadata": {},
   "outputs": [
    {
     "name": "stdout",
     "output_type": "stream",
     "text": [
      "Для 100% уроня удаленной работы:\n",
      "p-value = 0.001\n",
      "p-значение меньше, чем заданный уровень значимости 0.05. Распределение отлично от нормального\n",
      "Для 100% уровня офисной работы:\n",
      "p-value = 0.146\n",
      "p-значение больше, чем заданный уровень значимости 0.05. Распределение является нормальным\n"
     ]
    }
   ],
   "source": [
    "# отфильтруем данные для должности Data Scientist\n",
    "filtered_data = data[data['job_title'] == 'Data Scientist']\n",
    "\n",
    "# значения зарплат\n",
    "salaries_remote = filtered_data.loc[filtered_data['remote_ratio']==100, 'salary_in_usd']\n",
    "salaries_office = filtered_data.loc[filtered_data['remote_ratio']==0, 'salary_in_usd']\n",
    "\n",
    "\n",
    "# проводим тест Шапиро-Уилка\n",
    "print('Для 100% уроня удаленной работы:')\n",
    "result = stats.shapiro(salaries_remote)\n",
    "decision_normality(result[1])\n",
    "\n",
    "print('Для 100% уровня офисной работы:')\n",
    "result = stats.shapiro(salaries_middle)\n",
    "decision_normality(result[1])\n"
   ]
  },
  {
   "cell_type": "markdown",
   "metadata": {},
   "source": [
    "**Выберем подходящий статистический тест**\n",
    "\n",
    "Для выбора нужного теста воспользуемся алгоритмом выбора теста. Для этого ответим на следующие вопросы:\n",
    "* Какой тип у признака «salary_in_usd»? — Количественный.\n",
    "* Сколько сравниваемых групп? — Две.\n",
    "* Группы зависимы? — Нет.\n",
    "* Признак распределён по нормальному закону? — один из признаков не распределен нормально.\n",
    "\n",
    "Чтобы проверить нашу гипотезу, можно использовать U-критерий Манна — Уитни для сравнения распределений на основе рангов.\n",
    "\n",
    "**Проведём тест**"
   ]
  },
  {
   "cell_type": "code",
   "execution_count": 46,
   "metadata": {},
   "outputs": [
    {
     "name": "stdout",
     "output_type": "stream",
     "text": [
      "p-value = 0.117\n",
      "p-значение больше, чем заданный уровень значимости 0.05. У нас нет оснований отвергнуть нулевую гипотезу.\n",
      "p-value = 0.233\n",
      "p-значение больше, чем заданный уровень значимости 0.05. У нас нет оснований отвергнуть нулевую гипотезу.\n"
     ]
    }
   ],
   "source": [
    "# проводим тест\n",
    "_, p = stats.mannwhitneyu(salaries_remote, salaries_office, alternative='greater')\n",
    "decision_hypothesis(p)\n",
    "\n",
    "# также проверим, равны ли доходы при 100% уровнях работы в офисе и удаленно - нулевая гипотеза: доходы равны\n",
    "_, p = stats.mannwhitneyu(salaries_remote, salaries_office, alternative='two-sided')\n",
    "decision_hypothesis(p)"
   ]
  },
  {
   "cell_type": "markdown",
   "metadata": {},
   "source": [
    "**Вывод**\n",
    "\n",
    "Мы не можем утверждать, что 100% удаленная работа приносит больший доход, чем работа в офисе. Можно сказать, что работающие 100% удаленно сотрудники имеют равный офисным сотрудникам доход."
   ]
  },
  {
   "cell_type": "markdown",
   "metadata": {},
   "source": [
    "## Итоговые результаты исследования\n",
    "\n",
    "*   Нет оснований утверждать, что имелся рост зарплат в 2021 году. Однако в 2022 году рост зарплат имеет место быть.\n",
    "*   Размер зарплаты Data Scientist и Data Engineer в 2022 году равны.\n",
    "*   Можно утверждать, что размер зарплаты специалистов Data Scientist отличается в компаниях различных размеров.\n",
    "*   Существует взаимосвязь между между наличием должностей Data Scientist и Data Engineer и размером компании.\n",
    "*   Для специалистов с должностью Data Scientist уровень зарплаты растет с ростом опыта.\n",
    "*   Работая удаленно или офисе можно рассчитивать на равный уровень дохода.\n"
   ]
  }
 ],
 "metadata": {
  "kernelspec": {
   "display_name": "Python 3",
   "language": "python",
   "name": "python3"
  },
  "language_info": {
   "codemirror_mode": {
    "name": "ipython",
    "version": 3
   },
   "file_extension": ".py",
   "mimetype": "text/x-python",
   "name": "python",
   "nbconvert_exporter": "python",
   "pygments_lexer": "ipython3",
   "version": "3.9.10"
  }
 },
 "nbformat": 4,
 "nbformat_minor": 2
}
