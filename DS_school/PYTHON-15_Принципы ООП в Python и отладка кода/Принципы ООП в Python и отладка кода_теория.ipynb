{
 "cells": [
  {
   "cell_type": "code",
   "execution_count": 1,
   "metadata": {},
   "outputs": [
    {
     "name": "stdout",
     "output_type": "stream",
     "text": [
      "Total amount: 10\n",
      "Total amount: 20\n"
     ]
    }
   ],
   "source": [
    "# По-прежнему пока создаём пустой класс  \n",
    "class SalesReport():\n",
    "    pass\n",
    "# Создаём первый отчёт по продажам \n",
    "report = SalesReport()\n",
    "\n",
    "# Мы добавим новый атрибут объекту.  \n",
    "# Для этого через точку напишем имя атрибута и дальше как с обычной переменной  \n",
    "report.amount = 10\n",
    "\n",
    "# То же самое делаем для второго отчёта.  \n",
    "report_2 = SalesReport()\n",
    "report_2.amount = 20\n",
    "\n",
    "# Создадим вспомогательную функцию, она будет печатать общую сумму из отчёта \n",
    "def print_report(report):\n",
    "    print('Total amount:', report.amount)\n",
    "    \n",
    "print_report(report)\n",
    "print_report(report_2)"
   ]
  },
  {
   "cell_type": "code",
   "execution_count": 2,
   "metadata": {},
   "outputs": [
    {
     "name": "stdout",
     "output_type": "stream",
     "text": [
      "Total amount: 10\n",
      "Total amount: 20\n"
     ]
    }
   ],
   "source": [
    "class SalesReport():\n",
    "    # Наш новый метод внутри класса.  \n",
    "    # Мы определяем его похожим образом с обычными функциями,  \n",
    "    #   но только помещаем внутрь класса и первым аргументом передаём self  \n",
    "    def print_report(self):\n",
    "        print(\"Total amount:\", self.amount)\n",
    "            \n",
    "report = SalesReport()\n",
    "report.amount = 10\n",
    "\n",
    "report_2 = SalesReport()\n",
    "report_2.amount = 20\n",
    "\n",
    "report.print_report()\n",
    "report_2.print_report()"
   ]
  },
  {
   "cell_type": "code",
   "execution_count": 3,
   "metadata": {},
   "outputs": [
    {
     "ename": "AttributeError",
     "evalue": "'SalesReport' object has no attribute 'add_deal'",
     "output_type": "error",
     "traceback": [
      "\u001b[1;31m---------------------------------------------------------------------------\u001b[0m",
      "\u001b[1;31mAttributeError\u001b[0m                            Traceback (most recent call last)",
      "Cell \u001b[1;32mIn[3], line 1\u001b[0m\n\u001b[1;32m----> 1\u001b[0m \u001b[39mclass\u001b[39;00m \u001b[39mSalesReport\u001b[39;00m():\n\u001b[0;32m      2\u001b[0m     \u001b[39mdef\u001b[39;00m \u001b[39madd_deal\u001b[39m(\u001b[39mself\u001b[39m, amount):\n\u001b[0;32m      3\u001b[0m         \u001b[39mif\u001b[39;00m \u001b[39mnot\u001b[39;00m \u001b[39mhasattr\u001b[39m(\u001b[39mself\u001b[39m, \u001b[39m'\u001b[39m\u001b[39mdeals\u001b[39m\u001b[39m'\u001b[39m):\n",
      "Cell \u001b[1;32mIn[3], line 14\u001b[0m, in \u001b[0;36mSalesReport\u001b[1;34m()\u001b[0m\n\u001b[0;32m     11\u001b[0m     \u001b[39mprint\u001b[39m(\u001b[39m\"\u001b[39m\u001b[39mTotal sales:\u001b[39m\u001b[39m\"\u001b[39m, \u001b[39mself\u001b[39m\u001b[39m.\u001b[39mtotal_amount())\n\u001b[0;32m     13\u001b[0m report \u001b[39m=\u001b[39m SalesReport()\n\u001b[1;32m---> 14\u001b[0m report\u001b[39m.\u001b[39;49madd_deal(\u001b[39m10_000\u001b[39m)\n\u001b[0;32m     15\u001b[0m report\u001b[39m.\u001b[39madd_deal(\u001b[39m30_000\u001b[39m)\n\u001b[0;32m     16\u001b[0m report\u001b[39m.\u001b[39mprint_report()\n",
      "\u001b[1;31mAttributeError\u001b[0m: 'SalesReport' object has no attribute 'add_deal'"
     ]
    }
   ],
   "source": [
    "class SalesReport():\n",
    "    def add_deal(self, amount):\n",
    "        if not hasattr(self, 'deals'):\n",
    "            self.deals = []\n",
    "        self.deals.append(amount)\n",
    "        \n",
    "    def total_amount(self):\n",
    "        return sum(self.deals)  \n",
    "    \n",
    "    def print_report(self):\n",
    "        print(\"Total sales:\", self.total_amount())\n",
    "    \n",
    "    report = SalesReport()\n",
    "    report.add_deal(10_000)\n",
    "    report.add_deal(30_000)\n",
    "    report.print_report()"
   ]
  },
  {
   "cell_type": "code",
   "execution_count": null,
   "metadata": {},
   "outputs": [
    {
     "name": "stdout",
     "output_type": "stream",
     "text": [
      "[]\n"
     ]
    },
    {
     "data": {
      "text/plain": [
       "0"
      ]
     },
     "execution_count": 1,
     "metadata": {},
     "output_type": "execute_result"
    }
   ],
   "source": [
    "class SalesReport():\n",
    "    def __init__(self) -> None:\n",
    "        self.deals = []\n",
    "    \n",
    "    def add_deal(self, amount):\n",
    "        self.deals.append(amount)\n",
    "    \n",
    "    def total_amount(self):\n",
    "        return sum(self.deals)\n",
    "    \n",
    "    def print_report(self):\n",
    "        print(\"Total sales: \", self.total_amount())\n",
    "\n",
    "report = SalesReport()\n",
    "print(report.deals)\n",
    "report.total_amount()"
   ]
  },
  {
   "cell_type": "code",
   "execution_count": null,
   "metadata": {},
   "outputs": [
    {
     "name": "stdout",
     "output_type": "stream",
     "text": [
      "Mananger: Ivan Taranov\n",
      "Total sales: 40000\n"
     ]
    }
   ],
   "source": [
    "class SalesReport():\n",
    "    def __init__(self, manager_name) -> None:\n",
    "        self.deals = []\n",
    "        self.manager_name = manager_name\n",
    "        \n",
    "    def add_deal(self, amount):\n",
    "        self.deals.append(amount)\n",
    "    \n",
    "    def total_amount(self):\n",
    "        return sum(self.deals) \n",
    "    \n",
    "    def print_report(self):\n",
    "        print('Mananger:', self.manager_name)\n",
    "        print('Total sales:', self.total_amount())\n",
    "\n",
    "report = SalesReport('Ivan Taranov')\n",
    "report.add_deal(10_000)\n",
    "report.add_deal(30_000)\n",
    "report.print_report()"
   ]
  },
  {
   "cell_type": "code",
   "execution_count": null,
   "metadata": {},
   "outputs": [
    {
     "name": "stdout",
     "output_type": "stream",
     "text": [
      "Employee: Ivan Semenov\n",
      "Total sales: 390000\n",
      "Average sales: 130000.0\n",
      "Companies: ['PepsiCo', 'SkyEng']\n"
     ]
    }
   ],
   "source": [
    "class SalesReport():\n",
    "    def __init__(self, employee_name) -> None:\n",
    "        self.deals = []\n",
    "        self.employee_name = employee_name\n",
    "    \n",
    "    def add_deal(self, company, amount):\n",
    "        self.deals.append({'company': company, 'amount': amount})\n",
    "    \n",
    "    def total_amount(self):\n",
    "        return sum([deal['amount'] for deal in self.deals])\n",
    "    \n",
    "    def average_deal(self):\n",
    "        return self.total_amount()/len(self.deals)\n",
    "    \n",
    "    def all_companies(self):\n",
    "        return list(set([deal['company'] for deal in self.deals]))\n",
    "    \n",
    "    def print_report(self):\n",
    "        print('Employee:', self.employee_name)\n",
    "        print('Total sales:', self.total_amount())\n",
    "        print('Average sales:', self.average_deal())\n",
    "        print('Companies:', self.all_companies())\n",
    "        \n",
    "report = SalesReport(\"Ivan Semenov\")  \n",
    "  \n",
    "report.add_deal(\"PepsiCo\", 120_000)  \n",
    "report.add_deal(\"SkyEng\", 250_000)  \n",
    "report.add_deal(\"PepsiCo\", 20_000)         \n",
    "\n",
    "report.print_report()  "
   ]
  },
  {
   "cell_type": "code",
   "execution_count": null,
   "metadata": {},
   "outputs": [
    {
     "name": "stdout",
     "output_type": "stream",
     "text": [
      "Order fprice for max@gmail.com is 200\n",
      "Order fprice for lova@yandex.ru is 180.0\n",
      "Order fprice for german@sberbank.ru is 500\n",
      "Order fprice for german@sberbank.ru is 450.0\n"
     ]
    }
   ],
   "source": [
    "class Client():\n",
    "    def __init__(self, email, order_num, registration_year) -> None:\n",
    "        self.email = email\n",
    "        self.order_num = order_num\n",
    "        self.registration_year = registration_year\n",
    "        self.discount = 0\n",
    "    \n",
    "    def make_order(self, price):\n",
    "        self.update_discount()\n",
    "        self.order_num += 1\n",
    "        discounted_price = price * (1 - self.discount)\n",
    "        print(f'Order fprice for {self.email} is {discounted_price}')\n",
    "    \n",
    "    def update_discount(self):\n",
    "        if self.registration_year < 2018 and self.order_num >= 5:\n",
    "            self.discount = 0.1\n",
    "\n",
    "client_db = [\n",
    "    Client(\"max@gmail.com\", 2, 2019),  \n",
    "    Client(\"lova@yandex.ru\", 10, 2015),  \n",
    "    Client(\"german@sberbank.ru\", 4, 2017)  \n",
    "]\n",
    "\n",
    "client_db[0].make_order(200)\n",
    "\n",
    "client_db[1].make_order(200)\n",
    "\n",
    "client_db[2].make_order(500)\n",
    "\n",
    "client_db[2].make_order(500)\n"
   ]
  },
  {
   "cell_type": "code",
   "execution_count": null,
   "metadata": {},
   "outputs": [
    {
     "name": "stdout",
     "output_type": "stream",
     "text": [
      "[1.0, 17.0, 4.0, 0.0, 8.0]\n",
      "6.89\n",
      "4.0\n"
     ]
    }
   ],
   "source": [
    "import statistics\n",
    "\n",
    "class DataFrame():\n",
    "    def __init__(self, column, fill_value=0) -> None:\n",
    "        self.column = column\n",
    "        self.fill_value = fill_value\n",
    "        self.fill_missed()\n",
    "        self.to_float()\n",
    "    \n",
    "    def fill_missed(self):\n",
    "        for i, value in enumerate(self.column):\n",
    "            if value is None or value == '':\n",
    "                self.column[i] = self.fill_value\n",
    "                \n",
    "    def to_float(self):\n",
    "        self.column = [float(value) for value in self.column]\n",
    "        \n",
    "    def median(self):\n",
    "        return statistics.median(self.column)\n",
    "    \n",
    "    def mean(self):\n",
    "        return statistics.mean(self.column)\n",
    "    \n",
    "    def deviation(self):\n",
    "        return round(statistics.stdev(self.column), 2)\n",
    "    \n",
    "    # Воспользуемся классом  \n",
    "df = DataFrame([\"1\", 17, 4, None, 8])  \n",
    "  \n",
    "print(df.column)  \n",
    "# => [1.0, 17.0, 4.0, 0.0, 8.0]  \n",
    "print(df.deviation())  \n",
    "# => 6.89  \n",
    "print(df.median())  \n",
    "# => 4.0  "
   ]
  },
  {
   "cell_type": "code",
   "execution_count": null,
   "metadata": {},
   "outputs": [
    {
     "name": "stdout",
     "output_type": "stream",
     "text": [
      "{'perfomance': [10, 20, 10], 'clients': {'Romashka': 10, 'Vector': 34}}\n"
     ]
    }
   ],
   "source": [
    "import pickle\n",
    "from datetime import datetime\n",
    "from os import path\n",
    "\n",
    "class Dumper():\n",
    "    def __init__(self, archive_dir='archive/') -> None:\n",
    "        self.archive_dir = archive_dir\n",
    "    \n",
    "    def dump(self, data):\n",
    "        with open(self.get_file_name(), 'wb') as file:\n",
    "            pickle.dump(data, file)\n",
    "    \n",
    "    def load_for_day(self, day):\n",
    "        file_name = path.join(self.archive_dir, day + '.pkl')\n",
    "        with open(file_name, 'rb') as file:\n",
    "            sets = pickle.load(file)\n",
    "        return sets\n",
    "    \n",
    "    def get_file_name(self):\n",
    "        today = datetime.now().strftime(\"%y-%m-%d\")\n",
    "        return path.join(self.archive_dir, today + '.pkl')\n",
    "    \n",
    "# Пример использования  \n",
    "  \n",
    "data = {  \n",
    "    'perfomance': [10, 20, 10],  \n",
    "    'clients': {\"Romashka\": 10, \"Vector\": 34}  \n",
    "}  \n",
    "   \n",
    "dumper = Dumper()  \n",
    "  \n",
    "# Сохраним данные  \n",
    "dumper.dump(data)  \n",
    "  \n",
    "# Восстановим для сегодняшней даты  \n",
    "file_name = datetime.now().strftime(\"%y-%m-%d\")\n",
    "restored_data = dumper.load_for_day(file_name)\n",
    "print(restored_data)   "
   ]
  },
  {
   "cell_type": "code",
   "execution_count": null,
   "metadata": {},
   "outputs": [
    {
     "name": "stdout",
     "output_type": "stream",
     "text": [
      "f:\\IDE\\DS_school\\PYTHON-15_Принципы ООП в Python и отладка кода\n"
     ]
    }
   ],
   "source": [
    "import os\n",
    "start_path = os.getcwd()\n",
    "print(start_path)"
   ]
  },
  {
   "cell_type": "code",
   "execution_count": null,
   "metadata": {},
   "outputs": [
    {
     "data": {
      "text/plain": [
       "'f:\\\\IDE\\\\DS_school'"
      ]
     },
     "execution_count": 6,
     "metadata": {},
     "output_type": "execute_result"
    }
   ],
   "source": [
    "os.chdir(\"..\")\n",
    "os.getcwd()"
   ]
  },
  {
   "cell_type": "code",
   "execution_count": null,
   "metadata": {},
   "outputs": [
    {
     "data": {
      "text/plain": [
       "'f:\\\\IDE\\\\DS_school\\\\PYTHON-15_Принципы ООП в Python и отладка кода'"
      ]
     },
     "execution_count": 7,
     "metadata": {},
     "output_type": "execute_result"
    }
   ],
   "source": [
    "os.chdir(start_path)\n",
    "os.getcwd()"
   ]
  },
  {
   "cell_type": "code",
   "execution_count": null,
   "metadata": {},
   "outputs": [
    {
     "name": "stdout",
     "output_type": "stream",
     "text": [
      "['archive', 'Принципы ООП в Python и отладка кода_практика.ipynb', 'Принципы ООП в Python и отладка кода_теория.ipynb']\n"
     ]
    }
   ],
   "source": [
    "print (os.listdir('f:\\IDE\\DS_school\\PYTHON-15_Принципы ООП в Python и отладка кода'))"
   ]
  },
  {
   "cell_type": "code",
   "execution_count": null,
   "metadata": {},
   "outputs": [
    {
     "name": "stdout",
     "output_type": "stream",
     "text": [
      "Файл отсутствует в данной директории\n"
     ]
    }
   ],
   "source": [
    "if 'tmp.py' not in os.listdir():\n",
    "    print('Файл отсутствует в данной директории')"
   ]
  },
  {
   "cell_type": "code",
   "execution_count": null,
   "metadata": {},
   "outputs": [
    {
     "name": "stdout",
     "output_type": "stream",
     "text": [
      "f:\\IDE\\DS_school\\PYTHON-15_Принципы ООП в Python и отладка кода\n",
      "f:\\IDE\\DS_school\\PYTHON-15_Принципы ООП в Python и отладка кода\\test\n"
     ]
    }
   ],
   "source": [
    "print(start_path)\n",
    "print(os.path.join(start_path, 'test'))"
   ]
  },
  {
   "cell_type": "code",
   "execution_count": null,
   "metadata": {},
   "outputs": [
    {
     "name": "stdout",
     "output_type": "stream",
     "text": [
      "['archive', 'Принципы ООП в Python и отладка кода_практика.ipynb', 'Принципы ООП в Python и отладка кода_теория.ipynb']\n"
     ]
    }
   ],
   "source": [
    "def get_files(path):\n",
    "    return os.listdir(path)\n"
   ]
  },
  {
   "cell_type": "code",
   "execution_count": null,
   "metadata": {},
   "outputs": [
    {
     "name": "stdout",
     "output_type": "stream",
     "text": [
      "Текущая директория: f:\\IDE\\DS_school\\PYTHON-15_Принципы ООП в Python и отладка кода\n",
      "---\n",
      "Списко папок: ['archive']\n",
      "---\n",
      "Список файлов: ['Принципы ООП в Python и отладка кода_практика.ipynb', 'Принципы ООП в Python и отладка кода_теория.ipynb']\n",
      "---\n",
      "Все пути:\n",
      "Файл  f:\\IDE\\DS_school\\PYTHON-15_Принципы ООП в Python и отладка кода\\Принципы ООП в Python и отладка кода_практика.ipynb\n",
      "Файл  f:\\IDE\\DS_school\\PYTHON-15_Принципы ООП в Python и отладка кода\\Принципы ООП в Python и отладка кода_теория.ipynb\n",
      "Папка  f:\\IDE\\DS_school\\PYTHON-15_Принципы ООП в Python и отладка кода\\archive\n",
      "===\n",
      "Текущая директория: f:\\IDE\\DS_school\\PYTHON-15_Принципы ООП в Python и отладка кода\\archive\n",
      "---\n",
      "Папок нет\n",
      "---\n",
      "Список файлов: ['23-07-15.pkl']\n",
      "---\n",
      "Файл  f:\\IDE\\DS_school\\PYTHON-15_Принципы ООП в Python и отладка кода\\archive\\23-07-15.pkl\n",
      "===\n"
     ]
    }
   ],
   "source": [
    "def walk_desc(path=None):\n",
    "    start_path = path if path is not None else os.getcwd()\n",
    "    \n",
    "    for root, dirs, files in os.walk(start_path):\n",
    "        print('Текущая директория:', root)\n",
    "        print('---')\n",
    "        \n",
    "        if dirs:\n",
    "            print('Списко папок:', dirs)\n",
    "        else:\n",
    "            print('Папок нет')\n",
    "        print('---')\n",
    "        \n",
    "        if files:\n",
    "            print('Список файлов:', files)\n",
    "        else:\n",
    "            print('Фалов нет')\n",
    "        print('---')\n",
    "        \n",
    "        if files and dirs:\n",
    "            print('Все пути:')\n",
    "        for f in files:\n",
    "            print('Файл ', os.path.join(root, f))\n",
    "        for d in dirs:\n",
    "            print('Папка ', os.path.join(root, d))\n",
    "        print('===')\n",
    "\n",
    "walk_desc()"
   ]
  },
  {
   "cell_type": "code",
   "execution_count": null,
   "metadata": {},
   "outputs": [],
   "source": [
    "f = open('test.txt', 'w', encoding='utf8')\n",
    "\n",
    "# Запишем в файл строку\n",
    "f.write('This is a test string\\n')\n",
    "f.write('This is a new string\\n')\n",
    "\n",
    "f.close()"
   ]
  },
  {
   "cell_type": "code",
   "execution_count": null,
   "metadata": {},
   "outputs": [],
   "source": [
    "f = open('test.txt', 'r', encoding='utf8')\n"
   ]
  },
  {
   "cell_type": "code",
   "execution_count": null,
   "metadata": {},
   "outputs": [
    {
     "name": "stdout",
     "output_type": "stream",
     "text": [
      "This is a \n"
     ]
    }
   ],
   "source": [
    "print(f.read(10))"
   ]
  },
  {
   "cell_type": "code",
   "execution_count": null,
   "metadata": {},
   "outputs": [
    {
     "data": {
      "text/plain": [
       "'test string\\nThis is a new string\\n'"
      ]
     },
     "execution_count": 18,
     "metadata": {},
     "output_type": "execute_result"
    }
   ],
   "source": [
    "f.read()"
   ]
  },
  {
   "cell_type": "code",
   "execution_count": null,
   "metadata": {},
   "outputs": [],
   "source": [
    "f.close()"
   ]
  },
  {
   "cell_type": "code",
   "execution_count": null,
   "metadata": {},
   "outputs": [],
   "source": [
    "f = open('test.txt', 'a', encoding='utf8')\n",
    "sequence = ['some bullshit\\n', 'xyz\\n', 'OMG this is a funky shiiTTTT!!!\\n']\n",
    "f.writelines(sequence)\n",
    "f.close()"
   ]
  },
  {
   "cell_type": "code",
   "execution_count": null,
   "metadata": {},
   "outputs": [
    {
     "name": "stdout",
     "output_type": "stream",
     "text": [
      "['This is a test string\\n', 'This is a new string\\n', 'some bullshit\\n', 'xyz\\n', 'OMG this is a funky shiiTTTT!!!\\n']\n",
      "98\n"
     ]
    }
   ],
   "source": [
    "f = open('test.txt', 'r', encoding='utf8')\n",
    "print(f.readlines())\n",
    "\n",
    "print(f.tell())\n",
    "f.close()"
   ]
  },
  {
   "cell_type": "code",
   "execution_count": null,
   "metadata": {},
   "outputs": [
    {
     "name": "stdout",
     "output_type": "stream",
     "text": [
      "This is a test string\n",
      "\n",
      "This\n",
      " is a new string\n",
      "\n"
     ]
    }
   ],
   "source": [
    "f = open('test.txt', 'r', encoding='utf8')\n",
    "\n",
    "print(f.readline())\n",
    "print(f.read(4))\n",
    "print(f.readline())\n",
    "\n",
    "f.close()"
   ]
  },
  {
   "cell_type": "code",
   "execution_count": null,
   "metadata": {},
   "outputs": [
    {
     "name": "stdout",
     "output_type": "stream",
     "text": [
      "This is a test string\n",
      "This is a new string\n",
      "some bullshit\n",
      "xyz\n",
      "OMG this is a funky shiiTTTT!!!\n"
     ]
    }
   ],
   "source": [
    "f = open('test.txt')\n",
    "\n",
    "for line in f:\n",
    "    print(line, end ='')\n",
    "\n",
    "f.close()"
   ]
  },
  {
   "cell_type": "code",
   "execution_count": null,
   "metadata": {},
   "outputs": [
    {
     "ename": "ValueError",
     "evalue": "read of closed file",
     "output_type": "error",
     "traceback": [
      "\u001b[1;31m---------------------------------------------------------------------------\u001b[0m",
      "\u001b[1;31mValueError\u001b[0m                                Traceback (most recent call last)",
      "Cell \u001b[1;32mIn[34], line 5\u001b[0m\n\u001b[0;32m      2\u001b[0m     a \u001b[39m=\u001b[39m f\u001b[39m.\u001b[39mread(\u001b[39m10\u001b[39m)\n\u001b[0;32m      3\u001b[0m     b \u001b[39m=\u001b[39m f\u001b[39m.\u001b[39mread(\u001b[39m23\u001b[39m)\n\u001b[1;32m----> 5\u001b[0m f\u001b[39m.\u001b[39;49mread(\u001b[39m3\u001b[39;49m)\n",
      "\u001b[1;31mValueError\u001b[0m: read of closed file"
     ]
    }
   ],
   "source": [
    "with open('test.txt', 'rb') as f:\n",
    "    a = f.read(10)\n",
    "    b = f.read(23)\n",
    "\n",
    "f.read(3)"
   ]
  },
  {
   "cell_type": "code",
   "execution_count": null,
   "metadata": {},
   "outputs": [],
   "source": [
    "f = open('input.txt', 'w', encoding='utf8')\n",
    "sequence = ['I will right\\n', 'this text\\n', 'to new file output.txt\\n']\n",
    "f.writelines(sequence)\n",
    "f.close()"
   ]
  },
  {
   "cell_type": "code",
   "execution_count": null,
   "metadata": {},
   "outputs": [],
   "source": [
    "f = open('output.txt', 'w', encoding='utf8')\n",
    "f_2 = open('input.txt', 'r')\n",
    "sequence = []\n",
    "\n",
    "for line in f_2:\n",
    "    sequence.append(line)\n",
    "\n",
    "f.writelines(sequence)\n",
    "\n",
    "f.close()\n",
    "f_2.close()"
   ]
  },
  {
   "cell_type": "code",
   "execution_count": null,
   "metadata": {},
   "outputs": [],
   "source": [
    "f = open('numbers.txt', 'w', encoding='utf8')\n",
    "f.writelines(['1\\n', '2\\n', '3\\n', '4\\n', '5\\n'])\n",
    "f.close()"
   ]
  },
  {
   "cell_type": "code",
   "execution_count": null,
   "metadata": {},
   "outputs": [],
   "source": [
    "with open('numbers.txt', 'r') as main_file:\n",
    "    with open('output.txt', 'a') as output_file:\n",
    "        sequence=[]\n",
    "        for line in main_file:\n",
    "            sequence.append(int(line.strip()))\n",
    "        x = max(sequence) + min(sequence)\n",
    "        output_file.writelines(str(x))"
   ]
  },
  {
   "cell_type": "code",
   "execution_count": null,
   "metadata": {},
   "outputs": [],
   "source": [
    "with open('numbers.txt', 'r') as main_file:\n",
    "    with open('output.txt', 'w') as output_file:        \n",
    "        for line in reversed(main_file.readlines()):\n",
    "            output_file.writelines(line)\n",
    "        "
   ]
  },
  {
   "cell_type": "code",
   "execution_count": null,
   "metadata": {},
   "outputs": [
    {
     "data": {
      "text/plain": [
       "4"
      ]
     },
     "execution_count": 62,
     "metadata": {},
     "output_type": "execute_result"
    }
   ],
   "source": [
    "count = 0\n",
    "for line in open('input.txt', 'r', encoding='utf8'):\n",
    "    points = int(line.split()[-1])\n",
    "    if points < 3:\n",
    "        count += 1\n",
    "count"
   ]
  },
  {
   "cell_type": "code",
   "execution_count": null,
   "metadata": {},
   "outputs": [
    {
     "name": "stdout",
     "output_type": "stream",
     "text": [
      "Вы ввели -3\n"
     ]
    }
   ],
   "source": [
    "try:\n",
    "    a = int(input('Введите число: ')) \n",
    "except:\n",
    "    print('Вы ввели неправильное число')\n",
    "else:\n",
    "    print(f'Вы ввели {a}')"
   ]
  },
  {
   "cell_type": "code",
   "execution_count": 4,
   "metadata": {},
   "outputs": [
    {
     "name": "stdout",
     "output_type": "stream",
     "text": [
      "message\n"
     ]
    }
   ],
   "source": [
    "class ParentException(Exception): # создаём пустой класс исключения, наследуемся от exception\n",
    "    pass\n",
    "\n",
    "class ChildExeption(ParentException): # создаём пустой класс исключения-потомка, наследуемся от ParentException\n",
    "    pass\n",
    "\n",
    "try:\n",
    "    raise ChildExeption('message') # поднимаем исключение-потомок\n",
    "except ParentException as e: # ловим его родителя\n",
    "    print(e) # выводим информацию об исключении"
   ]
  },
  {
   "cell_type": "code",
   "execution_count": 5,
   "metadata": {},
   "outputs": [
    {
     "name": "stdout",
     "output_type": "stream",
     "text": [
      "Error: error\n",
      "message\n"
     ]
    }
   ],
   "source": [
    "class ParentException(Exception):\n",
    "    def __init__(self, message, error) -> None: # допишем к нашему пустому классу конструктор, \n",
    "# который будет печатать дополнительно в консоль информацию об ошибке.\n",
    "        super().__init__(message) # помним про вызов конструктора родительского класса\n",
    "        print(f'Error: {error}') # печатаем ошибку\n",
    "\n",
    "class ChildExeption(ParentException): # создаём пустой класс исключения-потомка, наследуемся от ParentException\n",
    "    def __init__(self, message, error) -> None:\n",
    "        super().__init__(message, error)\n",
    "\n",
    "try:\n",
    "    raise ChildExeption('message', 'error') # поднимаем исключение-потомок, передаём дополнительный аргумент\n",
    "except ParentException as e:\n",
    "    print(e)"
   ]
  },
  {
   "cell_type": "code",
   "execution_count": 8,
   "metadata": {},
   "outputs": [
    {
     "data": {
      "text/plain": [
       "<__main__.Square at 0x24439b16070>"
      ]
     },
     "execution_count": 8,
     "metadata": {},
     "output_type": "execute_result"
    }
   ],
   "source": [
    "class NonPositiveDigitException(ValueError):\n",
    "    pass\n",
    "\n",
    "class Square:\n",
    "    def __init__(self, a) -> None:\n",
    "        if a <= 0:\n",
    "            raise NonPositiveDigitException('Направильно указана сторона квадрата')\n",
    "        \n"
   ]
  }
 ],
 "metadata": {
  "kernelspec": {
   "display_name": "Python 3",
   "language": "python",
   "name": "python3"
  },
  "language_info": {
   "codemirror_mode": {
    "name": "ipython",
    "version": 3
   },
   "file_extension": ".py",
   "mimetype": "text/x-python",
   "name": "python",
   "nbconvert_exporter": "python",
   "pygments_lexer": "ipython3",
   "version": "3.9.10"
  },
  "orig_nbformat": 4
 },
 "nbformat": 4,
 "nbformat_minor": 2
}
