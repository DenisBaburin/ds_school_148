{
 "cells": [
  {
   "cell_type": "code",
   "execution_count": 7,
   "metadata": {},
   "outputs": [
    {
     "name": "stdout",
     "output_type": "stream",
     "text": [
      "Example:\n",
      "False\n",
      "True\n",
      "False\n"
     ]
    }
   ],
   "source": [
    "def is_acceptable_password(password: str) -> bool:\n",
    "    return 'password' not in password.lower() and (len(password) > 9 or ((password.isalnum()) and (not password.isalpha()) and (not password.isnumeric()) and len(password) > 6))\n",
    "\n",
    "\n",
    "print(\"Example:\")\n",
    "print(is_acceptable_password(\"short\"))\n",
    "print(is_acceptable_password(\"pass1234word\"))\n",
    "print(is_acceptable_password(\"PASSWORD12345\"))"
   ]
  },
  {
   "cell_type": "code",
   "execution_count": 26,
   "metadata": {},
   "outputs": [
    {
     "data": {
      "text/plain": [
       "'twenty '"
      ]
     },
     "execution_count": 26,
     "metadata": {},
     "output_type": "execute_result"
    }
   ],
   "source": [
    "FIRST_TEN = [\"one\", \"two\", \"three\", \"four\", \"five\", \"six\", \"seven\", \"eight\", \"nine\"]\n",
    "SECOND_TEN = [\n",
    "    \"ten\",\n",
    "    \"eleven\",\n",
    "    \"twelve\",\n",
    "    \"thirteen\",\n",
    "    \"fourteen\",\n",
    "    \"fifteen\",\n",
    "    \"sixteen\",\n",
    "    \"seventeen\",\n",
    "    \"eighteen\",\n",
    "    \"nineteen\",\n",
    "]\n",
    "OTHER_TENS = [\n",
    "    \"twenty\",\n",
    "    \"thirty\",\n",
    "    \"forty\",\n",
    "    \"fifty\",\n",
    "    \"sixty\",\n",
    "    \"seventy\",\n",
    "    \"eighty\",\n",
    "    \"ninety\",\n",
    "]\n",
    "HUNDRED = \"hundred\"\n",
    "\n",
    "num = 20\n",
    "hundreds = num // 100\n",
    "tens = (num % 100) // 10\n",
    "ones = (num %100) % 10\n",
    "result = ''\n",
    "if hundreds: result += FIRST_TEN[hundreds - 1] + ' ' + HUNDRED + ' '\n",
    "if tens: \n",
    "    if tens > 1 and ones: result += OTHER_TENS[tens - 2] + ' ' + FIRST_TEN[ones -1]\n",
    "    elif tens > 1: result += OTHER_TENS[tens - 2] + ' '\n",
    "    else: result += SECOND_TEN[ones]\n",
    "if ones and not tens: result += FIRST_TEN[ones -1]\n",
    "\n",
    "result"
   ]
  },
  {
   "cell_type": "code",
   "execution_count": 10,
   "metadata": {},
   "outputs": [
    {
     "data": {
      "text/plain": [
       "[1, 1, 7, 5]"
      ]
     },
     "execution_count": 10,
     "metadata": {},
     "output_type": "execute_result"
    }
   ],
   "source": [
    "arr  = [3, 3, 2, 9, 7]\n",
    "[i  for i in [i - min(arr) if i != 0 else 0 for i in arr] if i != 0]\n"
   ]
  },
  {
   "cell_type": "code",
   "execution_count": 11,
   "metadata": {},
   "outputs": [
    {
     "data": {
      "text/plain": [
       "'theStealthWarrior'"
      ]
     },
     "execution_count": 11,
     "metadata": {},
     "output_type": "execute_result"
    }
   ],
   "source": [
    "\n",
    "text = \"the_stealth_warrior\"\n",
    "text = ''.join(list((map(lambda x: ' ' if x in ('_', '-') else x, text)))).split()\n",
    "text[0] + ''.join(i.capitalize() for i in text[1:])\n",
    "\n"
   ]
  }
 ],
 "metadata": {
  "kernelspec": {
   "display_name": "Python 3",
   "language": "python",
   "name": "python3"
  },
  "language_info": {
   "codemirror_mode": {
    "name": "ipython",
    "version": 3
   },
   "file_extension": ".py",
   "mimetype": "text/x-python",
   "name": "python",
   "nbconvert_exporter": "python",
   "pygments_lexer": "ipython3",
   "version": "3.9.10"
  },
  "orig_nbformat": 4
 },
 "nbformat": 4,
 "nbformat_minor": 2
}
